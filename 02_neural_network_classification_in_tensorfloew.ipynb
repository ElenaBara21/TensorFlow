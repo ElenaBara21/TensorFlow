{
  "nbformat": 4,
  "nbformat_minor": 0,
  "metadata": {
    "colab": {
      "name": "02_neural_network_classification_in_tensorfloew.ipynb",
      "provenance": [],
      "collapsed_sections": [],
      "authorship_tag": "ABX9TyO2sYmyLrdtIKB1lB5LLYrQ",
      "include_colab_link": true
    },
    "kernelspec": {
      "name": "python3",
      "display_name": "Python 3"
    },
    "language_info": {
      "name": "python"
    }
  },
  "cells": [
    {
      "cell_type": "markdown",
      "metadata": {
        "id": "view-in-github",
        "colab_type": "text"
      },
      "source": [
        "<a href=\"https://colab.research.google.com/github/ElenaBara21/TensorFlow/blob/main/02_neural_network_classification_in_tensorfloew.ipynb\" target=\"_parent\"><img src=\"https://colab.research.google.com/assets/colab-badge.svg\" alt=\"Open In Colab\"/></a>"
      ]
    },
    {
      "cell_type": "code",
      "execution_count": null,
      "metadata": {
        "id": "ddl_ZMM7vcHw"
      },
      "outputs": [],
      "source": [
        ""
      ]
    },
    {
      "cell_type": "markdown",
      "source": [
        "# Intro to neural network classification\n",
        "\n",
        "**Binary classification** - 2 things - spam not spam\n",
        "\n",
        "**Multiclass classification** - more than 2 things(one photo - sushi, one photo stake etc)\n",
        "\n",
        "**Multilabel classification** - multiple label per sample(one article three labels - machine learning, Artificial intellegence, etc)\n",
        "\n",
        "# Classification inputs and outputs\n",
        "\n",
        "we know input -> Machine learning -> we know output\n",
        "\n",
        "gets represented as a tensor\n",
        "[batch_size, width, height, colour_channels]\n",
        "\n",
        "shape = [None, 224, 224, 3]\n",
        "shape = [32, 224, 224, 3]\n",
        "*32 is a very common batch size\n",
        "\n",
        "this shapes vary on your classification problem you're working on"
      ],
      "metadata": {
        "id": "Fndp02NLwIXe"
      }
    },
    {
      "cell_type": "markdown",
      "source": [
        "# (typical) Archetecture of a classification model(we're going to be building lots of these)\n",
        "table from tensor flow or page295\n"
      ],
      "metadata": {
        "id": "okezVbBL7qPK"
      }
    },
    {
      "cell_type": "code",
      "source": [
        "#1. Create a model (specified to your problem) - Input layer shape:\n",
        "tf.keras.Input(shape=224,224,3)),# same as number of features(age, sex, height, weight, smoking status)\n",
        "tf.keras.layers.Dense(100, activation=\"relu\"),# where hidden layers problem specific generally 10 to 100 unlimited\n",
        "#above 100 means neurons per hidden layer\n",
        "tf.keras.layers.Dense(3, activation=\"softmax\")# 3 is output layer shape 1 one class(3 for food, person or a dog photo), 1 per class in multiclass\n",
        "#activation = relu - hidden activation usually RELurecltified linear unit\n",
        "#loss function cross entropy(tf.keras.losses.BinaryCrossentropy in ->\n",
        "#->tensorflow)\n",
        "#Optimizer = SGD(stochastic gradient descent), Adam\n",
        "])"
      ],
      "metadata": {
        "id": "A-f037WL7Pw2"
      },
      "execution_count": null,
      "outputs": []
    }
  ]
}