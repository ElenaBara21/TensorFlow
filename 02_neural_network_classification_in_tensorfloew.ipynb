{
  "nbformat": 4,
  "nbformat_minor": 0,
  "metadata": {
    "colab": {
      "name": "02_neural_network_classification_in_tensorfloew.ipynb",
      "provenance": [],
      "collapsed_sections": [],
      "authorship_tag": "ABX9TyP43ffdaCPlmbOMdxjGaBQk",
      "include_colab_link": true
    },
    "kernelspec": {
      "name": "python3",
      "display_name": "Python 3"
    },
    "language_info": {
      "name": "python"
    }
  },
  "cells": [
    {
      "cell_type": "markdown",
      "metadata": {
        "id": "view-in-github",
        "colab_type": "text"
      },
      "source": [
        "<a href=\"https://colab.research.google.com/github/ElenaBara21/TensorFlow/blob/main/02_neural_network_classification_in_tensorfloew.ipynb\" target=\"_parent\"><img src=\"https://colab.research.google.com/assets/colab-badge.svg\" alt=\"Open In Colab\"/></a>"
      ]
    },
    {
      "cell_type": "code",
      "execution_count": 54,
      "metadata": {
        "id": "ddl_ZMM7vcHw"
      },
      "outputs": [],
      "source": [
        ""
      ]
    },
    {
      "cell_type": "markdown",
      "source": [
        "# Intro to neural network classification\n",
        "\n",
        "**Binary classification** - 2 things - spam not spam\n",
        "\n",
        "**Multiclass classification** - more than 2 things(one photo - sushi, one photo stake etc)\n",
        "\n",
        "**Multilabel classification** - multiple label per sample(one article three labels - machine learning, Artificial intellegence, etc)\n",
        "\n",
        "# Classification inputs and outputs\n",
        "\n",
        "we know input -> Machine learning -> we know output\n",
        "\n",
        "gets represented as a tensor\n",
        "[batch_size, width, height, colour_channels]\n",
        "\n",
        "shape = [None, 224, 224, 3]\n",
        "shape = [32, 224, 224, 3]\n",
        "*32 is a very common batch size\n",
        "\n",
        "this shapes vary on your classification problem you're working on"
      ],
      "metadata": {
        "id": "Fndp02NLwIXe"
      }
    },
    {
      "cell_type": "markdown",
      "source": [
        "# (typical) Archetecture of a classification model(we're going to be building lots of these)\n",
        "Classification is where you try to classify something as one thing or another:\n",
        "a few types:\n",
        "* Binary\n",
        "* Multiclass classification\n",
        "* Multilabel classification\n",
        "\n",
        "\n",
        "table from tensor flow or page295 below explanation\n"
      ],
      "metadata": {
        "id": "okezVbBL7qPK"
      }
    },
    {
      "cell_type": "code",
      "source": [
        "#1. Create a model (specified to your problem) - Input layer shape:\n",
        "# tf.keras.Input(shape=224,224,3)),# same as number of features(age, sex, height, weight, smoking status)\n",
        "# tf.keras.layers.Dense(100, activation=\"relu\"),# where hidden layers problem specific generally 10 to 100 unlimited\n",
        "# #above 100 means neurons per hidden layer\n",
        "# tf.keras.layers.Dense(3, activation=\"softmax\")# 3 is output layer shape 1 one class(3 for food, person or a dog photo), 1 per class in multiclass\n",
        "#activation = relu - hidden activation usually RELurecltified linear unit\n",
        "#loss function cross entropy(tf.keras.losses.BinaryCrossentropy in ->\n",
        "#->tensorflow)\n",
        "#Optimizer = SGD(stochastic gradient descent), Adam\n",
        "#])"
      ],
      "metadata": {
        "id": "A-f037WL7Pw2"
      },
      "execution_count": 55,
      "outputs": []
    },
    {
      "cell_type": "code",
      "source": [
        "## Creating data to view and fit\n",
        "from sklearn.datasets import make_circles\n",
        "\n",
        "n_samples = 1000\n",
        "#make 1000 examples\n",
        "X, y = make_circles(n_samples,\n",
        "                    noise=0.03,\n",
        "                    random_state=42)"
      ],
      "metadata": {
        "id": "edNt0rR4MHyp"
      },
      "execution_count": 56,
      "outputs": []
    },
    {
      "cell_type": "code",
      "source": [
        "# Check out feautures\n",
        "X"
      ],
      "metadata": {
        "colab": {
          "base_uri": "https://localhost:8080/"
        },
        "id": "B3bGkQ6INgKW",
        "outputId": "7e4edee8-5ad1-40cb-86cd-1bb75efc83b9"
      },
      "execution_count": 57,
      "outputs": [
        {
          "output_type": "execute_result",
          "data": {
            "text/plain": [
              "array([[ 0.75424625,  0.23148074],\n",
              "       [-0.75615888,  0.15325888],\n",
              "       [-0.81539193,  0.17328203],\n",
              "       ...,\n",
              "       [-0.13690036, -0.81001183],\n",
              "       [ 0.67036156, -0.76750154],\n",
              "       [ 0.28105665,  0.96382443]])"
            ]
          },
          "metadata": {},
          "execution_count": 57
        }
      ]
    },
    {
      "cell_type": "code",
      "source": [
        "#Check the labels\n",
        "y[:10]"
      ],
      "metadata": {
        "colab": {
          "base_uri": "https://localhost:8080/"
        },
        "id": "OlUSRY7NOwrp",
        "outputId": "9649e088-33fd-43d8-d677-0e88c68739cd"
      },
      "execution_count": 58,
      "outputs": [
        {
          "output_type": "execute_result",
          "data": {
            "text/plain": [
              "array([1, 1, 1, 1, 0, 1, 1, 1, 1, 0])"
            ]
          },
          "metadata": {},
          "execution_count": 58
        }
      ]
    },
    {
      "cell_type": "markdown",
      "source": [
        "# Our data is difficult to understand right now ... lets visualize it!\n"
      ],
      "metadata": {
        "id": "kCDWDnn8PuE3"
      }
    },
    {
      "cell_type": "code",
      "source": [
        "import pandas as pd\n",
        "circles = pd.DataFrame({\"X0\":X[:, 0], \"X1\": X[:, 1], \"label\":y})\n",
        "circles"
      ],
      "metadata": {
        "colab": {
          "base_uri": "https://localhost:8080/",
          "height": 423
        },
        "id": "wTkGVoSMPsh4",
        "outputId": "f19bc0f9-6e00-48a0-dfbc-a748e3fef7f6"
      },
      "execution_count": 59,
      "outputs": [
        {
          "output_type": "execute_result",
          "data": {
            "text/plain": [
              "           X0        X1  label\n",
              "0    0.754246  0.231481      1\n",
              "1   -0.756159  0.153259      1\n",
              "2   -0.815392  0.173282      1\n",
              "3   -0.393731  0.692883      1\n",
              "4    0.442208 -0.896723      0\n",
              "..        ...       ...    ...\n",
              "995  0.244054  0.944125      0\n",
              "996 -0.978655 -0.272373      0\n",
              "997 -0.136900 -0.810012      1\n",
              "998  0.670362 -0.767502      0\n",
              "999  0.281057  0.963824      0\n",
              "\n",
              "[1000 rows x 3 columns]"
            ],
            "text/html": [
              "\n",
              "  <div id=\"df-59873780-dde6-4533-b4f5-cff974fb41eb\">\n",
              "    <div class=\"colab-df-container\">\n",
              "      <div>\n",
              "<style scoped>\n",
              "    .dataframe tbody tr th:only-of-type {\n",
              "        vertical-align: middle;\n",
              "    }\n",
              "\n",
              "    .dataframe tbody tr th {\n",
              "        vertical-align: top;\n",
              "    }\n",
              "\n",
              "    .dataframe thead th {\n",
              "        text-align: right;\n",
              "    }\n",
              "</style>\n",
              "<table border=\"1\" class=\"dataframe\">\n",
              "  <thead>\n",
              "    <tr style=\"text-align: right;\">\n",
              "      <th></th>\n",
              "      <th>X0</th>\n",
              "      <th>X1</th>\n",
              "      <th>label</th>\n",
              "    </tr>\n",
              "  </thead>\n",
              "  <tbody>\n",
              "    <tr>\n",
              "      <th>0</th>\n",
              "      <td>0.754246</td>\n",
              "      <td>0.231481</td>\n",
              "      <td>1</td>\n",
              "    </tr>\n",
              "    <tr>\n",
              "      <th>1</th>\n",
              "      <td>-0.756159</td>\n",
              "      <td>0.153259</td>\n",
              "      <td>1</td>\n",
              "    </tr>\n",
              "    <tr>\n",
              "      <th>2</th>\n",
              "      <td>-0.815392</td>\n",
              "      <td>0.173282</td>\n",
              "      <td>1</td>\n",
              "    </tr>\n",
              "    <tr>\n",
              "      <th>3</th>\n",
              "      <td>-0.393731</td>\n",
              "      <td>0.692883</td>\n",
              "      <td>1</td>\n",
              "    </tr>\n",
              "    <tr>\n",
              "      <th>4</th>\n",
              "      <td>0.442208</td>\n",
              "      <td>-0.896723</td>\n",
              "      <td>0</td>\n",
              "    </tr>\n",
              "    <tr>\n",
              "      <th>...</th>\n",
              "      <td>...</td>\n",
              "      <td>...</td>\n",
              "      <td>...</td>\n",
              "    </tr>\n",
              "    <tr>\n",
              "      <th>995</th>\n",
              "      <td>0.244054</td>\n",
              "      <td>0.944125</td>\n",
              "      <td>0</td>\n",
              "    </tr>\n",
              "    <tr>\n",
              "      <th>996</th>\n",
              "      <td>-0.978655</td>\n",
              "      <td>-0.272373</td>\n",
              "      <td>0</td>\n",
              "    </tr>\n",
              "    <tr>\n",
              "      <th>997</th>\n",
              "      <td>-0.136900</td>\n",
              "      <td>-0.810012</td>\n",
              "      <td>1</td>\n",
              "    </tr>\n",
              "    <tr>\n",
              "      <th>998</th>\n",
              "      <td>0.670362</td>\n",
              "      <td>-0.767502</td>\n",
              "      <td>0</td>\n",
              "    </tr>\n",
              "    <tr>\n",
              "      <th>999</th>\n",
              "      <td>0.281057</td>\n",
              "      <td>0.963824</td>\n",
              "      <td>0</td>\n",
              "    </tr>\n",
              "  </tbody>\n",
              "</table>\n",
              "<p>1000 rows × 3 columns</p>\n",
              "</div>\n",
              "      <button class=\"colab-df-convert\" onclick=\"convertToInteractive('df-59873780-dde6-4533-b4f5-cff974fb41eb')\"\n",
              "              title=\"Convert this dataframe to an interactive table.\"\n",
              "              style=\"display:none;\">\n",
              "        \n",
              "  <svg xmlns=\"http://www.w3.org/2000/svg\" height=\"24px\"viewBox=\"0 0 24 24\"\n",
              "       width=\"24px\">\n",
              "    <path d=\"M0 0h24v24H0V0z\" fill=\"none\"/>\n",
              "    <path d=\"M18.56 5.44l.94 2.06.94-2.06 2.06-.94-2.06-.94-.94-2.06-.94 2.06-2.06.94zm-11 1L8.5 8.5l.94-2.06 2.06-.94-2.06-.94L8.5 2.5l-.94 2.06-2.06.94zm10 10l.94 2.06.94-2.06 2.06-.94-2.06-.94-.94-2.06-.94 2.06-2.06.94z\"/><path d=\"M17.41 7.96l-1.37-1.37c-.4-.4-.92-.59-1.43-.59-.52 0-1.04.2-1.43.59L10.3 9.45l-7.72 7.72c-.78.78-.78 2.05 0 2.83L4 21.41c.39.39.9.59 1.41.59.51 0 1.02-.2 1.41-.59l7.78-7.78 2.81-2.81c.8-.78.8-2.07 0-2.86zM5.41 20L4 18.59l7.72-7.72 1.47 1.35L5.41 20z\"/>\n",
              "  </svg>\n",
              "      </button>\n",
              "      \n",
              "  <style>\n",
              "    .colab-df-container {\n",
              "      display:flex;\n",
              "      flex-wrap:wrap;\n",
              "      gap: 12px;\n",
              "    }\n",
              "\n",
              "    .colab-df-convert {\n",
              "      background-color: #E8F0FE;\n",
              "      border: none;\n",
              "      border-radius: 50%;\n",
              "      cursor: pointer;\n",
              "      display: none;\n",
              "      fill: #1967D2;\n",
              "      height: 32px;\n",
              "      padding: 0 0 0 0;\n",
              "      width: 32px;\n",
              "    }\n",
              "\n",
              "    .colab-df-convert:hover {\n",
              "      background-color: #E2EBFA;\n",
              "      box-shadow: 0px 1px 2px rgba(60, 64, 67, 0.3), 0px 1px 3px 1px rgba(60, 64, 67, 0.15);\n",
              "      fill: #174EA6;\n",
              "    }\n",
              "\n",
              "    [theme=dark] .colab-df-convert {\n",
              "      background-color: #3B4455;\n",
              "      fill: #D2E3FC;\n",
              "    }\n",
              "\n",
              "    [theme=dark] .colab-df-convert:hover {\n",
              "      background-color: #434B5C;\n",
              "      box-shadow: 0px 1px 3px 1px rgba(0, 0, 0, 0.15);\n",
              "      filter: drop-shadow(0px 1px 2px rgba(0, 0, 0, 0.3));\n",
              "      fill: #FFFFFF;\n",
              "    }\n",
              "  </style>\n",
              "\n",
              "      <script>\n",
              "        const buttonEl =\n",
              "          document.querySelector('#df-59873780-dde6-4533-b4f5-cff974fb41eb button.colab-df-convert');\n",
              "        buttonEl.style.display =\n",
              "          google.colab.kernel.accessAllowed ? 'block' : 'none';\n",
              "\n",
              "        async function convertToInteractive(key) {\n",
              "          const element = document.querySelector('#df-59873780-dde6-4533-b4f5-cff974fb41eb');\n",
              "          const dataTable =\n",
              "            await google.colab.kernel.invokeFunction('convertToInteractive',\n",
              "                                                     [key], {});\n",
              "          if (!dataTable) return;\n",
              "\n",
              "          const docLinkHtml = 'Like what you see? Visit the ' +\n",
              "            '<a target=\"_blank\" href=https://colab.research.google.com/notebooks/data_table.ipynb>data table notebook</a>'\n",
              "            + ' to learn more about interactive tables.';\n",
              "          element.innerHTML = '';\n",
              "          dataTable['output_type'] = 'display_data';\n",
              "          await google.colab.output.renderOutput(dataTable, element);\n",
              "          const docLink = document.createElement('div');\n",
              "          docLink.innerHTML = docLinkHtml;\n",
              "          element.appendChild(docLink);\n",
              "        }\n",
              "      </script>\n",
              "    </div>\n",
              "  </div>\n",
              "  "
            ]
          },
          "metadata": {},
          "execution_count": 59
        }
      ]
    },
    {
      "cell_type": "code",
      "source": [
        "#Visualize with a plot\n",
        "import matplotlib.pyplot as plt\n",
        "plt.scatter(X[:, 0], X[:, 1], c=y, cmap=plt.cm.RdYlBu);"
      ],
      "metadata": {
        "colab": {
          "base_uri": "https://localhost:8080/",
          "height": 264
        },
        "id": "JzJWaZUYSTps",
        "outputId": "9de660b4-b286-41ea-d2db-9bb812da1573"
      },
      "execution_count": 60,
      "outputs": [
        {
          "output_type": "display_data",
          "data": {
            "text/plain": [
              "<Figure size 432x288 with 1 Axes>"
            ],
            "image/png": "[encoded data removed]"
          },
          "metadata": {
            "needs_background": "light"
          }
        }
      ]
    },
    {
      "cell_type": "code",
      "source": [
        "#Check the shapes of our features and labels\n",
        "X.shape, y.shape"
      ],
      "metadata": {
        "colab": {
          "base_uri": "https://localhost:8080/"
        },
        "id": "jq1BhFyrWIxv",
        "outputId": "0b26aa2e-1c39-482c-df79-28379d8a445f"
      },
      "execution_count": 61,
      "outputs": [
        {
          "output_type": "execute_result",
          "data": {
            "text/plain": [
              "((1000, 2), (1000,))"
            ]
          },
          "metadata": {},
          "execution_count": 61
        }
      ]
    },
    {
      "cell_type": "code",
      "source": [
        "#How to check how many samples we're working\n",
        "len(X), len(y)\n"
      ],
      "metadata": {
        "colab": {
          "base_uri": "https://localhost:8080/"
        },
        "id": "Q_LxWFUHWnKg",
        "outputId": "d247aa4a-f050-4a9d-9c06-9b4b9e72e367"
      },
      "execution_count": 62,
      "outputs": [
        {
          "output_type": "execute_result",
          "data": {
            "text/plain": [
              "(1000, 1000)"
            ]
          },
          "metadata": {},
          "execution_count": 62
        }
      ]
    },
    {
      "cell_type": "code",
      "source": [
        "# View the first example of features and labels\n",
        "X[0], y[0]\n"
      ],
      "metadata": {
        "colab": {
          "base_uri": "https://localhost:8080/"
        },
        "id": "KqF-Tx3-XClp",
        "outputId": "7ab6bd96-e27b-4e5e-f4eb-d71097db9f84"
      },
      "execution_count": 63,
      "outputs": [
        {
          "output_type": "execute_result",
          "data": {
            "text/plain": [
              "(array([0.75424625, 0.23148074]), 1)"
            ]
          },
          "metadata": {},
          "execution_count": 63
        }
      ]
    },
    {
      "cell_type": "markdown",
      "source": [
        "## Steps in modelling with Tensor Flow are typically:\n",
        "1. Create or import a model\n",
        "2. Compile the model\n",
        "3. Fit the model\n",
        "4. Evaluate the model\n",
        "5. Tweak\n",
        "6. Evaluate"
      ],
      "metadata": {
        "id": "XBCDJu1OZDQ6"
      }
    },
    {
      "cell_type": "code",
      "source": [
        "import tensorflow as tf\n",
        "tf.__version__"
      ],
      "metadata": {
        "colab": {
          "base_uri": "https://localhost:8080/",
          "height": 35
        },
        "id": "KSt62Hw8cQBY",
        "outputId": "342a525f-4e4f-4aab-97c6-45eec9fbd74c"
      },
      "execution_count": 64,
      "outputs": [
        {
          "output_type": "execute_result",
          "data": {
            "text/plain": [
              "'2.8.0'"
            ],
            "application/vnd.google.colaboratory.intrinsic+json": {
              "type": "string"
            }
          },
          "metadata": {},
          "execution_count": 64
        }
      ]
    },
    {
      "cell_type": "code",
      "source": [
        "# Set random seed\n",
        "tf.random.set_seed(42)\n",
        "\n",
        "# 1. Create the model using the Sequential API\n",
        "model_1 = tf.keras.Sequential([\n",
        "  tf.keras.layers.Dense(1)\n",
        "])\n",
        "\n",
        "# 2. Compile the model\n",
        "model_1.compile(loss=tf.keras.losses.BinaryCrossentropy(), # binary since we are working with 2 clases (0 & 1)\n",
        "                optimizer=tf.keras.optimizers.SGD(),\n",
        "                metrics=['accuracy'])\n",
        "\n",
        "# 3. Fit the model\n",
        "model_1.fit(X, y, epochs=5)"
      ],
      "metadata": {
        "colab": {
          "base_uri": "https://localhost:8080/",
          "height": 234
        },
        "id": "8sTiLSrtZ3Nt",
        "outputId": "6b4ddd41-d059-48e1-ee0d-7aa0dcff42a7"
      },
      "execution_count": 66,
      "outputs": [
        {
          "output_type": "error",
          "ename": "TypeError",
          "evalue": "ignored",
          "traceback": [
            "\u001b[0;31m---------------------------------------------------------------------------\u001b[0m",
            "\u001b[0;31mTypeError\u001b[0m                                 Traceback (most recent call last)",
            "\u001b[0;32m<ipython-input-66-e6e78ffacabc>\u001b[0m in \u001b[0;36m<module>\u001b[0;34m()\u001b[0m\n\u001b[1;32m      1\u001b[0m \u001b[0;31m# Set random seed\u001b[0m\u001b[0;34m\u001b[0m\u001b[0;34m\u001b[0m\u001b[0;34m\u001b[0m\u001b[0m\n\u001b[0;32m----> 2\u001b[0;31m \u001b[0mtf\u001b[0m\u001b[0;34m.\u001b[0m\u001b[0mrandom\u001b[0m\u001b[0;34m.\u001b[0m\u001b[0mset_seed\u001b[0m\u001b[0;34m(\u001b[0m\u001b[0;36m42\u001b[0m\u001b[0;34m)\u001b[0m\u001b[0;34m\u001b[0m\u001b[0;34m\u001b[0m\u001b[0m\n\u001b[0m\u001b[1;32m      3\u001b[0m \u001b[0;34m\u001b[0m\u001b[0m\n\u001b[1;32m      4\u001b[0m \u001b[0;31m# 1. Create the model using the Sequential API\u001b[0m\u001b[0;34m\u001b[0m\u001b[0;34m\u001b[0m\u001b[0;34m\u001b[0m\u001b[0m\n\u001b[1;32m      5\u001b[0m model_1 = tf.keras.Sequential([\n",
            "\u001b[0;31mTypeError\u001b[0m: 'int' object is not callable"
          ]
        }
      ]
    },
    {
      "cell_type": "code",
      "source": [
        "# Lets try and improve for longer\n",
        "\n",
        "model_1.fit(X, y, epochs=200, verbose=0)\n",
        "model_1.evaluate(X, y)"
      ],
      "metadata": {
        "id": "ze3lzAG8Xjjv",
        "colab": {
          "base_uri": "https://localhost:8080/"
        },
        "outputId": "3100d17c-2b6f-4e48-f6d0-070a350020ef"
      },
      "execution_count": 67,
      "outputs": [
        {
          "output_type": "stream",
          "name": "stdout",
          "text": [
            "32/32 [==============================] - 0s 1ms/step - loss: 0.6935 - accuracy: 0.5000\n"
          ]
        },
        {
          "output_type": "execute_result",
          "data": {
            "text/plain": [
              "[0.6934831142425537, 0.5]"
            ]
          },
          "metadata": {},
          "execution_count": 67
        }
      ]
    },
    {
      "cell_type": "markdown",
      "source": [
        "Since we're working on a binary classification problem our model is getting around - 50% accuracy its performing as if its guessing.\n",
        "\n",
        "So lets step things up a notch and add an extra layer."
      ],
      "metadata": {
        "id": "WXyRDBFIfBKo"
      }
    },
    {
      "cell_type": "code",
      "source": [
        "#Set the random seed \n",
        "tf.random.set_seed=42\n",
        "\n",
        "# 1. Create the model using the Sequential API\n",
        "tf.keras.layers.Dense(1),\n",
        "model_2 = tf.keras.Sequential([\n",
        "  tf.keras.layers.Dense(1),\n",
        "  tf.keras.layers.Dense(1),\n",
        "\n",
        "])\n",
        "\n",
        "#2. Compile the model \n",
        "model_2.compile(loss=tf.keras.losses.BinaryCrossentropy(),\n",
        "                optimizer=tf.keras.optimizers.SGD(),\n",
        "                metrics=[\"accuracy\"])\n",
        "\n",
        "# 3. Fit the model\n",
        "model_2.fit(X, y, epochs=100, verbose=0)"
      ],
      "metadata": {
        "colab": {
          "base_uri": "https://localhost:8080/"
        },
        "id": "7OTWbJexfwag",
        "outputId": "d01343fe-4a51-4631-b54f-1e4ae049867d"
      },
      "execution_count": 68,
      "outputs": [
        {
          "output_type": "execute_result",
          "data": {
            "text/plain": [
              "<keras.callbacks.History at 0x7f77ec585a10>"
            ]
          },
          "metadata": {},
          "execution_count": 68
        }
      ]
    },
    {
      "cell_type": "code",
      "source": [
        "#4.Evaluate the model\n",
        "model_2.evaluate(X, y)\n"
      ],
      "metadata": {
        "colab": {
          "base_uri": "https://localhost:8080/"
        },
        "id": "Wkoj_MrFheU1",
        "outputId": "ace95551-1757-4ca1-c385-725941f57e4f"
      },
      "execution_count": 69,
      "outputs": [
        {
          "output_type": "stream",
          "name": "stdout",
          "text": [
            "32/32 [==============================] - 0s 1ms/step - loss: 0.6937 - accuracy: 0.5000\n"
          ]
        },
        {
          "output_type": "execute_result",
          "data": {
            "text/plain": [
              "[0.693716824054718, 0.5]"
            ]
          },
          "metadata": {},
          "execution_count": 69
        }
      ]
    },
    {
      "cell_type": "code",
      "source": [
        "circles[\"label\"].value_counts()"
      ],
      "metadata": {
        "colab": {
          "base_uri": "https://localhost:8080/"
        },
        "id": "x1QYIagKhNye",
        "outputId": "3576ca8e-dfc5-4a6e-b195-4489366b31de"
      },
      "execution_count": 70,
      "outputs": [
        {
          "output_type": "execute_result",
          "data": {
            "text/plain": [
              "1    500\n",
              "0    500\n",
              "Name: label, dtype: int64"
            ]
          },
          "metadata": {},
          "execution_count": 70
        }
      ]
    },
    {
      "cell_type": "markdown",
      "source": [
        "### Improving our model\n",
        "\n",
        "Lets look into our bag of tricks to see how we can improve our model\n",
        "\n",
        "1. Create a model we might more layers or increase the number of hidden units within a layer.\n",
        "2. Compile a model - here we might to choose a different optimization function such as Adam or SGD\n",
        "3. Fitting a model - perhaps we might fit our model for more epochs(leave it training for longer"
      ],
      "metadata": {
        "id": "DaqR3IAuhuqx"
      }
    },
    {
      "cell_type": "code",
      "source": [
        "#Set the random seed \n",
        "tf.random.set_seed=42\n",
        "\n",
        "# 1. Create the model using the Sequential API\n",
        "\n",
        "model_3 = tf.keras.Sequential([\n",
        "  tf.keras.layers.Dense(100), #add 100 dense neurons\n",
        "  tf.keras.layers.Dense(10), # add another layer with 10 neurons\n",
        "  tf.keras.layers.Dense(1)\n",
        "])\n",
        "\n",
        "#2. Compile the model \n",
        "model_3.compile(loss=tf.keras.losses.BinaryCrossentropy(),\n",
        "                optimizer=tf.keras.optimizers.Adam(),\n",
        "                metrics=[\"accuracy\"])\n",
        "\n",
        "# 3. Fit the model\n",
        "model_3.fit(X, y, epochs=100, verbose=0)\n",
        "\n"
      ],
      "metadata": {
        "colab": {
          "base_uri": "https://localhost:8080/"
        },
        "id": "85oJYTCkj6h5",
        "outputId": "3a031482-a87a-4446-e22c-d414acb84b63"
      },
      "execution_count": 71,
      "outputs": [
        {
          "output_type": "execute_result",
          "data": {
            "text/plain": [
              "<keras.callbacks.History at 0x7f77ea2432d0>"
            ]
          },
          "metadata": {},
          "execution_count": 71
        }
      ]
    },
    {
      "cell_type": "code",
      "source": [
        "# Evaluate the model\n",
        "model_3.evaluate(X, y)"
      ],
      "metadata": {
        "colab": {
          "base_uri": "https://localhost:8080/"
        },
        "id": "qck6b4Hmk94N",
        "outputId": "b43c66dd-d038-40b6-aba8-8bb0a881e69b"
      },
      "execution_count": 72,
      "outputs": [
        {
          "output_type": "stream",
          "name": "stdout",
          "text": [
            "32/32 [==============================] - 0s 1ms/step - loss: 0.6993 - accuracy: 0.5070\n"
          ]
        },
        {
          "output_type": "execute_result",
          "data": {
            "text/plain": [
              "[0.6993402242660522, 0.5070000290870667]"
            ]
          },
          "metadata": {},
          "execution_count": 72
        }
      ]
    },
    {
      "cell_type": "markdown",
      "source": [
        "#To vizualise our model predictions lets create a function \"plot decision boundary()\" this functon will:\n",
        " * take in a trained model features(X) and labels(y)\n",
        " * Create a meshgrid of the different X values\n",
        " * Make predictions around the meshgrid\n",
        " * Plot the predictions as well as a line between zones (where each unique class  falls)"
      ],
      "metadata": {
        "id": "r962AVGPmJXk"
      }
    },
    {
      "cell_type": "code",
      "source": [
        "import numpy as np"
      ],
      "metadata": {
        "id": "QV3IM427n7qc"
      },
      "execution_count": 73,
      "outputs": []
    },
    {
      "cell_type": "code",
      "source": [
        "\n",
        "def plot_decision_boundary(model, X, y):\n",
        "  x_min, x_max = X[:, 0].min() - 0.1, X[:, 0].max() + 0.1\n",
        "  y_min, y_max = X[:, 1].min() - 0.1, X[:, 1].max() + 0.1\n",
        "  xx, yy = np. meshgrid(np.linspace(x_min, x_max, 100),\n",
        "                        np.linspace(y_min, y_max, 100))\n",
        "  # Create X values (we're going to predict on all of these)\n",
        "  x_in = np.c_[xx.ravel(), yy.ravel()] # stack 2D arrays together: https://numpy.org/devdocs/reference/generated/numpy.c_.html\n",
        "\n",
        "  # Make predictions using the trained model\n",
        "  y_pred = model.predict(x_in)\n",
        "\n",
        "  # Check for multi-class\n",
        "  if len(y_pred[0]) > 1:\n",
        "    print(\"doing multiclass classification...\")\n",
        "  # We have to reshape our predictions to get them ready for plotting\n",
        "    y_pred = np.argmax(y_pred, axis=1).reshape(xx.shape)\n",
        "  else:\n",
        "    \n",
        "    print(\"doing binary classifcation...\")\n",
        "    y_pred = np.round(y_pred).reshape(xx.shape)\n",
        "\n",
        "  # Plot decision boundary\n",
        "  plt.contourf(xx, yy, y_pred, cmap=plt.cm.RdYlBu, alpha=0.7)\n",
        "  plt.scatter(X[:, 0], X[:, 1], c=y, s=40, cmap=plt.cm.RdYlBu)\n",
        "  plt.xlim(xx.min(), xx.max())\n",
        "  plt.ylim(yy.min(), yy.max())"
      ],
      "metadata": {
        "id": "C-Gdmv11lqPN"
      },
      "execution_count": 74,
      "outputs": []
    },
    {
      "cell_type": "code",
      "source": [
        ""
      ],
      "metadata": {
        "id": "W91Llr3Son78"
      },
      "execution_count": 74,
      "outputs": []
    },
    {
      "cell_type": "code",
      "source": [
        "plot_decision_boundary(model_3, X, y)"
      ],
      "metadata": {
        "colab": {
          "base_uri": "https://localhost:8080/",
          "height": 282
        },
        "id": "bl7tRFsesGNv",
        "outputId": "a6d1111c-dda0-4157-bd22-dd1e75ff69c7"
      },
      "execution_count": 75,
      "outputs": [
        {
          "output_type": "stream",
          "name": "stdout",
          "text": [
            "doing binary classifcation...\n"
          ]
        },
        {
          "output_type": "display_data",
          "data": {
            "text/plain": [
              "<Figure size 432x288 with 1 Axes>"
            ],
            "image/png": "[encoded data removed]"
          },
          "metadata": {
            "needs_background": "light"
          }
        }
      ]
    },
    {
      "cell_type": "code",
      "source": [
        "# Lets see if our model can be used for a regression problem...\n",
        "\n",
        "tf.random.set_seed=42\n",
        "\n",
        "#Create some regression\n",
        "X_regression = tf.range(0, 1000, 5)\n",
        "y_regression = tf.range(100, 1100, 5) #y = x + 100\n",
        "\n",
        "# Split our regression data into training and test sets\n",
        "X_reg_train = X_regression[:150]\n",
        "X_reg_test = X_regression[150:]\n",
        "y_reg_train = y_regression[:150]\n",
        "y_reg_test = y_regression[150:]\n",
        "\n",
        "#Fit our model to the regression problem\n"
      ],
      "metadata": {
        "id": "iF_x1OSYSOM0"
      },
      "execution_count": 76,
      "outputs": []
    },
    {
      "cell_type": "code",
      "source": [
        "# Set random seed\n",
        "tf.random.set_seed=42\n",
        " \n",
        "# 1. Create the model (this time 3 layers)\n",
        "model_3 = tf.keras.Sequential([\n",
        "  ## Before TensorFlow 2.7.0\n",
        "  # tf.keras.layers.Dense(100), # add 100 dense neurons\n",
        " \n",
        "  ## After TensorFlow 2.7.0\n",
        "  tf.keras.layers.Dense(100, input_shape=(None, 1)), # <- define input_shape here\n",
        "  tf.keras.layers.Dense(10), # add another layer with 10 neurons\n",
        "  tf.keras.layers.Dense(1)\n",
        "])\n",
        " \n",
        "# 2. Compile the model\n",
        "model_3.compile(loss=tf.keras.losses.BinaryCrossentropy(),\n",
        "                optimizer=tf.keras.optimizers.Adam(), # use Adam instead of SGD\n",
        "                metrics=['accuracy'])"
      ],
      "metadata": {
        "id": "zYHSIAuLXjw1"
      },
      "execution_count": 77,
      "outputs": []
    },
    {
      "cell_type": "code",
      "source": [
        "# Set random seed\n",
        "tf.random.set_seed=42\n",
        " \n",
        "# Create some regression data\n",
        "X_regression = np.arange(0, 1000, 5)\n",
        "y_regression = np.arange(100, 1100, 5)\n",
        " \n",
        "# Split it into training and test sets\n",
        "X_reg_train = X_regression[:150]\n",
        "X_reg_test = X_regression[150:]\n",
        "y_reg_train = y_regression[:150]\n",
        "y_reg_test = y_regression[150:]\n",
        " \n",
        "# Fit our model to the data\n",
        " \n",
        "## Note: Before TensorFlow 2.7.0, this line would work\n",
        "# model_3.fit(X_reg_train, y_reg_train, epochs=100) # <- this will error in TensorFlow 2.7.0+\n",
        " \n",
        "## After TensorFlow 2.7.0\n",
        "model_3.fit(tf.expand_dims(X_reg_train, axis=-1), # <- expand input dimensions\n",
        "            y_reg_train,\n",
        "            epochs=100)"
      ],
      "metadata": {
        "colab": {
          "base_uri": "https://localhost:8080/"
        },
        "id": "6nd_KKlXXtcE",
        "outputId": "b75ebd47-a4cf-4951-d223-ebeaec9cdf1f"
      },
      "execution_count": 78,
      "outputs": [
        {
          "output_type": "stream",
          "name": "stdout",
          "text": [
            "Epoch 1/100\n",
            "5/5 [==============================] - 1s 3ms/step - loss: -7048.0908 - accuracy: 0.0000e+00\n",
            "Epoch 2/100\n",
            "5/5 [==============================] - 0s 3ms/step - loss: -7097.5752 - accuracy: 0.0000e+00\n",
            "Epoch 3/100\n",
            "5/5 [==============================] - 0s 3ms/step - loss: -7139.6865 - accuracy: 0.0000e+00\n",
            "Epoch 4/100\n",
            "5/5 [==============================] - 0s 3ms/step - loss: -7134.3818 - accuracy: 0.0000e+00\n",
            "Epoch 5/100\n",
            "5/5 [==============================] - 0s 3ms/step - loss: -7141.0508 - accuracy: 0.0000e+00\n",
            "Epoch 6/100\n",
            "5/5 [==============================] - 0s 4ms/step - loss: -7132.3750 - accuracy: 0.0000e+00\n",
            "Epoch 7/100\n",
            "5/5 [==============================] - 0s 3ms/step - loss: -7140.0483 - accuracy: 0.0000e+00\n",
            "Epoch 8/100\n",
            "5/5 [==============================] - 0s 3ms/step - loss: -7140.7959 - accuracy: 0.0000e+00\n",
            "Epoch 9/100\n",
            "5/5 [==============================] - 0s 4ms/step - loss: -7137.8281 - accuracy: 0.0000e+00\n",
            "Epoch 10/100\n",
            "5/5 [==============================] - 0s 4ms/step - loss: -7135.1685 - accuracy: 0.0000e+00\n",
            "Epoch 11/100\n",
            "5/5 [==============================] - 0s 3ms/step - loss: -7142.0308 - accuracy: 0.0000e+00\n",
            "Epoch 12/100\n",
            "5/5 [==============================] - 0s 2ms/step - loss: -7137.1890 - accuracy: 0.0000e+00\n",
            "Epoch 13/100\n",
            "5/5 [==============================] - 0s 3ms/step - loss: -7140.7100 - accuracy: 0.0000e+00\n",
            "Epoch 14/100\n",
            "5/5 [==============================] - 0s 3ms/step - loss: -7138.4258 - accuracy: 0.0000e+00\n",
            "Epoch 15/100\n",
            "5/5 [==============================] - 0s 5ms/step - loss: -7136.1064 - accuracy: 0.0000e+00\n",
            "Epoch 16/100\n",
            "5/5 [==============================] - 0s 3ms/step - loss: -7138.6699 - accuracy: 0.0000e+00\n",
            "Epoch 17/100\n",
            "5/5 [==============================] - 0s 3ms/step - loss: -7138.5615 - accuracy: 0.0000e+00\n",
            "Epoch 18/100\n",
            "5/5 [==============================] - 0s 3ms/step - loss: -7137.9985 - accuracy: 0.0000e+00\n",
            "Epoch 19/100\n",
            "5/5 [==============================] - 0s 3ms/step - loss: -7139.4141 - accuracy: 0.0000e+00\n",
            "Epoch 20/100\n",
            "5/5 [==============================] - 0s 3ms/step - loss: -7141.6274 - accuracy: 0.0000e+00\n",
            "Epoch 21/100\n",
            "5/5 [==============================] - 0s 3ms/step - loss: -7144.6484 - accuracy: 0.0000e+00\n",
            "Epoch 22/100\n",
            "5/5 [==============================] - 0s 3ms/step - loss: -7138.5942 - accuracy: 0.0000e+00\n",
            "Epoch 23/100\n",
            "5/5 [==============================] - 0s 3ms/step - loss: -7145.0073 - accuracy: 0.0000e+00\n",
            "Epoch 24/100\n",
            "5/5 [==============================] - 0s 4ms/step - loss: -7141.8101 - accuracy: 0.0000e+00\n",
            "Epoch 25/100\n",
            "5/5 [==============================] - 0s 4ms/step - loss: -7141.3384 - accuracy: 0.0000e+00\n",
            "Epoch 26/100\n",
            "5/5 [==============================] - 0s 4ms/step - loss: -7134.6143 - accuracy: 0.0000e+00\n",
            "Epoch 27/100\n",
            "5/5 [==============================] - 0s 4ms/step - loss: -7139.3535 - accuracy: 0.0000e+00\n",
            "Epoch 28/100\n",
            "5/5 [==============================] - 0s 4ms/step - loss: -7146.5498 - accuracy: 0.0000e+00\n",
            "Epoch 29/100\n",
            "5/5 [==============================] - 0s 4ms/step - loss: -7141.0400 - accuracy: 0.0000e+00\n",
            "Epoch 30/100\n",
            "5/5 [==============================] - 0s 5ms/step - loss: -7148.4927 - accuracy: 0.0000e+00\n",
            "Epoch 31/100\n",
            "5/5 [==============================] - 0s 4ms/step - loss: -7142.1099 - accuracy: 0.0000e+00\n",
            "Epoch 32/100\n",
            "5/5 [==============================] - 0s 4ms/step - loss: -7140.0010 - accuracy: 0.0000e+00\n",
            "Epoch 33/100\n",
            "5/5 [==============================] - 0s 3ms/step - loss: -7148.3408 - accuracy: 0.0000e+00\n",
            "Epoch 34/100\n",
            "5/5 [==============================] - 0s 3ms/step - loss: -7135.9526 - accuracy: 0.0000e+00\n",
            "Epoch 35/100\n",
            "5/5 [==============================] - 0s 3ms/step - loss: -7136.4990 - accuracy: 0.0000e+00\n",
            "Epoch 36/100\n",
            "5/5 [==============================] - 0s 3ms/step - loss: -7144.8325 - accuracy: 0.0000e+00\n",
            "Epoch 37/100\n",
            "5/5 [==============================] - 0s 4ms/step - loss: -7140.1392 - accuracy: 0.0000e+00\n",
            "Epoch 38/100\n",
            "5/5 [==============================] - 0s 3ms/step - loss: -7143.8408 - accuracy: 0.0000e+00\n",
            "Epoch 39/100\n",
            "5/5 [==============================] - 0s 3ms/step - loss: -7139.1665 - accuracy: 0.0000e+00\n",
            "Epoch 40/100\n",
            "5/5 [==============================] - 0s 3ms/step - loss: -7146.2866 - accuracy: 0.0000e+00\n",
            "Epoch 41/100\n",
            "5/5 [==============================] - 0s 3ms/step - loss: -7142.3281 - accuracy: 0.0000e+00\n",
            "Epoch 42/100\n",
            "5/5 [==============================] - 0s 3ms/step - loss: -7146.1074 - accuracy: 0.0000e+00\n",
            "Epoch 43/100\n",
            "5/5 [==============================] - 0s 3ms/step - loss: -7145.2710 - accuracy: 0.0000e+00\n",
            "Epoch 44/100\n",
            "5/5 [==============================] - 0s 3ms/step - loss: -7144.0566 - accuracy: 0.0000e+00\n",
            "Epoch 45/100\n",
            "5/5 [==============================] - 0s 3ms/step - loss: -7141.4541 - accuracy: 0.0000e+00\n",
            "Epoch 46/100\n",
            "5/5 [==============================] - 0s 3ms/step - loss: -7147.9517 - accuracy: 0.0000e+00\n",
            "Epoch 47/100\n",
            "5/5 [==============================] - 0s 4ms/step - loss: -7139.4883 - accuracy: 0.0000e+00\n",
            "Epoch 48/100\n",
            "5/5 [==============================] - 0s 3ms/step - loss: -7142.3384 - accuracy: 0.0000e+00\n",
            "Epoch 49/100\n",
            "5/5 [==============================] - 0s 3ms/step - loss: -7146.3340 - accuracy: 0.0000e+00\n",
            "Epoch 50/100\n",
            "5/5 [==============================] - 0s 3ms/step - loss: -7138.3467 - accuracy: 0.0000e+00\n",
            "Epoch 51/100\n",
            "5/5 [==============================] - 0s 3ms/step - loss: -7145.1118 - accuracy: 0.0000e+00\n",
            "Epoch 52/100\n",
            "5/5 [==============================] - 0s 3ms/step - loss: -7141.5366 - accuracy: 0.0000e+00\n",
            "Epoch 53/100\n",
            "5/5 [==============================] - 0s 4ms/step - loss: -7143.6548 - accuracy: 0.0000e+00\n",
            "Epoch 54/100\n",
            "5/5 [==============================] - 0s 4ms/step - loss: -7145.2061 - accuracy: 0.0000e+00\n",
            "Epoch 55/100\n",
            "5/5 [==============================] - 0s 3ms/step - loss: -7146.8325 - accuracy: 0.0000e+00\n",
            "Epoch 56/100\n",
            "5/5 [==============================] - 0s 3ms/step - loss: -7147.9844 - accuracy: 0.0000e+00\n",
            "Epoch 57/100\n",
            "5/5 [==============================] - 0s 3ms/step - loss: -7144.2148 - accuracy: 0.0000e+00\n",
            "Epoch 58/100\n",
            "5/5 [==============================] - 0s 3ms/step - loss: -7148.9717 - accuracy: 0.0000e+00\n",
            "Epoch 59/100\n",
            "5/5 [==============================] - 0s 4ms/step - loss: -7147.2183 - accuracy: 0.0000e+00\n",
            "Epoch 60/100\n",
            "5/5 [==============================] - 0s 3ms/step - loss: -7144.9292 - accuracy: 0.0000e+00\n",
            "Epoch 61/100\n",
            "5/5 [==============================] - 0s 3ms/step - loss: -7142.0439 - accuracy: 0.0000e+00\n",
            "Epoch 62/100\n",
            "5/5 [==============================] - 0s 4ms/step - loss: -7147.5674 - accuracy: 0.0000e+00\n",
            "Epoch 63/100\n",
            "5/5 [==============================] - 0s 3ms/step - loss: -7147.1802 - accuracy: 0.0000e+00\n",
            "Epoch 64/100\n",
            "5/5 [==============================] - 0s 3ms/step - loss: -7146.6465 - accuracy: 0.0000e+00\n",
            "Epoch 65/100\n",
            "5/5 [==============================] - 0s 3ms/step - loss: -7154.5000 - accuracy: 0.0000e+00\n",
            "Epoch 66/100\n",
            "5/5 [==============================] - 0s 3ms/step - loss: -7154.6685 - accuracy: 0.0000e+00\n",
            "Epoch 67/100\n",
            "5/5 [==============================] - 0s 3ms/step - loss: -7190.0156 - accuracy: 0.0000e+00\n",
            "Epoch 68/100\n",
            "5/5 [==============================] - 0s 3ms/step - loss: -7190.0156 - accuracy: 0.0000e+00\n",
            "Epoch 69/100\n",
            "5/5 [==============================] - 0s 3ms/step - loss: -7190.0156 - accuracy: 0.0000e+00\n",
            "Epoch 70/100\n",
            "5/5 [==============================] - 0s 3ms/step - loss: -7190.0156 - accuracy: 0.0000e+00\n",
            "Epoch 71/100\n",
            "5/5 [==============================] - 0s 3ms/step - loss: -7190.0156 - accuracy: 0.0000e+00\n",
            "Epoch 72/100\n",
            "5/5 [==============================] - 0s 3ms/step - loss: -7190.0156 - accuracy: 0.0000e+00\n",
            "Epoch 73/100\n",
            "5/5 [==============================] - 0s 3ms/step - loss: -7190.0156 - accuracy: 0.0000e+00\n",
            "Epoch 74/100\n",
            "5/5 [==============================] - 0s 3ms/step - loss: -7190.0151 - accuracy: 0.0000e+00\n",
            "Epoch 75/100\n",
            "5/5 [==============================] - 0s 4ms/step - loss: -7190.0156 - accuracy: 0.0000e+00\n",
            "Epoch 76/100\n",
            "5/5 [==============================] - 0s 4ms/step - loss: -7190.0156 - accuracy: 0.0000e+00\n",
            "Epoch 77/100\n",
            "5/5 [==============================] - 0s 4ms/step - loss: -7190.0156 - accuracy: 0.0000e+00\n",
            "Epoch 78/100\n",
            "5/5 [==============================] - 0s 3ms/step - loss: -7190.0156 - accuracy: 0.0000e+00\n",
            "Epoch 79/100\n",
            "5/5 [==============================] - 0s 3ms/step - loss: -7190.0156 - accuracy: 0.0000e+00\n",
            "Epoch 80/100\n",
            "5/5 [==============================] - 0s 3ms/step - loss: -7190.0151 - accuracy: 0.0000e+00\n",
            "Epoch 81/100\n",
            "5/5 [==============================] - 0s 3ms/step - loss: -7190.0156 - accuracy: 0.0000e+00\n",
            "Epoch 82/100\n",
            "5/5 [==============================] - 0s 3ms/step - loss: -7190.0156 - accuracy: 0.0000e+00\n",
            "Epoch 83/100\n",
            "5/5 [==============================] - 0s 3ms/step - loss: -7190.0156 - accuracy: 0.0000e+00\n",
            "Epoch 84/100\n",
            "5/5 [==============================] - 0s 3ms/step - loss: -7190.0156 - accuracy: 0.0000e+00\n",
            "Epoch 85/100\n",
            "5/5 [==============================] - 0s 3ms/step - loss: -7190.0166 - accuracy: 0.0000e+00\n",
            "Epoch 86/100\n",
            "5/5 [==============================] - 0s 3ms/step - loss: -7190.0156 - accuracy: 0.0000e+00\n",
            "Epoch 87/100\n",
            "5/5 [==============================] - 0s 4ms/step - loss: -7190.0156 - accuracy: 0.0000e+00\n",
            "Epoch 88/100\n",
            "5/5 [==============================] - 0s 4ms/step - loss: -7190.0156 - accuracy: 0.0000e+00\n",
            "Epoch 89/100\n",
            "5/5 [==============================] - 0s 3ms/step - loss: -7190.0156 - accuracy: 0.0000e+00\n",
            "Epoch 90/100\n",
            "5/5 [==============================] - 0s 4ms/step - loss: -7190.0156 - accuracy: 0.0000e+00\n",
            "Epoch 91/100\n",
            "5/5 [==============================] - 0s 3ms/step - loss: -7190.0151 - accuracy: 0.0000e+00\n",
            "Epoch 92/100\n",
            "5/5 [==============================] - 0s 3ms/step - loss: -7190.0156 - accuracy: 0.0000e+00\n",
            "Epoch 93/100\n",
            "5/5 [==============================] - 0s 3ms/step - loss: -7190.0156 - accuracy: 0.0000e+00\n",
            "Epoch 94/100\n",
            "5/5 [==============================] - 0s 3ms/step - loss: -7190.0156 - accuracy: 0.0000e+00\n",
            "Epoch 95/100\n",
            "5/5 [==============================] - 0s 3ms/step - loss: -7190.0156 - accuracy: 0.0000e+00\n",
            "Epoch 96/100\n",
            "5/5 [==============================] - 0s 3ms/step - loss: -7190.0151 - accuracy: 0.0000e+00\n",
            "Epoch 97/100\n",
            "5/5 [==============================] - 0s 3ms/step - loss: -7190.0156 - accuracy: 0.0000e+00\n",
            "Epoch 98/100\n",
            "5/5 [==============================] - 0s 3ms/step - loss: -7190.0151 - accuracy: 0.0000e+00\n",
            "Epoch 99/100\n",
            "5/5 [==============================] - 0s 4ms/step - loss: -7190.0156 - accuracy: 0.0000e+00\n",
            "Epoch 100/100\n",
            "5/5 [==============================] - 0s 3ms/step - loss: -7190.0156 - accuracy: 0.0000e+00\n"
          ]
        },
        {
          "output_type": "execute_result",
          "data": {
            "text/plain": [
              "<keras.callbacks.History at 0x7f77e74f45d0>"
            ]
          },
          "metadata": {},
          "execution_count": 78
        }
      ]
    },
    {
      "cell_type": "code",
      "source": [
        "#Make predictions our trained model\n",
        "#y_reg_preds = model_3.predict(y_reg_test)\n",
        "\n",
        "#Plot the model's predictions agains our regression data\n",
        "plt.figure(figsize=(10,7))\n",
        "plt.scatter(X_reg_train, y_reg_train, c=\"b\", label=\"Training data\")\n",
        "plt.scatter(X_reg_test, y_reg_test, c=\"g\", label=\"Test data\")\n",
        "plt.scatter(X_reg_test, y_reg_preds, c=\"r\", label=\"Predictions\")\n",
        "plt.legend(); \n"
      ],
      "metadata": {
        "colab": {
          "base_uri": "https://localhost:8080/",
          "height": 627
        },
        "id": "00zYcz0aYqsZ",
        "outputId": "0c0dec29-1ced-4e28-efbb-9fda2dcc546c"
      },
      "execution_count": 79,
      "outputs": [
        {
          "output_type": "error",
          "ename": "NameError",
          "evalue": "ignored",
          "traceback": [
            "\u001b[0;31m---------------------------------------------------------------------------\u001b[0m",
            "\u001b[0;31mNameError\u001b[0m                                 Traceback (most recent call last)",
            "\u001b[0;32m<ipython-input-79-55d190b29166>\u001b[0m in \u001b[0;36m<module>\u001b[0;34m()\u001b[0m\n\u001b[1;32m      6\u001b[0m \u001b[0mplt\u001b[0m\u001b[0;34m.\u001b[0m\u001b[0mscatter\u001b[0m\u001b[0;34m(\u001b[0m\u001b[0mX_reg_train\u001b[0m\u001b[0;34m,\u001b[0m \u001b[0my_reg_train\u001b[0m\u001b[0;34m,\u001b[0m \u001b[0mc\u001b[0m\u001b[0;34m=\u001b[0m\u001b[0;34m\"b\"\u001b[0m\u001b[0;34m,\u001b[0m \u001b[0mlabel\u001b[0m\u001b[0;34m=\u001b[0m\u001b[0;34m\"Training data\"\u001b[0m\u001b[0;34m)\u001b[0m\u001b[0;34m\u001b[0m\u001b[0;34m\u001b[0m\u001b[0m\n\u001b[1;32m      7\u001b[0m \u001b[0mplt\u001b[0m\u001b[0;34m.\u001b[0m\u001b[0mscatter\u001b[0m\u001b[0;34m(\u001b[0m\u001b[0mX_reg_test\u001b[0m\u001b[0;34m,\u001b[0m \u001b[0my_reg_test\u001b[0m\u001b[0;34m,\u001b[0m \u001b[0mc\u001b[0m\u001b[0;34m=\u001b[0m\u001b[0;34m\"g\"\u001b[0m\u001b[0;34m,\u001b[0m \u001b[0mlabel\u001b[0m\u001b[0;34m=\u001b[0m\u001b[0;34m\"Test data\"\u001b[0m\u001b[0;34m)\u001b[0m\u001b[0;34m\u001b[0m\u001b[0;34m\u001b[0m\u001b[0m\n\u001b[0;32m----> 8\u001b[0;31m \u001b[0mplt\u001b[0m\u001b[0;34m.\u001b[0m\u001b[0mscatter\u001b[0m\u001b[0;34m(\u001b[0m\u001b[0mX_reg_test\u001b[0m\u001b[0;34m,\u001b[0m \u001b[0my_reg_preds\u001b[0m\u001b[0;34m,\u001b[0m \u001b[0mc\u001b[0m\u001b[0;34m=\u001b[0m\u001b[0;34m\"r\"\u001b[0m\u001b[0;34m,\u001b[0m \u001b[0mlabel\u001b[0m\u001b[0;34m=\u001b[0m\u001b[0;34m\"Predictions\"\u001b[0m\u001b[0;34m)\u001b[0m\u001b[0;34m\u001b[0m\u001b[0;34m\u001b[0m\u001b[0m\n\u001b[0m\u001b[1;32m      9\u001b[0m \u001b[0mplt\u001b[0m\u001b[0;34m.\u001b[0m\u001b[0mlegend\u001b[0m\u001b[0;34m(\u001b[0m\u001b[0;34m)\u001b[0m\u001b[0;34m;\u001b[0m\u001b[0;34m\u001b[0m\u001b[0;34m\u001b[0m\u001b[0m\n",
            "\u001b[0;31mNameError\u001b[0m: name 'y_reg_preds' is not defined"
          ]
        },
        {
          "output_type": "display_data",
          "data": {
            "text/plain": [
              "<Figure size 720x504 with 1 Axes>"
            ],
            "image/png": "[encoded data removed]"
          },
          "metadata": {
            "needs_background": "light"
          }
        }
      ]
    },
    {
      "cell_type": "code",
      "source": [
        "# Set the random seed\n",
        "tf.random.set_seed=42\n",
        "\n",
        "# Create the model\n",
        "model_4 = tf.keras.Sequential([\n",
        "  tf.keras.layers.Dense(1, activation=tf.keras.activations.linear), # 1 hidden layer with linear activation\n",
        "  tf.keras.layers.Dense(1) # output layer\n",
        "])\n",
        "\n",
        "# Compile the model\n",
        "model_4.compile(loss=tf.keras.losses.binary_crossentropy,\n",
        "                optimizer=tf.keras.optimizers.Adam(lr=0.001), # \"lr\" is short for \"learning rate\"\n",
        "                metrics=[\"accuracy\"])\n",
        "\n",
        "# Fit the model\n",
        "history = model_4.fit(X, y, epochs=100)"
      ],
      "metadata": {
        "colab": {
          "base_uri": "https://localhost:8080/"
        },
        "id": "W1L6vF_zb6Ky",
        "outputId": "eab8c055-8bc2-441a-8bf6-fbdf3ea1af4b"
      },
      "execution_count": 81,
      "outputs": [
        {
          "output_type": "stream",
          "name": "stdout",
          "text": [
            "Epoch 1/100\n"
          ]
        },
        {
          "output_type": "stream",
          "name": "stderr",
          "text": [
            "/usr/local/lib/python3.7/dist-packages/keras/optimizer_v2/adam.py:105: UserWarning: The `lr` argument is deprecated, use `learning_rate` instead.\n",
            "  super(Adam, self).__init__(name, **kwargs)\n"
          ]
        },
        {
          "output_type": "stream",
          "name": "stdout",
          "text": [
            "32/32 [==============================] - 0s 1ms/step - loss: 4.3252 - accuracy: 0.4710\n",
            "Epoch 2/100\n",
            "32/32 [==============================] - 0s 1ms/step - loss: 4.1898 - accuracy: 0.4730\n",
            "Epoch 3/100\n",
            "32/32 [==============================] - 0s 1ms/step - loss: 4.0557 - accuracy: 0.4760\n",
            "Epoch 4/100\n",
            "32/32 [==============================] - 0s 1ms/step - loss: 4.0096 - accuracy: 0.4670\n",
            "Epoch 5/100\n",
            "32/32 [==============================] - 0s 1ms/step - loss: 3.9530 - accuracy: 0.4650\n",
            "Epoch 6/100\n",
            "32/32 [==============================] - 0s 2ms/step - loss: 3.9375 - accuracy: 0.4640\n",
            "Epoch 7/100\n",
            "32/32 [==============================] - 0s 1ms/step - loss: 3.8873 - accuracy: 0.4610\n",
            "Epoch 8/100\n",
            "32/32 [==============================] - 0s 1ms/step - loss: 3.7330 - accuracy: 0.4650\n",
            "Epoch 9/100\n",
            "32/32 [==============================] - 0s 1ms/step - loss: 3.7182 - accuracy: 0.4650\n",
            "Epoch 10/100\n",
            "32/32 [==============================] - 0s 1ms/step - loss: 3.6933 - accuracy: 0.4650\n",
            "Epoch 11/100\n",
            "32/32 [==============================] - 0s 2ms/step - loss: 3.6734 - accuracy: 0.4660\n",
            "Epoch 12/100\n",
            "32/32 [==============================] - 0s 2ms/step - loss: 3.6703 - accuracy: 0.4660\n",
            "Epoch 13/100\n",
            "32/32 [==============================] - 0s 2ms/step - loss: 3.6686 - accuracy: 0.4660\n",
            "Epoch 14/100\n",
            "32/32 [==============================] - 0s 1ms/step - loss: 3.6673 - accuracy: 0.4660\n",
            "Epoch 15/100\n",
            "32/32 [==============================] - 0s 1ms/step - loss: 3.6658 - accuracy: 0.4660\n",
            "Epoch 16/100\n",
            "32/32 [==============================] - 0s 2ms/step - loss: 3.6562 - accuracy: 0.4660\n",
            "Epoch 17/100\n",
            "32/32 [==============================] - 0s 1ms/step - loss: 3.5935 - accuracy: 0.4660\n",
            "Epoch 18/100\n",
            "32/32 [==============================] - 0s 1ms/step - loss: 3.5606 - accuracy: 0.4670\n",
            "Epoch 19/100\n",
            "32/32 [==============================] - 0s 1ms/step - loss: 3.5459 - accuracy: 0.4670\n",
            "Epoch 20/100\n",
            "32/32 [==============================] - 0s 1ms/step - loss: 3.5314 - accuracy: 0.4680\n",
            "Epoch 21/100\n",
            "32/32 [==============================] - 0s 1ms/step - loss: 3.5035 - accuracy: 0.4690\n",
            "Epoch 22/100\n",
            "32/32 [==============================] - 0s 2ms/step - loss: 3.4978 - accuracy: 0.4690\n",
            "Epoch 23/100\n",
            "32/32 [==============================] - 0s 2ms/step - loss: 3.4749 - accuracy: 0.4690\n",
            "Epoch 24/100\n",
            "32/32 [==============================] - 0s 1ms/step - loss: 3.4409 - accuracy: 0.4690\n",
            "Epoch 25/100\n",
            "32/32 [==============================] - 0s 1ms/step - loss: 3.4264 - accuracy: 0.4690\n",
            "Epoch 26/100\n",
            "32/32 [==============================] - 0s 1ms/step - loss: 3.4120 - accuracy: 0.4690\n",
            "Epoch 27/100\n",
            "32/32 [==============================] - 0s 1ms/step - loss: 3.3984 - accuracy: 0.4690\n",
            "Epoch 28/100\n",
            "32/32 [==============================] - 0s 1ms/step - loss: 3.3838 - accuracy: 0.4690\n",
            "Epoch 29/100\n",
            "32/32 [==============================] - 0s 1ms/step - loss: 3.3381 - accuracy: 0.4690\n",
            "Epoch 30/100\n",
            "32/32 [==============================] - 0s 2ms/step - loss: 3.2877 - accuracy: 0.4690\n",
            "Epoch 31/100\n",
            "32/32 [==============================] - 0s 2ms/step - loss: 3.2471 - accuracy: 0.4700\n",
            "Epoch 32/100\n",
            "32/32 [==============================] - 0s 1ms/step - loss: 3.1895 - accuracy: 0.4700\n",
            "Epoch 33/100\n",
            "32/32 [==============================] - 0s 2ms/step - loss: 3.0171 - accuracy: 0.4690\n",
            "Epoch 34/100\n",
            "32/32 [==============================] - 0s 2ms/step - loss: 2.9319 - accuracy: 0.4690\n",
            "Epoch 35/100\n",
            "32/32 [==============================] - 0s 1ms/step - loss: 2.7585 - accuracy: 0.4700\n",
            "Epoch 36/100\n",
            "32/32 [==============================] - 0s 1ms/step - loss: 2.5435 - accuracy: 0.4710\n",
            "Epoch 37/100\n",
            "32/32 [==============================] - 0s 1ms/step - loss: 2.4390 - accuracy: 0.4710\n",
            "Epoch 38/100\n",
            "32/32 [==============================] - 0s 1ms/step - loss: 2.2822 - accuracy: 0.4720\n",
            "Epoch 39/100\n",
            "32/32 [==============================] - 0s 2ms/step - loss: 2.1578 - accuracy: 0.4710\n",
            "Epoch 40/100\n",
            "32/32 [==============================] - 0s 1ms/step - loss: 1.9803 - accuracy: 0.4710\n",
            "Epoch 41/100\n",
            "32/32 [==============================] - 0s 1ms/step - loss: 0.9885 - accuracy: 0.4760\n",
            "Epoch 42/100\n",
            "32/32 [==============================] - 0s 2ms/step - loss: 0.9170 - accuracy: 0.4780\n",
            "Epoch 43/100\n",
            "32/32 [==============================] - 0s 2ms/step - loss: 0.9049 - accuracy: 0.4770\n",
            "Epoch 44/100\n",
            "32/32 [==============================] - 0s 2ms/step - loss: 0.8964 - accuracy: 0.4780\n",
            "Epoch 45/100\n",
            "32/32 [==============================] - 0s 1ms/step - loss: 0.8887 - accuracy: 0.4790\n",
            "Epoch 46/100\n",
            "32/32 [==============================] - 0s 1ms/step - loss: 0.8815 - accuracy: 0.4790\n",
            "Epoch 47/100\n",
            "32/32 [==============================] - 0s 1ms/step - loss: 0.8750 - accuracy: 0.4780\n",
            "Epoch 48/100\n",
            "32/32 [==============================] - 0s 2ms/step - loss: 0.8689 - accuracy: 0.4770\n",
            "Epoch 49/100\n",
            "32/32 [==============================] - 0s 1ms/step - loss: 0.8633 - accuracy: 0.4790\n",
            "Epoch 50/100\n",
            "32/32 [==============================] - 0s 2ms/step - loss: 0.8579 - accuracy: 0.4790\n",
            "Epoch 51/100\n",
            "32/32 [==============================] - 0s 2ms/step - loss: 0.8528 - accuracy: 0.4800\n",
            "Epoch 52/100\n",
            "32/32 [==============================] - 0s 1ms/step - loss: 0.8481 - accuracy: 0.4780\n",
            "Epoch 53/100\n",
            "32/32 [==============================] - 0s 1ms/step - loss: 0.8435 - accuracy: 0.4770\n",
            "Epoch 54/100\n",
            "32/32 [==============================] - 0s 1ms/step - loss: 0.8392 - accuracy: 0.4770\n",
            "Epoch 55/100\n",
            "32/32 [==============================] - 0s 1ms/step - loss: 0.8350 - accuracy: 0.4750\n",
            "Epoch 56/100\n",
            "32/32 [==============================] - 0s 1ms/step - loss: 0.8310 - accuracy: 0.4750\n",
            "Epoch 57/100\n",
            "32/32 [==============================] - 0s 1ms/step - loss: 0.8273 - accuracy: 0.4760\n",
            "Epoch 58/100\n",
            "32/32 [==============================] - 0s 1ms/step - loss: 0.8237 - accuracy: 0.4750\n",
            "Epoch 59/100\n",
            "32/32 [==============================] - 0s 1ms/step - loss: 0.8203 - accuracy: 0.4770\n",
            "Epoch 60/100\n",
            "32/32 [==============================] - 0s 1ms/step - loss: 0.8169 - accuracy: 0.4760\n",
            "Epoch 61/100\n",
            "32/32 [==============================] - 0s 1ms/step - loss: 0.8138 - accuracy: 0.4770\n",
            "Epoch 62/100\n",
            "32/32 [==============================] - 0s 2ms/step - loss: 0.8108 - accuracy: 0.4770\n",
            "Epoch 63/100\n",
            "32/32 [==============================] - 0s 1ms/step - loss: 0.8076 - accuracy: 0.4790\n",
            "Epoch 64/100\n",
            "32/32 [==============================] - 0s 1ms/step - loss: 0.8048 - accuracy: 0.4780\n",
            "Epoch 65/100\n",
            "32/32 [==============================] - 0s 1ms/step - loss: 0.8020 - accuracy: 0.4780\n",
            "Epoch 66/100\n",
            "32/32 [==============================] - 0s 2ms/step - loss: 0.7992 - accuracy: 0.4770\n",
            "Epoch 67/100\n",
            "32/32 [==============================] - 0s 2ms/step - loss: 0.7966 - accuracy: 0.4750\n",
            "Epoch 68/100\n",
            "32/32 [==============================] - 0s 1ms/step - loss: 0.7940 - accuracy: 0.4780\n",
            "Epoch 69/100\n",
            "32/32 [==============================] - 0s 1ms/step - loss: 0.7914 - accuracy: 0.4790\n",
            "Epoch 70/100\n",
            "32/32 [==============================] - 0s 1ms/step - loss: 0.7890 - accuracy: 0.4800\n",
            "Epoch 71/100\n",
            "32/32 [==============================] - 0s 1ms/step - loss: 0.7866 - accuracy: 0.4790\n",
            "Epoch 72/100\n",
            "32/32 [==============================] - 0s 1ms/step - loss: 0.7843 - accuracy: 0.4800\n",
            "Epoch 73/100\n",
            "32/32 [==============================] - 0s 1ms/step - loss: 0.7821 - accuracy: 0.4800\n",
            "Epoch 74/100\n",
            "32/32 [==============================] - 0s 2ms/step - loss: 0.7799 - accuracy: 0.4780\n",
            "Epoch 75/100\n",
            "32/32 [==============================] - 0s 1ms/step - loss: 0.7778 - accuracy: 0.4770\n",
            "Epoch 76/100\n",
            "32/32 [==============================] - 0s 2ms/step - loss: 0.7757 - accuracy: 0.4770\n",
            "Epoch 77/100\n",
            "32/32 [==============================] - 0s 2ms/step - loss: 0.7737 - accuracy: 0.4790\n",
            "Epoch 78/100\n",
            "32/32 [==============================] - 0s 1ms/step - loss: 0.7717 - accuracy: 0.4800\n",
            "Epoch 79/100\n",
            "32/32 [==============================] - 0s 1ms/step - loss: 0.7698 - accuracy: 0.4810\n",
            "Epoch 80/100\n",
            "32/32 [==============================] - 0s 1ms/step - loss: 0.7678 - accuracy: 0.4810\n",
            "Epoch 81/100\n",
            "32/32 [==============================] - 0s 1ms/step - loss: 0.7660 - accuracy: 0.4820\n",
            "Epoch 82/100\n",
            "32/32 [==============================] - 0s 1ms/step - loss: 0.7642 - accuracy: 0.4820\n",
            "Epoch 83/100\n",
            "32/32 [==============================] - 0s 1ms/step - loss: 0.7625 - accuracy: 0.4810\n",
            "Epoch 84/100\n",
            "32/32 [==============================] - 0s 4ms/step - loss: 0.7608 - accuracy: 0.4810\n",
            "Epoch 85/100\n",
            "32/32 [==============================] - 0s 2ms/step - loss: 0.7591 - accuracy: 0.4800\n",
            "Epoch 86/100\n",
            "32/32 [==============================] - 0s 5ms/step - loss: 0.7575 - accuracy: 0.4810\n",
            "Epoch 87/100\n",
            "32/32 [==============================] - 0s 5ms/step - loss: 0.7559 - accuracy: 0.4800\n",
            "Epoch 88/100\n",
            "32/32 [==============================] - 0s 5ms/step - loss: 0.7543 - accuracy: 0.4790\n",
            "Epoch 89/100\n",
            "32/32 [==============================] - 0s 5ms/step - loss: 0.7528 - accuracy: 0.4800\n",
            "Epoch 90/100\n",
            "32/32 [==============================] - 0s 2ms/step - loss: 0.7513 - accuracy: 0.4820\n",
            "Epoch 91/100\n",
            "32/32 [==============================] - 0s 4ms/step - loss: 0.7499 - accuracy: 0.4800\n",
            "Epoch 92/100\n",
            "32/32 [==============================] - 0s 3ms/step - loss: 0.7485 - accuracy: 0.4800\n",
            "Epoch 93/100\n",
            "32/32 [==============================] - 0s 1ms/step - loss: 0.7471 - accuracy: 0.4800\n",
            "Epoch 94/100\n",
            "32/32 [==============================] - 0s 1ms/step - loss: 0.7457 - accuracy: 0.4800\n",
            "Epoch 95/100\n",
            "32/32 [==============================] - 0s 2ms/step - loss: 0.7443 - accuracy: 0.4780\n",
            "Epoch 96/100\n",
            "32/32 [==============================] - 0s 1ms/step - loss: 0.7430 - accuracy: 0.4790\n",
            "Epoch 97/100\n",
            "32/32 [==============================] - 0s 4ms/step - loss: 0.7417 - accuracy: 0.4790\n",
            "Epoch 98/100\n",
            "32/32 [==============================] - 0s 5ms/step - loss: 0.7405 - accuracy: 0.4790\n",
            "Epoch 99/100\n",
            "32/32 [==============================] - 0s 5ms/step - loss: 0.7392 - accuracy: 0.4790\n",
            "Epoch 100/100\n",
            "32/32 [==============================] - 0s 5ms/step - loss: 0.7379 - accuracy: 0.4790\n"
          ]
        }
      ]
    },
    {
      "cell_type": "code",
      "source": [
        "# check out our data\n",
        "plt.scatter(X[:, 0], X[:,1], c=y, cmap=plt.cm.RdYlBu);"
      ],
      "metadata": {
        "colab": {
          "base_uri": "https://localhost:8080/",
          "height": 264
        },
        "id": "aBcOOCEyUtRa",
        "outputId": "4b725c44-cce7-40ba-a845-55fa1904a563"
      },
      "execution_count": 82,
      "outputs": [
        {
          "output_type": "display_data",
          "data": {
            "text/plain": [
              "<Figure size 432x288 with 1 Axes>"
            ],
            "image/png": "[encoded data removed]"
          },
          "metadata": {
            "needs_background": "light"
          }
        }
      ]
    },
    {
      "cell_type": "code",
      "source": [
        "#Check th edecision boundary for our latest model\n",
        "plot_decision_boundary(model=model_4, \n",
        "                       X=X, \n",
        "                       y=y)"
      ],
      "metadata": {
        "colab": {
          "base_uri": "https://localhost:8080/",
          "height": 282
        },
        "id": "zkf4wKSjVs0v",
        "outputId": "0fb3c6f6-3632-4b95-dd8c-e4f22d9ba54d"
      },
      "execution_count": 83,
      "outputs": [
        {
          "output_type": "stream",
          "name": "stdout",
          "text": [
            "doing binary classifcation...\n"
          ]
        },
        {
          "output_type": "display_data",
          "data": {
            "text/plain": [
              "<Figure size 432x288 with 1 Axes>"
            ],
            "image/png": "[encoded data removed]"
          },
          "metadata": {
            "needs_background": "light"
          }
        }
      ]
    },
    {
      "cell_type": "markdown",
      "source": [
        "Lets try our first neural network with a non-linear activation function"
      ],
      "metadata": {
        "id": "J5lecFuaYfhJ"
      }
    },
    {
      "cell_type": "code",
      "source": [
        "# Set  random seed\n",
        "tf.random.set_seed=42\n",
        "\n",
        "#1. Create a modela non linear\n",
        "model_5=tf.keras.Sequential([\n",
        "  tf.keras.layers.Dense(1, activation=tf.keras.activations.relu)\n",
        "])\n",
        "#2.Compile the model\n",
        "model_5.compile(loss=tf.keras.losses.BinaryCrossentropy(),\n",
        "                optimizer=tf.keras.optimizers.Adam(lr=0.001),\n",
        "                metrics=[\"accuracy\"])\n",
        "\n",
        "#3.Fit the model\n",
        "history = model_5.fit(X, y, epochs=100)\n"
      ],
      "metadata": {
        "colab": {
          "base_uri": "https://localhost:8080/"
        },
        "id": "epQcL_CQYfE1",
        "outputId": "01ff4ade-6f2f-4067-c49b-1116657d18f9"
      },
      "execution_count": 84,
      "outputs": [
        {
          "output_type": "stream",
          "name": "stdout",
          "text": [
            "Epoch 1/100\n"
          ]
        },
        {
          "output_type": "stream",
          "name": "stderr",
          "text": [
            "/usr/local/lib/python3.7/dist-packages/keras/optimizer_v2/adam.py:105: UserWarning: The `lr` argument is deprecated, use `learning_rate` instead.\n",
            "  super(Adam, self).__init__(name, **kwargs)\n"
          ]
        },
        {
          "output_type": "stream",
          "name": "stdout",
          "text": [
            "32/32 [==============================] - 0s 2ms/step - loss: 6.1228 - accuracy: 0.4860\n",
            "Epoch 2/100\n",
            "32/32 [==============================] - 0s 1ms/step - loss: 6.1194 - accuracy: 0.4870\n",
            "Epoch 3/100\n",
            "32/32 [==============================] - 0s 1ms/step - loss: 6.1175 - accuracy: 0.4870\n",
            "Epoch 4/100\n",
            "32/32 [==============================] - 0s 1ms/step - loss: 6.1157 - accuracy: 0.4860\n",
            "Epoch 5/100\n",
            "32/32 [==============================] - 0s 1ms/step - loss: 6.1143 - accuracy: 0.4860\n",
            "Epoch 6/100\n",
            "32/32 [==============================] - 0s 1ms/step - loss: 6.0836 - accuracy: 0.4860\n",
            "Epoch 7/100\n",
            "32/32 [==============================] - 0s 1ms/step - loss: 5.9812 - accuracy: 0.4820\n",
            "Epoch 8/100\n",
            "32/32 [==============================] - 0s 1ms/step - loss: 5.9718 - accuracy: 0.4810\n",
            "Epoch 9/100\n",
            "32/32 [==============================] - 0s 2ms/step - loss: 5.9568 - accuracy: 0.4820\n",
            "Epoch 10/100\n",
            "32/32 [==============================] - 0s 1ms/step - loss: 5.9451 - accuracy: 0.4820\n",
            "Epoch 11/100\n",
            "32/32 [==============================] - 0s 2ms/step - loss: 5.8646 - accuracy: 0.4820\n",
            "Epoch 12/100\n",
            "32/32 [==============================] - 0s 1ms/step - loss: 5.8736 - accuracy: 0.4810\n",
            "Epoch 13/100\n",
            "32/32 [==============================] - 0s 1ms/step - loss: 5.8783 - accuracy: 0.4820\n",
            "Epoch 14/100\n",
            "32/32 [==============================] - 0s 2ms/step - loss: 5.8698 - accuracy: 0.4810\n",
            "Epoch 15/100\n",
            "32/32 [==============================] - 0s 1ms/step - loss: 5.8461 - accuracy: 0.4780\n",
            "Epoch 16/100\n",
            "32/32 [==============================] - 0s 1ms/step - loss: 5.7959 - accuracy: 0.4790\n",
            "Epoch 17/100\n",
            "32/32 [==============================] - 0s 1ms/step - loss: 5.7921 - accuracy: 0.4790\n",
            "Epoch 18/100\n",
            "32/32 [==============================] - 0s 1ms/step - loss: 5.7907 - accuracy: 0.4800\n",
            "Epoch 19/100\n",
            "32/32 [==============================] - 0s 1ms/step - loss: 5.7900 - accuracy: 0.4800\n",
            "Epoch 20/100\n",
            "32/32 [==============================] - 0s 1ms/step - loss: 5.7893 - accuracy: 0.4800\n",
            "Epoch 21/100\n",
            "32/32 [==============================] - 0s 2ms/step - loss: 5.7838 - accuracy: 0.4800\n",
            "Epoch 22/100\n",
            "32/32 [==============================] - 0s 1ms/step - loss: 5.7453 - accuracy: 0.4790\n",
            "Epoch 23/100\n",
            "32/32 [==============================] - 0s 1ms/step - loss: 5.7342 - accuracy: 0.4790\n",
            "Epoch 24/100\n",
            "32/32 [==============================] - 0s 1ms/step - loss: 5.7229 - accuracy: 0.4790\n",
            "Epoch 25/100\n",
            "32/32 [==============================] - 0s 1ms/step - loss: 5.7202 - accuracy: 0.4790\n",
            "Epoch 26/100\n",
            "32/32 [==============================] - 0s 1ms/step - loss: 5.7101 - accuracy: 0.4790\n",
            "Epoch 27/100\n",
            "32/32 [==============================] - 0s 1ms/step - loss: 5.6976 - accuracy: 0.4790\n",
            "Epoch 28/100\n",
            "32/32 [==============================] - 0s 1ms/step - loss: 5.6858 - accuracy: 0.4790\n",
            "Epoch 29/100\n",
            "32/32 [==============================] - 0s 1ms/step - loss: 5.6834 - accuracy: 0.4790\n",
            "Epoch 30/100\n",
            "32/32 [==============================] - 0s 1ms/step - loss: 5.6820 - accuracy: 0.4790\n",
            "Epoch 31/100\n",
            "32/32 [==============================] - 0s 1ms/step - loss: 5.6806 - accuracy: 0.4800\n",
            "Epoch 32/100\n",
            "32/32 [==============================] - 0s 1ms/step - loss: 5.6797 - accuracy: 0.4800\n",
            "Epoch 33/100\n",
            "32/32 [==============================] - 0s 1ms/step - loss: 5.6788 - accuracy: 0.4800\n",
            "Epoch 34/100\n",
            "32/32 [==============================] - 0s 1ms/step - loss: 5.6588 - accuracy: 0.4800\n",
            "Epoch 35/100\n",
            "32/32 [==============================] - 0s 1ms/step - loss: 5.6563 - accuracy: 0.4810\n",
            "Epoch 36/100\n",
            "32/32 [==============================] - 0s 1ms/step - loss: 5.6542 - accuracy: 0.4810\n",
            "Epoch 37/100\n",
            "32/32 [==============================] - 0s 1ms/step - loss: 5.6535 - accuracy: 0.4810\n",
            "Epoch 38/100\n",
            "32/32 [==============================] - 0s 2ms/step - loss: 5.6522 - accuracy: 0.4810\n",
            "Epoch 39/100\n",
            "32/32 [==============================] - 0s 2ms/step - loss: 5.6258 - accuracy: 0.4820\n",
            "Epoch 40/100\n",
            "32/32 [==============================] - 0s 1ms/step - loss: 5.5740 - accuracy: 0.4810\n",
            "Epoch 41/100\n",
            "32/32 [==============================] - 0s 1ms/step - loss: 5.5351 - accuracy: 0.4780\n",
            "Epoch 42/100\n",
            "32/32 [==============================] - 0s 1ms/step - loss: 5.4265 - accuracy: 0.4780\n",
            "Epoch 43/100\n",
            "32/32 [==============================] - 0s 1ms/step - loss: 5.3169 - accuracy: 0.4790\n",
            "Epoch 44/100\n",
            "32/32 [==============================] - 0s 1ms/step - loss: 5.3017 - accuracy: 0.4780\n",
            "Epoch 45/100\n",
            "32/32 [==============================] - 0s 1ms/step - loss: 5.2849 - accuracy: 0.4780\n",
            "Epoch 46/100\n",
            "32/32 [==============================] - 0s 1ms/step - loss: 5.2821 - accuracy: 0.4780\n",
            "Epoch 47/100\n",
            "32/32 [==============================] - 0s 1ms/step - loss: 5.2801 - accuracy: 0.4770\n",
            "Epoch 48/100\n",
            "32/32 [==============================] - 0s 1ms/step - loss: 5.2777 - accuracy: 0.4780\n",
            "Epoch 49/100\n",
            "32/32 [==============================] - 0s 1ms/step - loss: 5.2759 - accuracy: 0.4770\n",
            "Epoch 50/100\n",
            "32/32 [==============================] - 0s 1ms/step - loss: 5.2655 - accuracy: 0.4780\n",
            "Epoch 51/100\n",
            "32/32 [==============================] - 0s 2ms/step - loss: 5.1834 - accuracy: 0.4790\n",
            "Epoch 52/100\n",
            "32/32 [==============================] - 0s 1ms/step - loss: 5.0857 - accuracy: 0.4730\n",
            "Epoch 53/100\n",
            "32/32 [==============================] - 0s 1ms/step - loss: 4.9723 - accuracy: 0.4750\n",
            "Epoch 54/100\n",
            "32/32 [==============================] - 0s 1ms/step - loss: 4.8421 - accuracy: 0.4700\n",
            "Epoch 55/100\n",
            "32/32 [==============================] - 0s 1ms/step - loss: 4.7981 - accuracy: 0.4700\n",
            "Epoch 56/100\n",
            "32/32 [==============================] - 0s 1ms/step - loss: 4.7720 - accuracy: 0.4670\n",
            "Epoch 57/100\n",
            "32/32 [==============================] - 0s 1ms/step - loss: 4.7411 - accuracy: 0.4680\n",
            "Epoch 58/100\n",
            "32/32 [==============================] - 0s 2ms/step - loss: 4.7236 - accuracy: 0.4670\n",
            "Epoch 59/100\n",
            "32/32 [==============================] - 0s 2ms/step - loss: 4.7189 - accuracy: 0.4660\n",
            "Epoch 60/100\n",
            "32/32 [==============================] - 0s 1ms/step - loss: 4.7158 - accuracy: 0.4670\n",
            "Epoch 61/100\n",
            "32/32 [==============================] - 0s 1ms/step - loss: 4.7035 - accuracy: 0.4660\n",
            "Epoch 62/100\n",
            "32/32 [==============================] - 0s 1ms/step - loss: 4.6993 - accuracy: 0.4660\n",
            "Epoch 63/100\n",
            "32/32 [==============================] - 0s 1ms/step - loss: 4.6963 - accuracy: 0.4650\n",
            "Epoch 64/100\n",
            "32/32 [==============================] - 0s 1ms/step - loss: 4.6844 - accuracy: 0.4650\n",
            "Epoch 65/100\n",
            "32/32 [==============================] - 0s 1ms/step - loss: 4.6810 - accuracy: 0.4640\n",
            "Epoch 66/100\n",
            "32/32 [==============================] - 0s 1ms/step - loss: 4.6781 - accuracy: 0.4640\n",
            "Epoch 67/100\n",
            "32/32 [==============================] - 0s 1ms/step - loss: 4.6762 - accuracy: 0.4640\n",
            "Epoch 68/100\n",
            "32/32 [==============================] - 0s 1ms/step - loss: 4.6744 - accuracy: 0.4640\n",
            "Epoch 69/100\n",
            "32/32 [==============================] - 0s 1ms/step - loss: 4.6726 - accuracy: 0.4640\n",
            "Epoch 70/100\n",
            "32/32 [==============================] - 0s 1ms/step - loss: 4.6710 - accuracy: 0.4640\n",
            "Epoch 71/100\n",
            "32/32 [==============================] - 0s 2ms/step - loss: 4.6695 - accuracy: 0.4640\n",
            "Epoch 72/100\n",
            "32/32 [==============================] - 0s 1ms/step - loss: 4.6679 - accuracy: 0.4650\n",
            "Epoch 73/100\n",
            "32/32 [==============================] - 0s 2ms/step - loss: 4.6665 - accuracy: 0.4640\n",
            "Epoch 74/100\n",
            "32/32 [==============================] - 0s 1ms/step - loss: 4.6650 - accuracy: 0.4640\n",
            "Epoch 75/100\n",
            "32/32 [==============================] - 0s 1ms/step - loss: 4.6635 - accuracy: 0.4650\n",
            "Epoch 76/100\n",
            "32/32 [==============================] - 0s 1ms/step - loss: 4.6622 - accuracy: 0.4650\n",
            "Epoch 77/100\n",
            "32/32 [==============================] - 0s 2ms/step - loss: 4.6609 - accuracy: 0.4660\n",
            "Epoch 78/100\n",
            "32/32 [==============================] - 0s 1ms/step - loss: 4.6597 - accuracy: 0.4660\n",
            "Epoch 79/100\n",
            "32/32 [==============================] - 0s 1ms/step - loss: 4.6584 - accuracy: 0.4660\n",
            "Epoch 80/100\n",
            "32/32 [==============================] - 0s 1ms/step - loss: 4.6572 - accuracy: 0.4660\n",
            "Epoch 81/100\n",
            "32/32 [==============================] - 0s 1ms/step - loss: 4.6561 - accuracy: 0.4670\n",
            "Epoch 82/100\n",
            "32/32 [==============================] - 0s 1ms/step - loss: 4.6549 - accuracy: 0.4680\n",
            "Epoch 83/100\n",
            "32/32 [==============================] - 0s 1ms/step - loss: 4.6537 - accuracy: 0.4680\n",
            "Epoch 84/100\n",
            "32/32 [==============================] - 0s 2ms/step - loss: 4.6526 - accuracy: 0.4680\n",
            "Epoch 85/100\n",
            "32/32 [==============================] - 0s 1ms/step - loss: 4.6515 - accuracy: 0.4680\n",
            "Epoch 86/100\n",
            "32/32 [==============================] - 0s 1ms/step - loss: 4.6505 - accuracy: 0.4680\n",
            "Epoch 87/100\n",
            "32/32 [==============================] - 0s 1ms/step - loss: 4.6493 - accuracy: 0.4690\n",
            "Epoch 88/100\n",
            "32/32 [==============================] - 0s 1ms/step - loss: 4.6406 - accuracy: 0.4690\n",
            "Epoch 89/100\n",
            "32/32 [==============================] - 0s 2ms/step - loss: 4.6170 - accuracy: 0.4680\n",
            "Epoch 90/100\n",
            "32/32 [==============================] - 0s 1ms/step - loss: 4.6029 - accuracy: 0.4670\n",
            "Epoch 91/100\n",
            "32/32 [==============================] - 0s 2ms/step - loss: 4.6009 - accuracy: 0.4670\n",
            "Epoch 92/100\n",
            "32/32 [==============================] - 0s 2ms/step - loss: 4.5992 - accuracy: 0.4660\n",
            "Epoch 93/100\n",
            "32/32 [==============================] - 0s 1ms/step - loss: 4.5978 - accuracy: 0.4670\n",
            "Epoch 94/100\n",
            "32/32 [==============================] - 0s 1ms/step - loss: 4.5963 - accuracy: 0.4670\n",
            "Epoch 95/100\n",
            "32/32 [==============================] - 0s 2ms/step - loss: 4.5950 - accuracy: 0.4660\n",
            "Epoch 96/100\n",
            "32/32 [==============================] - 0s 2ms/step - loss: 4.5936 - accuracy: 0.4660\n",
            "Epoch 97/100\n",
            "32/32 [==============================] - 0s 1ms/step - loss: 4.5923 - accuracy: 0.4640\n",
            "Epoch 98/100\n",
            "32/32 [==============================] - 0s 2ms/step - loss: 4.5910 - accuracy: 0.4640\n",
            "Epoch 99/100\n",
            "32/32 [==============================] - 0s 1ms/step - loss: 4.5897 - accuracy: 0.4640\n",
            "Epoch 100/100\n",
            "32/32 [==============================] - 0s 1ms/step - loss: 4.5885 - accuracy: 0.4640\n"
          ]
        }
      ]
    },
    {
      "cell_type": "code",
      "source": [
        "# time to replicate the multi-layer neural network from TensorFlow playgroup\n",
        "tf.random.set_seed=42\n",
        "\n",
        "#Create the model\n",
        "model_6 = tf.keras.Sequential([\n",
        "                               tf.keras.layers.Dense(4,activation=\"relu\"),\n",
        "                               tf.keras.layers.Dense(4,activation=\"relu\"),\n",
        "                               tf.keras.layers.Dense(1)\n",
        "])\n",
        "#Compile the model\n",
        "model_6.compile(loss=\"binary_crossentropy\", \n",
        "                optimizer=tf.keras.optimizers.Adam(lr=0.001),\n",
        "                metrics=[\"accuracy\"])\n",
        "\n",
        "#Fit the model\n",
        "history = model_6.fit(X, y, epochs=250)\n",
        "\n"
      ],
      "metadata": {
        "colab": {
          "base_uri": "https://localhost:8080/"
        },
        "id": "-VfcgZqUbK-q",
        "outputId": "d1088842-81a9-41f0-e88b-777cee69f590"
      },
      "execution_count": 85,
      "outputs": [
        {
          "output_type": "stream",
          "name": "stdout",
          "text": [
            "Epoch 1/250\n"
          ]
        },
        {
          "output_type": "stream",
          "name": "stderr",
          "text": [
            "/usr/local/lib/python3.7/dist-packages/keras/optimizer_v2/adam.py:105: UserWarning: The `lr` argument is deprecated, use `learning_rate` instead.\n",
            "  super(Adam, self).__init__(name, **kwargs)\n"
          ]
        },
        {
          "output_type": "stream",
          "name": "stdout",
          "text": [
            "32/32 [==============================] - 1s 1ms/step - loss: 7.7125 - accuracy: 0.5000\n",
            "Epoch 2/250\n",
            "32/32 [==============================] - 0s 2ms/step - loss: 7.7125 - accuracy: 0.5000\n",
            "Epoch 3/250\n",
            "32/32 [==============================] - 0s 1ms/step - loss: 7.7125 - accuracy: 0.5000\n",
            "Epoch 4/250\n",
            "32/32 [==============================] - 0s 2ms/step - loss: 7.7125 - accuracy: 0.5000\n",
            "Epoch 5/250\n",
            "32/32 [==============================] - 0s 1ms/step - loss: 7.7125 - accuracy: 0.5000\n",
            "Epoch 6/250\n",
            "32/32 [==============================] - 0s 2ms/step - loss: 7.7125 - accuracy: 0.5000\n",
            "Epoch 7/250\n",
            "32/32 [==============================] - 0s 1ms/step - loss: 7.7125 - accuracy: 0.5000\n",
            "Epoch 8/250\n",
            "32/32 [==============================] - 0s 2ms/step - loss: 7.7125 - accuracy: 0.5000\n",
            "Epoch 9/250\n",
            "32/32 [==============================] - 0s 2ms/step - loss: 7.7125 - accuracy: 0.5000\n",
            "Epoch 10/250\n",
            "32/32 [==============================] - 0s 1ms/step - loss: 7.7125 - accuracy: 0.5000\n",
            "Epoch 11/250\n",
            "32/32 [==============================] - 0s 2ms/step - loss: 7.7125 - accuracy: 0.5000\n",
            "Epoch 12/250\n",
            "32/32 [==============================] - 0s 2ms/step - loss: 7.7125 - accuracy: 0.5000\n",
            "Epoch 13/250\n",
            "32/32 [==============================] - 0s 1ms/step - loss: 7.7125 - accuracy: 0.5000\n",
            "Epoch 14/250\n",
            "32/32 [==============================] - 0s 2ms/step - loss: 7.7125 - accuracy: 0.5000\n",
            "Epoch 15/250\n",
            "32/32 [==============================] - 0s 1ms/step - loss: 7.7125 - accuracy: 0.5000\n",
            "Epoch 16/250\n",
            "32/32 [==============================] - 0s 2ms/step - loss: 7.7125 - accuracy: 0.5000\n",
            "Epoch 17/250\n",
            "32/32 [==============================] - 0s 2ms/step - loss: 7.7125 - accuracy: 0.5000\n",
            "Epoch 18/250\n",
            "32/32 [==============================] - 0s 2ms/step - loss: 7.7125 - accuracy: 0.5000\n",
            "Epoch 19/250\n",
            "32/32 [==============================] - 0s 2ms/step - loss: 7.7125 - accuracy: 0.5000\n",
            "Epoch 20/250\n",
            "32/32 [==============================] - 0s 2ms/step - loss: 7.7125 - accuracy: 0.5000\n",
            "Epoch 21/250\n",
            "32/32 [==============================] - 0s 2ms/step - loss: 7.7125 - accuracy: 0.5000\n",
            "Epoch 22/250\n",
            "32/32 [==============================] - 0s 1ms/step - loss: 7.7125 - accuracy: 0.5000\n",
            "Epoch 23/250\n",
            "32/32 [==============================] - 0s 2ms/step - loss: 7.7125 - accuracy: 0.5000\n",
            "Epoch 24/250\n",
            "32/32 [==============================] - 0s 1ms/step - loss: 7.7125 - accuracy: 0.5000\n",
            "Epoch 25/250\n",
            "32/32 [==============================] - 0s 1ms/step - loss: 7.7125 - accuracy: 0.5000\n",
            "Epoch 26/250\n",
            "32/32 [==============================] - 0s 1ms/step - loss: 7.7125 - accuracy: 0.5000\n",
            "Epoch 27/250\n",
            "32/32 [==============================] - 0s 2ms/step - loss: 7.7125 - accuracy: 0.5000\n",
            "Epoch 28/250\n",
            "32/32 [==============================] - 0s 2ms/step - loss: 7.7125 - accuracy: 0.5000\n",
            "Epoch 29/250\n",
            "32/32 [==============================] - 0s 2ms/step - loss: 7.7125 - accuracy: 0.5000\n",
            "Epoch 30/250\n",
            "32/32 [==============================] - 0s 2ms/step - loss: 7.7125 - accuracy: 0.5000\n",
            "Epoch 31/250\n",
            "32/32 [==============================] - 0s 2ms/step - loss: 7.7125 - accuracy: 0.5000\n",
            "Epoch 32/250\n",
            "32/32 [==============================] - 0s 2ms/step - loss: 7.7125 - accuracy: 0.5000\n",
            "Epoch 33/250\n",
            "32/32 [==============================] - 0s 2ms/step - loss: 7.7125 - accuracy: 0.5000\n",
            "Epoch 34/250\n",
            "32/32 [==============================] - 0s 1ms/step - loss: 7.7125 - accuracy: 0.5000\n",
            "Epoch 35/250\n",
            "32/32 [==============================] - 0s 1ms/step - loss: 7.7125 - accuracy: 0.5000\n",
            "Epoch 36/250\n",
            "32/32 [==============================] - 0s 2ms/step - loss: 7.7125 - accuracy: 0.5000\n",
            "Epoch 37/250\n",
            "32/32 [==============================] - 0s 1ms/step - loss: 7.7125 - accuracy: 0.5000\n",
            "Epoch 38/250\n",
            "32/32 [==============================] - 0s 2ms/step - loss: 7.7125 - accuracy: 0.5000\n",
            "Epoch 39/250\n",
            "32/32 [==============================] - 0s 1ms/step - loss: 7.7125 - accuracy: 0.5000\n",
            "Epoch 40/250\n",
            "32/32 [==============================] - 0s 2ms/step - loss: 7.7125 - accuracy: 0.5000\n",
            "Epoch 41/250\n",
            "32/32 [==============================] - 0s 2ms/step - loss: 7.7125 - accuracy: 0.5000\n",
            "Epoch 42/250\n",
            "32/32 [==============================] - 0s 2ms/step - loss: 7.7125 - accuracy: 0.5000\n",
            "Epoch 43/250\n",
            "32/32 [==============================] - 0s 2ms/step - loss: 7.7125 - accuracy: 0.5000\n",
            "Epoch 44/250\n",
            "32/32 [==============================] - 0s 1ms/step - loss: 7.7125 - accuracy: 0.5000\n",
            "Epoch 45/250\n",
            "32/32 [==============================] - 0s 2ms/step - loss: 7.7125 - accuracy: 0.5000\n",
            "Epoch 46/250\n",
            "32/32 [==============================] - 0s 1ms/step - loss: 7.7125 - accuracy: 0.5000\n",
            "Epoch 47/250\n",
            "32/32 [==============================] - 0s 1ms/step - loss: 7.7125 - accuracy: 0.5000\n",
            "Epoch 48/250\n",
            "32/32 [==============================] - 0s 2ms/step - loss: 7.7125 - accuracy: 0.5000\n",
            "Epoch 49/250\n",
            "32/32 [==============================] - 0s 1ms/step - loss: 7.7125 - accuracy: 0.5000\n",
            "Epoch 50/250\n",
            "32/32 [==============================] - 0s 2ms/step - loss: 7.7125 - accuracy: 0.5000\n",
            "Epoch 51/250\n",
            "32/32 [==============================] - 0s 1ms/step - loss: 7.7125 - accuracy: 0.5000\n",
            "Epoch 52/250\n",
            "32/32 [==============================] - 0s 2ms/step - loss: 7.7125 - accuracy: 0.5000\n",
            "Epoch 53/250\n",
            "32/32 [==============================] - 0s 2ms/step - loss: 7.7125 - accuracy: 0.5000\n",
            "Epoch 54/250\n",
            "32/32 [==============================] - 0s 1ms/step - loss: 7.7125 - accuracy: 0.5000\n",
            "Epoch 55/250\n",
            "32/32 [==============================] - 0s 2ms/step - loss: 7.7125 - accuracy: 0.5000\n",
            "Epoch 56/250\n",
            "32/32 [==============================] - 0s 2ms/step - loss: 7.7125 - accuracy: 0.5000\n",
            "Epoch 57/250\n",
            "32/32 [==============================] - 0s 1ms/step - loss: 7.7125 - accuracy: 0.5000\n",
            "Epoch 58/250\n",
            "32/32 [==============================] - 0s 1ms/step - loss: 7.7125 - accuracy: 0.5000\n",
            "Epoch 59/250\n",
            "32/32 [==============================] - 0s 1ms/step - loss: 7.7125 - accuracy: 0.5000\n",
            "Epoch 60/250\n",
            "32/32 [==============================] - 0s 2ms/step - loss: 7.7125 - accuracy: 0.5000\n",
            "Epoch 61/250\n",
            "32/32 [==============================] - 0s 1ms/step - loss: 7.7125 - accuracy: 0.5000\n",
            "Epoch 62/250\n",
            "32/32 [==============================] - 0s 2ms/step - loss: 7.7125 - accuracy: 0.5000\n",
            "Epoch 63/250\n",
            "32/32 [==============================] - 0s 1ms/step - loss: 7.7125 - accuracy: 0.5000\n",
            "Epoch 64/250\n",
            "32/32 [==============================] - 0s 2ms/step - loss: 7.7125 - accuracy: 0.5000\n",
            "Epoch 65/250\n",
            "32/32 [==============================] - 0s 1ms/step - loss: 7.7125 - accuracy: 0.5000\n",
            "Epoch 66/250\n",
            "32/32 [==============================] - 0s 1ms/step - loss: 7.7125 - accuracy: 0.5000\n",
            "Epoch 67/250\n",
            "32/32 [==============================] - 0s 2ms/step - loss: 7.7125 - accuracy: 0.5000\n",
            "Epoch 68/250\n",
            "32/32 [==============================] - 0s 2ms/step - loss: 7.7125 - accuracy: 0.5000\n",
            "Epoch 69/250\n",
            "32/32 [==============================] - 0s 1ms/step - loss: 7.7125 - accuracy: 0.5000\n",
            "Epoch 70/250\n",
            "32/32 [==============================] - 0s 2ms/step - loss: 7.7125 - accuracy: 0.5000\n",
            "Epoch 71/250\n",
            "32/32 [==============================] - 0s 1ms/step - loss: 7.7125 - accuracy: 0.5000\n",
            "Epoch 72/250\n",
            "32/32 [==============================] - 0s 2ms/step - loss: 7.7125 - accuracy: 0.5000\n",
            "Epoch 73/250\n",
            "32/32 [==============================] - 0s 2ms/step - loss: 7.7125 - accuracy: 0.5000\n",
            "Epoch 74/250\n",
            "32/32 [==============================] - 0s 2ms/step - loss: 7.7125 - accuracy: 0.5000\n",
            "Epoch 75/250\n",
            "32/32 [==============================] - 0s 1ms/step - loss: 7.7125 - accuracy: 0.5000\n",
            "Epoch 76/250\n",
            "32/32 [==============================] - 0s 1ms/step - loss: 7.7125 - accuracy: 0.5000\n",
            "Epoch 77/250\n",
            "32/32 [==============================] - 0s 2ms/step - loss: 7.7125 - accuracy: 0.5000\n",
            "Epoch 78/250\n",
            "32/32 [==============================] - 0s 1ms/step - loss: 7.7125 - accuracy: 0.5000\n",
            "Epoch 79/250\n",
            "32/32 [==============================] - 0s 2ms/step - loss: 7.7125 - accuracy: 0.5000\n",
            "Epoch 80/250\n",
            "32/32 [==============================] - 0s 1ms/step - loss: 7.7125 - accuracy: 0.5000\n",
            "Epoch 81/250\n",
            "32/32 [==============================] - 0s 1ms/step - loss: 7.7125 - accuracy: 0.5000\n",
            "Epoch 82/250\n",
            "32/32 [==============================] - 0s 1ms/step - loss: 7.7125 - accuracy: 0.5000\n",
            "Epoch 83/250\n",
            "32/32 [==============================] - 0s 1ms/step - loss: 7.7125 - accuracy: 0.5000\n",
            "Epoch 84/250\n",
            "32/32 [==============================] - 0s 1ms/step - loss: 7.7125 - accuracy: 0.5000\n",
            "Epoch 85/250\n",
            "32/32 [==============================] - 0s 1ms/step - loss: 7.7125 - accuracy: 0.5000\n",
            "Epoch 86/250\n",
            "32/32 [==============================] - 0s 1ms/step - loss: 7.7125 - accuracy: 0.5000\n",
            "Epoch 87/250\n",
            "32/32 [==============================] - 0s 1ms/step - loss: 7.7125 - accuracy: 0.5000\n",
            "Epoch 88/250\n",
            "32/32 [==============================] - 0s 2ms/step - loss: 7.7125 - accuracy: 0.5000\n",
            "Epoch 89/250\n",
            "32/32 [==============================] - 0s 2ms/step - loss: 7.7125 - accuracy: 0.5000\n",
            "Epoch 90/250\n",
            "32/32 [==============================] - 0s 2ms/step - loss: 7.7125 - accuracy: 0.5000\n",
            "Epoch 91/250\n",
            "32/32 [==============================] - 0s 2ms/step - loss: 7.7125 - accuracy: 0.5000\n",
            "Epoch 92/250\n",
            "32/32 [==============================] - 0s 2ms/step - loss: 7.7125 - accuracy: 0.5000\n",
            "Epoch 93/250\n",
            "32/32 [==============================] - 0s 2ms/step - loss: 7.7125 - accuracy: 0.5000\n",
            "Epoch 94/250\n",
            "32/32 [==============================] - 0s 1ms/step - loss: 7.7125 - accuracy: 0.5000\n",
            "Epoch 95/250\n",
            "32/32 [==============================] - 0s 2ms/step - loss: 7.7125 - accuracy: 0.5000\n",
            "Epoch 96/250\n",
            "32/32 [==============================] - 0s 1ms/step - loss: 7.7125 - accuracy: 0.5000\n",
            "Epoch 97/250\n",
            "32/32 [==============================] - 0s 1ms/step - loss: 7.7125 - accuracy: 0.5000\n",
            "Epoch 98/250\n",
            "32/32 [==============================] - 0s 1ms/step - loss: 7.7125 - accuracy: 0.5000\n",
            "Epoch 99/250\n",
            "32/32 [==============================] - 0s 1ms/step - loss: 7.7125 - accuracy: 0.5000\n",
            "Epoch 100/250\n",
            "32/32 [==============================] - 0s 1ms/step - loss: 7.7125 - accuracy: 0.5000\n",
            "Epoch 101/250\n",
            "32/32 [==============================] - 0s 2ms/step - loss: 7.7125 - accuracy: 0.5000\n",
            "Epoch 102/250\n",
            "32/32 [==============================] - 0s 1ms/step - loss: 7.7125 - accuracy: 0.5000\n",
            "Epoch 103/250\n",
            "32/32 [==============================] - 0s 1ms/step - loss: 7.7125 - accuracy: 0.5000\n",
            "Epoch 104/250\n",
            "32/32 [==============================] - 0s 2ms/step - loss: 7.7125 - accuracy: 0.5000\n",
            "Epoch 105/250\n",
            "32/32 [==============================] - 0s 2ms/step - loss: 7.7125 - accuracy: 0.5000\n",
            "Epoch 106/250\n",
            "32/32 [==============================] - 0s 1ms/step - loss: 7.7125 - accuracy: 0.5000\n",
            "Epoch 107/250\n",
            "32/32 [==============================] - 0s 1ms/step - loss: 7.7125 - accuracy: 0.5000\n",
            "Epoch 108/250\n",
            "32/32 [==============================] - 0s 2ms/step - loss: 7.7125 - accuracy: 0.5000\n",
            "Epoch 109/250\n",
            "32/32 [==============================] - 0s 1ms/step - loss: 7.7125 - accuracy: 0.5000\n",
            "Epoch 110/250\n",
            "32/32 [==============================] - 0s 2ms/step - loss: 7.7125 - accuracy: 0.5000\n",
            "Epoch 111/250\n",
            "32/32 [==============================] - 0s 1ms/step - loss: 7.7125 - accuracy: 0.5000\n",
            "Epoch 112/250\n",
            "32/32 [==============================] - 0s 1ms/step - loss: 7.7125 - accuracy: 0.5000\n",
            "Epoch 113/250\n",
            "32/32 [==============================] - 0s 1ms/step - loss: 7.7125 - accuracy: 0.5000\n",
            "Epoch 114/250\n",
            "32/32 [==============================] - 0s 1ms/step - loss: 7.7125 - accuracy: 0.5000\n",
            "Epoch 115/250\n",
            "32/32 [==============================] - 0s 1ms/step - loss: 7.7125 - accuracy: 0.5000\n",
            "Epoch 116/250\n",
            "32/32 [==============================] - 0s 2ms/step - loss: 7.7125 - accuracy: 0.5000\n",
            "Epoch 117/250\n",
            "32/32 [==============================] - 0s 2ms/step - loss: 7.7125 - accuracy: 0.5000\n",
            "Epoch 118/250\n",
            "32/32 [==============================] - 0s 1ms/step - loss: 7.7125 - accuracy: 0.5000\n",
            "Epoch 119/250\n",
            "32/32 [==============================] - 0s 1ms/step - loss: 7.7125 - accuracy: 0.5000\n",
            "Epoch 120/250\n",
            "32/32 [==============================] - 0s 2ms/step - loss: 7.7125 - accuracy: 0.5000\n",
            "Epoch 121/250\n",
            "32/32 [==============================] - 0s 1ms/step - loss: 7.7125 - accuracy: 0.5000\n",
            "Epoch 122/250\n",
            "32/32 [==============================] - 0s 1ms/step - loss: 7.7125 - accuracy: 0.5000\n",
            "Epoch 123/250\n",
            "32/32 [==============================] - 0s 2ms/step - loss: 7.7125 - accuracy: 0.5000\n",
            "Epoch 124/250\n",
            "32/32 [==============================] - 0s 2ms/step - loss: 7.7125 - accuracy: 0.5000\n",
            "Epoch 125/250\n",
            "32/32 [==============================] - 0s 2ms/step - loss: 7.7125 - accuracy: 0.5000\n",
            "Epoch 126/250\n",
            "32/32 [==============================] - 0s 1ms/step - loss: 7.7125 - accuracy: 0.5000\n",
            "Epoch 127/250\n",
            "32/32 [==============================] - 0s 1ms/step - loss: 7.7125 - accuracy: 0.5000\n",
            "Epoch 128/250\n",
            "32/32 [==============================] - 0s 2ms/step - loss: 7.7125 - accuracy: 0.5000\n",
            "Epoch 129/250\n",
            "32/32 [==============================] - 0s 1ms/step - loss: 7.7125 - accuracy: 0.5000\n",
            "Epoch 130/250\n",
            "32/32 [==============================] - 0s 1ms/step - loss: 7.7125 - accuracy: 0.5000\n",
            "Epoch 131/250\n",
            "32/32 [==============================] - 0s 2ms/step - loss: 7.7125 - accuracy: 0.5000\n",
            "Epoch 132/250\n",
            "32/32 [==============================] - 0s 2ms/step - loss: 7.7125 - accuracy: 0.5000\n",
            "Epoch 133/250\n",
            "32/32 [==============================] - 0s 1ms/step - loss: 7.7125 - accuracy: 0.5000\n",
            "Epoch 134/250\n",
            "32/32 [==============================] - 0s 2ms/step - loss: 7.7125 - accuracy: 0.5000\n",
            "Epoch 135/250\n",
            "32/32 [==============================] - 0s 1ms/step - loss: 7.7125 - accuracy: 0.5000\n",
            "Epoch 136/250\n",
            "32/32 [==============================] - 0s 1ms/step - loss: 7.7125 - accuracy: 0.5000\n",
            "Epoch 137/250\n",
            "32/32 [==============================] - 0s 2ms/step - loss: 7.7125 - accuracy: 0.5000\n",
            "Epoch 138/250\n",
            "32/32 [==============================] - 0s 2ms/step - loss: 7.7125 - accuracy: 0.5000\n",
            "Epoch 139/250\n",
            "32/32 [==============================] - 0s 2ms/step - loss: 7.7125 - accuracy: 0.5000\n",
            "Epoch 140/250\n",
            "32/32 [==============================] - 0s 2ms/step - loss: 7.7125 - accuracy: 0.5000\n",
            "Epoch 141/250\n",
            "32/32 [==============================] - 0s 2ms/step - loss: 7.7125 - accuracy: 0.5000\n",
            "Epoch 142/250\n",
            "32/32 [==============================] - 0s 1ms/step - loss: 7.7125 - accuracy: 0.5000\n",
            "Epoch 143/250\n",
            "32/32 [==============================] - 0s 2ms/step - loss: 7.7125 - accuracy: 0.5000\n",
            "Epoch 144/250\n",
            "32/32 [==============================] - 0s 1ms/step - loss: 7.7125 - accuracy: 0.5000\n",
            "Epoch 145/250\n",
            "32/32 [==============================] - 0s 2ms/step - loss: 7.7125 - accuracy: 0.5000\n",
            "Epoch 146/250\n",
            "32/32 [==============================] - 0s 2ms/step - loss: 7.7125 - accuracy: 0.5000\n",
            "Epoch 147/250\n",
            "32/32 [==============================] - 0s 2ms/step - loss: 7.7125 - accuracy: 0.5000\n",
            "Epoch 148/250\n",
            "32/32 [==============================] - 0s 2ms/step - loss: 7.7125 - accuracy: 0.5000\n",
            "Epoch 149/250\n",
            "32/32 [==============================] - 0s 1ms/step - loss: 7.7125 - accuracy: 0.5000\n",
            "Epoch 150/250\n",
            "32/32 [==============================] - 0s 2ms/step - loss: 7.7125 - accuracy: 0.5000\n",
            "Epoch 151/250\n",
            "32/32 [==============================] - 0s 1ms/step - loss: 7.7125 - accuracy: 0.5000\n",
            "Epoch 152/250\n",
            "32/32 [==============================] - 0s 2ms/step - loss: 7.7125 - accuracy: 0.5000\n",
            "Epoch 153/250\n",
            "32/32 [==============================] - 0s 2ms/step - loss: 7.7125 - accuracy: 0.5000\n",
            "Epoch 154/250\n",
            "32/32 [==============================] - 0s 2ms/step - loss: 7.7125 - accuracy: 0.5000\n",
            "Epoch 155/250\n",
            "32/32 [==============================] - 0s 2ms/step - loss: 7.7125 - accuracy: 0.5000\n",
            "Epoch 156/250\n",
            "32/32 [==============================] - 0s 2ms/step - loss: 7.7125 - accuracy: 0.5000\n",
            "Epoch 157/250\n",
            "32/32 [==============================] - 0s 2ms/step - loss: 7.7125 - accuracy: 0.5000\n",
            "Epoch 158/250\n",
            "32/32 [==============================] - 0s 2ms/step - loss: 7.7125 - accuracy: 0.5000\n",
            "Epoch 159/250\n",
            "32/32 [==============================] - 0s 1ms/step - loss: 7.7125 - accuracy: 0.5000\n",
            "Epoch 160/250\n",
            "32/32 [==============================] - 0s 2ms/step - loss: 7.7125 - accuracy: 0.5000\n",
            "Epoch 161/250\n",
            "32/32 [==============================] - 0s 2ms/step - loss: 7.7125 - accuracy: 0.5000\n",
            "Epoch 162/250\n",
            "32/32 [==============================] - 0s 2ms/step - loss: 7.7125 - accuracy: 0.5000\n",
            "Epoch 163/250\n",
            "32/32 [==============================] - 0s 2ms/step - loss: 7.7125 - accuracy: 0.5000\n",
            "Epoch 164/250\n",
            "32/32 [==============================] - 0s 1ms/step - loss: 7.7125 - accuracy: 0.5000\n",
            "Epoch 165/250\n",
            "32/32 [==============================] - 0s 2ms/step - loss: 7.7125 - accuracy: 0.5000\n",
            "Epoch 166/250\n",
            "32/32 [==============================] - 0s 1ms/step - loss: 7.7125 - accuracy: 0.5000\n",
            "Epoch 167/250\n",
            "32/32 [==============================] - 0s 1ms/step - loss: 7.7125 - accuracy: 0.5000\n",
            "Epoch 168/250\n",
            "32/32 [==============================] - 0s 2ms/step - loss: 7.7125 - accuracy: 0.5000\n",
            "Epoch 169/250\n",
            "32/32 [==============================] - 0s 1ms/step - loss: 7.7125 - accuracy: 0.5000\n",
            "Epoch 170/250\n",
            "32/32 [==============================] - 0s 1ms/step - loss: 7.7125 - accuracy: 0.5000\n",
            "Epoch 171/250\n",
            "32/32 [==============================] - 0s 2ms/step - loss: 7.7125 - accuracy: 0.5000\n",
            "Epoch 172/250\n",
            "32/32 [==============================] - 0s 2ms/step - loss: 7.7125 - accuracy: 0.5000\n",
            "Epoch 173/250\n",
            "32/32 [==============================] - 0s 2ms/step - loss: 7.7125 - accuracy: 0.5000\n",
            "Epoch 174/250\n",
            "32/32 [==============================] - 0s 2ms/step - loss: 7.7125 - accuracy: 0.5000\n",
            "Epoch 175/250\n",
            "32/32 [==============================] - 0s 2ms/step - loss: 7.7125 - accuracy: 0.5000\n",
            "Epoch 176/250\n",
            "32/32 [==============================] - 0s 2ms/step - loss: 7.7125 - accuracy: 0.5000\n",
            "Epoch 177/250\n",
            "32/32 [==============================] - 0s 1ms/step - loss: 7.7125 - accuracy: 0.5000\n",
            "Epoch 178/250\n",
            "32/32 [==============================] - 0s 1ms/step - loss: 7.7125 - accuracy: 0.5000\n",
            "Epoch 179/250\n",
            "32/32 [==============================] - 0s 2ms/step - loss: 7.7125 - accuracy: 0.5000\n",
            "Epoch 180/250\n",
            "32/32 [==============================] - 0s 2ms/step - loss: 7.7125 - accuracy: 0.5000\n",
            "Epoch 181/250\n",
            "32/32 [==============================] - 0s 2ms/step - loss: 7.7125 - accuracy: 0.5000\n",
            "Epoch 182/250\n",
            "32/32 [==============================] - 0s 1ms/step - loss: 7.7125 - accuracy: 0.5000\n",
            "Epoch 183/250\n",
            "32/32 [==============================] - 0s 2ms/step - loss: 7.7125 - accuracy: 0.5000\n",
            "Epoch 184/250\n",
            "32/32 [==============================] - 0s 2ms/step - loss: 7.7125 - accuracy: 0.5000\n",
            "Epoch 185/250\n",
            "32/32 [==============================] - 0s 1ms/step - loss: 7.7125 - accuracy: 0.5000\n",
            "Epoch 186/250\n",
            "32/32 [==============================] - 0s 2ms/step - loss: 7.7125 - accuracy: 0.5000\n",
            "Epoch 187/250\n",
            "32/32 [==============================] - 0s 2ms/step - loss: 7.7125 - accuracy: 0.5000\n",
            "Epoch 188/250\n",
            "32/32 [==============================] - 0s 2ms/step - loss: 7.7125 - accuracy: 0.5000\n",
            "Epoch 189/250\n",
            "32/32 [==============================] - 0s 2ms/step - loss: 7.7125 - accuracy: 0.5000\n",
            "Epoch 190/250\n",
            "32/32 [==============================] - 0s 2ms/step - loss: 7.7125 - accuracy: 0.5000\n",
            "Epoch 191/250\n",
            "32/32 [==============================] - 0s 2ms/step - loss: 7.7125 - accuracy: 0.5000\n",
            "Epoch 192/250\n",
            "32/32 [==============================] - 0s 1ms/step - loss: 7.7125 - accuracy: 0.5000\n",
            "Epoch 193/250\n",
            "32/32 [==============================] - 0s 2ms/step - loss: 7.7125 - accuracy: 0.5000\n",
            "Epoch 194/250\n",
            "32/32 [==============================] - 0s 2ms/step - loss: 7.7125 - accuracy: 0.5000\n",
            "Epoch 195/250\n",
            "32/32 [==============================] - 0s 1ms/step - loss: 7.7125 - accuracy: 0.5000\n",
            "Epoch 196/250\n",
            "32/32 [==============================] - 0s 2ms/step - loss: 7.7125 - accuracy: 0.5000\n",
            "Epoch 197/250\n",
            "32/32 [==============================] - 0s 2ms/step - loss: 7.7125 - accuracy: 0.5000\n",
            "Epoch 198/250\n",
            "32/32 [==============================] - 0s 2ms/step - loss: 7.7125 - accuracy: 0.5000\n",
            "Epoch 199/250\n",
            "32/32 [==============================] - 0s 2ms/step - loss: 7.7125 - accuracy: 0.5000\n",
            "Epoch 200/250\n",
            "32/32 [==============================] - 0s 2ms/step - loss: 7.7125 - accuracy: 0.5000\n",
            "Epoch 201/250\n",
            "32/32 [==============================] - 0s 1ms/step - loss: 7.7125 - accuracy: 0.5000\n",
            "Epoch 202/250\n",
            "32/32 [==============================] - 0s 2ms/step - loss: 7.7125 - accuracy: 0.5000\n",
            "Epoch 203/250\n",
            "32/32 [==============================] - 0s 2ms/step - loss: 7.7125 - accuracy: 0.5000\n",
            "Epoch 204/250\n",
            "32/32 [==============================] - 0s 2ms/step - loss: 7.7125 - accuracy: 0.5000\n",
            "Epoch 205/250\n",
            "32/32 [==============================] - 0s 2ms/step - loss: 7.7125 - accuracy: 0.5000\n",
            "Epoch 206/250\n",
            "32/32 [==============================] - 0s 1ms/step - loss: 7.7125 - accuracy: 0.5000\n",
            "Epoch 207/250\n",
            "32/32 [==============================] - 0s 1ms/step - loss: 7.7125 - accuracy: 0.5000\n",
            "Epoch 208/250\n",
            "32/32 [==============================] - 0s 2ms/step - loss: 7.7125 - accuracy: 0.5000\n",
            "Epoch 209/250\n",
            "32/32 [==============================] - 0s 1ms/step - loss: 7.7125 - accuracy: 0.5000\n",
            "Epoch 210/250\n",
            "32/32 [==============================] - 0s 2ms/step - loss: 7.7125 - accuracy: 0.5000\n",
            "Epoch 211/250\n",
            "32/32 [==============================] - 0s 2ms/step - loss: 7.7125 - accuracy: 0.5000\n",
            "Epoch 212/250\n",
            "32/32 [==============================] - 0s 2ms/step - loss: 7.7125 - accuracy: 0.5000\n",
            "Epoch 213/250\n",
            "32/32 [==============================] - 0s 2ms/step - loss: 7.7125 - accuracy: 0.5000\n",
            "Epoch 214/250\n",
            "32/32 [==============================] - 0s 2ms/step - loss: 7.7125 - accuracy: 0.5000\n",
            "Epoch 215/250\n",
            "32/32 [==============================] - 0s 2ms/step - loss: 7.7125 - accuracy: 0.5000\n",
            "Epoch 216/250\n",
            "32/32 [==============================] - 0s 1ms/step - loss: 7.7125 - accuracy: 0.5000\n",
            "Epoch 217/250\n",
            "32/32 [==============================] - 0s 2ms/step - loss: 7.7125 - accuracy: 0.5000\n",
            "Epoch 218/250\n",
            "32/32 [==============================] - 0s 2ms/step - loss: 7.7125 - accuracy: 0.5000\n",
            "Epoch 219/250\n",
            "32/32 [==============================] - 0s 1ms/step - loss: 7.7125 - accuracy: 0.5000\n",
            "Epoch 220/250\n",
            "32/32 [==============================] - 0s 2ms/step - loss: 7.7125 - accuracy: 0.5000\n",
            "Epoch 221/250\n",
            "32/32 [==============================] - 0s 2ms/step - loss: 7.7125 - accuracy: 0.5000\n",
            "Epoch 222/250\n",
            "32/32 [==============================] - 0s 2ms/step - loss: 7.7125 - accuracy: 0.5000\n",
            "Epoch 223/250\n",
            "32/32 [==============================] - 0s 2ms/step - loss: 7.7125 - accuracy: 0.5000\n",
            "Epoch 224/250\n",
            "32/32 [==============================] - 0s 2ms/step - loss: 7.7125 - accuracy: 0.5000\n",
            "Epoch 225/250\n",
            "32/32 [==============================] - 0s 2ms/step - loss: 7.7125 - accuracy: 0.5000\n",
            "Epoch 226/250\n",
            "32/32 [==============================] - 0s 1ms/step - loss: 7.7125 - accuracy: 0.5000\n",
            "Epoch 227/250\n",
            "32/32 [==============================] - 0s 2ms/step - loss: 7.7125 - accuracy: 0.5000\n",
            "Epoch 228/250\n",
            "32/32 [==============================] - 0s 2ms/step - loss: 7.7125 - accuracy: 0.5000\n",
            "Epoch 229/250\n",
            "32/32 [==============================] - 0s 2ms/step - loss: 7.7125 - accuracy: 0.5000\n",
            "Epoch 230/250\n",
            "32/32 [==============================] - 0s 2ms/step - loss: 7.7125 - accuracy: 0.5000\n",
            "Epoch 231/250\n",
            "32/32 [==============================] - 0s 2ms/step - loss: 7.7125 - accuracy: 0.5000\n",
            "Epoch 232/250\n",
            "32/32 [==============================] - 0s 2ms/step - loss: 7.7125 - accuracy: 0.5000\n",
            "Epoch 233/250\n",
            "32/32 [==============================] - 0s 1ms/step - loss: 7.7125 - accuracy: 0.5000\n",
            "Epoch 234/250\n",
            "32/32 [==============================] - 0s 2ms/step - loss: 7.7125 - accuracy: 0.5000\n",
            "Epoch 235/250\n",
            "32/32 [==============================] - 0s 1ms/step - loss: 7.7125 - accuracy: 0.5000\n",
            "Epoch 236/250\n",
            "32/32 [==============================] - 0s 1ms/step - loss: 7.7125 - accuracy: 0.5000\n",
            "Epoch 237/250\n",
            "32/32 [==============================] - 0s 2ms/step - loss: 7.7125 - accuracy: 0.5000\n",
            "Epoch 238/250\n",
            "32/32 [==============================] - 0s 1ms/step - loss: 7.7125 - accuracy: 0.5000\n",
            "Epoch 239/250\n",
            "32/32 [==============================] - 0s 2ms/step - loss: 7.7125 - accuracy: 0.5000\n",
            "Epoch 240/250\n",
            "32/32 [==============================] - 0s 2ms/step - loss: 7.7125 - accuracy: 0.5000\n",
            "Epoch 241/250\n",
            "32/32 [==============================] - 0s 2ms/step - loss: 7.7125 - accuracy: 0.5000\n",
            "Epoch 242/250\n",
            "32/32 [==============================] - 0s 2ms/step - loss: 7.7125 - accuracy: 0.5000\n",
            "Epoch 243/250\n",
            "32/32 [==============================] - 0s 2ms/step - loss: 7.7125 - accuracy: 0.5000\n",
            "Epoch 244/250\n",
            "32/32 [==============================] - 0s 2ms/step - loss: 7.7125 - accuracy: 0.5000\n",
            "Epoch 245/250\n",
            "32/32 [==============================] - 0s 2ms/step - loss: 7.7125 - accuracy: 0.5000\n",
            "Epoch 246/250\n",
            "32/32 [==============================] - 0s 2ms/step - loss: 7.7125 - accuracy: 0.5000\n",
            "Epoch 247/250\n",
            "32/32 [==============================] - 0s 2ms/step - loss: 7.7125 - accuracy: 0.5000\n",
            "Epoch 248/250\n",
            "32/32 [==============================] - 0s 2ms/step - loss: 7.7125 - accuracy: 0.5000\n",
            "Epoch 249/250\n",
            "32/32 [==============================] - 0s 2ms/step - loss: 7.7125 - accuracy: 0.5000\n",
            "Epoch 250/250\n",
            "32/32 [==============================] - 0s 2ms/step - loss: 7.7125 - accuracy: 0.5000\n"
          ]
        }
      ]
    },
    {
      "cell_type": "code",
      "source": [
        "plot_decision_boundary(model_6, X, y)"
      ],
      "metadata": {
        "colab": {
          "base_uri": "https://localhost:8080/",
          "height": 282
        },
        "id": "x1zCfu3-iwVT",
        "outputId": "d777ef48-0cbb-41ce-cf1b-fe60141a772f"
      },
      "execution_count": 86,
      "outputs": [
        {
          "output_type": "stream",
          "name": "stdout",
          "text": [
            "doing binary classifcation...\n"
          ]
        },
        {
          "output_type": "display_data",
          "data": {
            "text/plain": [
              "<Figure size 432x288 with 1 Axes>"
            ],
            "image/png": "[encoded data removed]"
          },
          "metadata": {
            "needs_background": "light"
          }
        }
      ]
    },
    {
      "cell_type": "code",
      "source": [
        "# time to replicate the multi-layer neural network from TensorFlow playgroup\n",
        "tf.random.set_seed=42\n",
        "\n",
        "#Create the model\n",
        "model_7 = tf.keras.Sequential([\n",
        "                               tf.keras.layers.Dense(4,activation=\"relu\"),\n",
        "                               tf.keras.layers.Dense(4,activation=\"relu\"),\n",
        "                               tf.keras.layers.Dense(1, activation='sigmoid')\n",
        "])\n",
        "#Compile the model\n",
        "model_7.compile(loss=\"binary_crossentropy\", \n",
        "                optimizer=tf.keras.optimizers.Adam(lr=0.001),\n",
        "                metrics=[\"accuracy\"])\n",
        "\n",
        "#Fit the model\n",
        "history = model_7.fit(X, y, epochs=100)"
      ],
      "metadata": {
        "colab": {
          "base_uri": "https://localhost:8080/"
        },
        "id": "OiKZ1t6gkWXT",
        "outputId": "2f149d2b-b3a7-47e4-8398-f4b50e5a5ca6"
      },
      "execution_count": 87,
      "outputs": [
        {
          "output_type": "stream",
          "name": "stdout",
          "text": [
            "Epoch 1/100\n"
          ]
        },
        {
          "output_type": "stream",
          "name": "stderr",
          "text": [
            "/usr/local/lib/python3.7/dist-packages/keras/optimizer_v2/adam.py:105: UserWarning: The `lr` argument is deprecated, use `learning_rate` instead.\n",
            "  super(Adam, self).__init__(name, **kwargs)\n"
          ]
        },
        {
          "output_type": "stream",
          "name": "stdout",
          "text": [
            "32/32 [==============================] - 1s 2ms/step - loss: 0.6921 - accuracy: 0.5070\n",
            "Epoch 2/100\n",
            "32/32 [==============================] - 0s 2ms/step - loss: 0.6913 - accuracy: 0.5080\n",
            "Epoch 3/100\n",
            "32/32 [==============================] - 0s 2ms/step - loss: 0.6904 - accuracy: 0.5010\n",
            "Epoch 4/100\n",
            "32/32 [==============================] - 0s 1ms/step - loss: 0.6899 - accuracy: 0.4970\n",
            "Epoch 5/100\n",
            "32/32 [==============================] - 0s 1ms/step - loss: 0.6894 - accuracy: 0.5050\n",
            "Epoch 6/100\n",
            "32/32 [==============================] - 0s 2ms/step - loss: 0.6888 - accuracy: 0.4990\n",
            "Epoch 7/100\n",
            "32/32 [==============================] - 0s 2ms/step - loss: 0.6877 - accuracy: 0.5120\n",
            "Epoch 8/100\n",
            "32/32 [==============================] - 0s 2ms/step - loss: 0.6869 - accuracy: 0.5240\n",
            "Epoch 9/100\n",
            "32/32 [==============================] - 0s 2ms/step - loss: 0.6860 - accuracy: 0.5460\n",
            "Epoch 10/100\n",
            "32/32 [==============================] - 0s 2ms/step - loss: 0.6854 - accuracy: 0.5340\n",
            "Epoch 11/100\n",
            "32/32 [==============================] - 0s 1ms/step - loss: 0.6846 - accuracy: 0.5480\n",
            "Epoch 12/100\n",
            "32/32 [==============================] - 0s 1ms/step - loss: 0.6837 - accuracy: 0.5740\n",
            "Epoch 13/100\n",
            "32/32 [==============================] - 0s 1ms/step - loss: 0.6828 - accuracy: 0.5790\n",
            "Epoch 14/100\n",
            "32/32 [==============================] - 0s 2ms/step - loss: 0.6818 - accuracy: 0.5830\n",
            "Epoch 15/100\n",
            "32/32 [==============================] - 0s 1ms/step - loss: 0.6809 - accuracy: 0.5990\n",
            "Epoch 16/100\n",
            "32/32 [==============================] - 0s 1ms/step - loss: 0.6798 - accuracy: 0.6090\n",
            "Epoch 17/100\n",
            "32/32 [==============================] - 0s 2ms/step - loss: 0.6789 - accuracy: 0.6140\n",
            "Epoch 18/100\n",
            "32/32 [==============================] - 0s 1ms/step - loss: 0.6777 - accuracy: 0.6400\n",
            "Epoch 19/100\n",
            "32/32 [==============================] - 0s 2ms/step - loss: 0.6769 - accuracy: 0.6450\n",
            "Epoch 20/100\n",
            "32/32 [==============================] - 0s 2ms/step - loss: 0.6756 - accuracy: 0.6550\n",
            "Epoch 21/100\n",
            "32/32 [==============================] - 0s 2ms/step - loss: 0.6747 - accuracy: 0.6620\n",
            "Epoch 22/100\n",
            "32/32 [==============================] - 0s 1ms/step - loss: 0.6734 - accuracy: 0.6560\n",
            "Epoch 23/100\n",
            "32/32 [==============================] - 0s 2ms/step - loss: 0.6722 - accuracy: 0.6610\n",
            "Epoch 24/100\n",
            "32/32 [==============================] - 0s 2ms/step - loss: 0.6708 - accuracy: 0.6240\n",
            "Epoch 25/100\n",
            "32/32 [==============================] - 0s 2ms/step - loss: 0.6699 - accuracy: 0.6380\n",
            "Epoch 26/100\n",
            "32/32 [==============================] - 0s 2ms/step - loss: 0.6685 - accuracy: 0.6620\n",
            "Epoch 27/100\n",
            "32/32 [==============================] - 0s 1ms/step - loss: 0.6673 - accuracy: 0.6690\n",
            "Epoch 28/100\n",
            "32/32 [==============================] - 0s 1ms/step - loss: 0.6652 - accuracy: 0.6390\n",
            "Epoch 29/100\n",
            "32/32 [==============================] - 0s 2ms/step - loss: 0.6641 - accuracy: 0.6130\n",
            "Epoch 30/100\n",
            "32/32 [==============================] - 0s 2ms/step - loss: 0.6624 - accuracy: 0.6460\n",
            "Epoch 31/100\n",
            "32/32 [==============================] - 0s 2ms/step - loss: 0.6608 - accuracy: 0.6900\n",
            "Epoch 32/100\n",
            "32/32 [==============================] - 0s 1ms/step - loss: 0.6590 - accuracy: 0.6640\n",
            "Epoch 33/100\n",
            "32/32 [==============================] - 0s 1ms/step - loss: 0.6567 - accuracy: 0.6610\n",
            "Epoch 34/100\n",
            "32/32 [==============================] - 0s 2ms/step - loss: 0.6548 - accuracy: 0.6750\n",
            "Epoch 35/100\n",
            "32/32 [==============================] - 0s 2ms/step - loss: 0.6523 - accuracy: 0.6860\n",
            "Epoch 36/100\n",
            "32/32 [==============================] - 0s 1ms/step - loss: 0.6491 - accuracy: 0.6710\n",
            "Epoch 37/100\n",
            "32/32 [==============================] - 0s 1ms/step - loss: 0.6456 - accuracy: 0.7030\n",
            "Epoch 38/100\n",
            "32/32 [==============================] - 0s 1ms/step - loss: 0.6422 - accuracy: 0.6820\n",
            "Epoch 39/100\n",
            "32/32 [==============================] - 0s 1ms/step - loss: 0.6387 - accuracy: 0.6960\n",
            "Epoch 40/100\n",
            "32/32 [==============================] - 0s 1ms/step - loss: 0.6354 - accuracy: 0.7320\n",
            "Epoch 41/100\n",
            "32/32 [==============================] - 0s 1ms/step - loss: 0.6328 - accuracy: 0.7660\n",
            "Epoch 42/100\n",
            "32/32 [==============================] - 0s 2ms/step - loss: 0.6290 - accuracy: 0.7510\n",
            "Epoch 43/100\n",
            "32/32 [==============================] - 0s 2ms/step - loss: 0.6250 - accuracy: 0.7650\n",
            "Epoch 44/100\n",
            "32/32 [==============================] - 0s 2ms/step - loss: 0.6228 - accuracy: 0.7040\n",
            "Epoch 45/100\n",
            "32/32 [==============================] - 0s 2ms/step - loss: 0.6185 - accuracy: 0.8020\n",
            "Epoch 46/100\n",
            "32/32 [==============================] - 0s 1ms/step - loss: 0.6146 - accuracy: 0.7890\n",
            "Epoch 47/100\n",
            "32/32 [==============================] - 0s 1ms/step - loss: 0.6116 - accuracy: 0.8110\n",
            "Epoch 48/100\n",
            "32/32 [==============================] - 0s 1ms/step - loss: 0.6072 - accuracy: 0.8050\n",
            "Epoch 49/100\n",
            "32/32 [==============================] - 0s 2ms/step - loss: 0.6029 - accuracy: 0.8130\n",
            "Epoch 50/100\n",
            "32/32 [==============================] - 0s 1ms/step - loss: 0.5988 - accuracy: 0.8310\n",
            "Epoch 51/100\n",
            "32/32 [==============================] - 0s 1ms/step - loss: 0.5951 - accuracy: 0.8350\n",
            "Epoch 52/100\n",
            "32/32 [==============================] - 0s 1ms/step - loss: 0.5905 - accuracy: 0.8410\n",
            "Epoch 53/100\n",
            "32/32 [==============================] - 0s 2ms/step - loss: 0.5866 - accuracy: 0.8280\n",
            "Epoch 54/100\n",
            "32/32 [==============================] - 0s 1ms/step - loss: 0.5815 - accuracy: 0.8480\n",
            "Epoch 55/100\n",
            "32/32 [==============================] - 0s 1ms/step - loss: 0.5772 - accuracy: 0.8540\n",
            "Epoch 56/100\n",
            "32/32 [==============================] - 0s 2ms/step - loss: 0.5726 - accuracy: 0.8490\n",
            "Epoch 57/100\n",
            "32/32 [==============================] - 0s 1ms/step - loss: 0.5677 - accuracy: 0.8510\n",
            "Epoch 58/100\n",
            "32/32 [==============================] - 0s 2ms/step - loss: 0.5639 - accuracy: 0.8510\n",
            "Epoch 59/100\n",
            "32/32 [==============================] - 0s 2ms/step - loss: 0.5591 - accuracy: 0.8520\n",
            "Epoch 60/100\n",
            "32/32 [==============================] - 0s 2ms/step - loss: 0.5539 - accuracy: 0.8550\n",
            "Epoch 61/100\n",
            "32/32 [==============================] - 0s 1ms/step - loss: 0.5494 - accuracy: 0.8540\n",
            "Epoch 62/100\n",
            "32/32 [==============================] - 0s 2ms/step - loss: 0.5437 - accuracy: 0.8600\n",
            "Epoch 63/100\n",
            "32/32 [==============================] - 0s 2ms/step - loss: 0.5384 - accuracy: 0.8630\n",
            "Epoch 64/100\n",
            "32/32 [==============================] - 0s 2ms/step - loss: 0.5337 - accuracy: 0.8610\n",
            "Epoch 65/100\n",
            "32/32 [==============================] - 0s 1ms/step - loss: 0.5290 - accuracy: 0.8630\n",
            "Epoch 66/100\n",
            "32/32 [==============================] - 0s 2ms/step - loss: 0.5234 - accuracy: 0.8580\n",
            "Epoch 67/100\n",
            "32/32 [==============================] - 0s 2ms/step - loss: 0.5187 - accuracy: 0.8600\n",
            "Epoch 68/100\n",
            "32/32 [==============================] - 0s 1ms/step - loss: 0.5131 - accuracy: 0.8680\n",
            "Epoch 69/100\n",
            "32/32 [==============================] - 0s 2ms/step - loss: 0.5078 - accuracy: 0.8670\n",
            "Epoch 70/100\n",
            "32/32 [==============================] - 0s 2ms/step - loss: 0.5030 - accuracy: 0.8630\n",
            "Epoch 71/100\n",
            "32/32 [==============================] - 0s 1ms/step - loss: 0.4977 - accuracy: 0.8650\n",
            "Epoch 72/100\n",
            "32/32 [==============================] - 0s 2ms/step - loss: 0.4934 - accuracy: 0.8670\n",
            "Epoch 73/100\n",
            "32/32 [==============================] - 0s 2ms/step - loss: 0.4877 - accuracy: 0.8640\n",
            "Epoch 74/100\n",
            "32/32 [==============================] - 0s 2ms/step - loss: 0.4825 - accuracy: 0.8640\n",
            "Epoch 75/100\n",
            "32/32 [==============================] - 0s 1ms/step - loss: 0.4777 - accuracy: 0.8690\n",
            "Epoch 76/100\n",
            "32/32 [==============================] - 0s 2ms/step - loss: 0.4722 - accuracy: 0.8670\n",
            "Epoch 77/100\n",
            "32/32 [==============================] - 0s 1ms/step - loss: 0.4677 - accuracy: 0.8660\n",
            "Epoch 78/100\n",
            "32/32 [==============================] - 0s 1ms/step - loss: 0.4614 - accuracy: 0.8690\n",
            "Epoch 79/100\n",
            "32/32 [==============================] - 0s 1ms/step - loss: 0.4577 - accuracy: 0.8660\n",
            "Epoch 80/100\n",
            "32/32 [==============================] - 0s 2ms/step - loss: 0.4513 - accuracy: 0.8670\n",
            "Epoch 81/100\n",
            "32/32 [==============================] - 0s 1ms/step - loss: 0.4472 - accuracy: 0.8680\n",
            "Epoch 82/100\n",
            "32/32 [==============================] - 0s 2ms/step - loss: 0.4419 - accuracy: 0.8660\n",
            "Epoch 83/100\n",
            "32/32 [==============================] - 0s 1ms/step - loss: 0.4366 - accuracy: 0.8690\n",
            "Epoch 84/100\n",
            "32/32 [==============================] - 0s 1ms/step - loss: 0.4311 - accuracy: 0.8670\n",
            "Epoch 85/100\n",
            "32/32 [==============================] - 0s 2ms/step - loss: 0.4261 - accuracy: 0.8670\n",
            "Epoch 86/100\n",
            "32/32 [==============================] - 0s 1ms/step - loss: 0.4223 - accuracy: 0.8750\n",
            "Epoch 87/100\n",
            "32/32 [==============================] - 0s 1ms/step - loss: 0.4166 - accuracy: 0.8700\n",
            "Epoch 88/100\n",
            "32/32 [==============================] - 0s 2ms/step - loss: 0.4116 - accuracy: 0.8720\n",
            "Epoch 89/100\n",
            "32/32 [==============================] - 0s 1ms/step - loss: 0.4072 - accuracy: 0.8710\n",
            "Epoch 90/100\n",
            "32/32 [==============================] - 0s 1ms/step - loss: 0.4031 - accuracy: 0.8710\n",
            "Epoch 91/100\n",
            "32/32 [==============================] - 0s 2ms/step - loss: 0.3988 - accuracy: 0.8720\n",
            "Epoch 92/100\n",
            "32/32 [==============================] - 0s 2ms/step - loss: 0.3930 - accuracy: 0.8750\n",
            "Epoch 93/100\n",
            "32/32 [==============================] - 0s 2ms/step - loss: 0.3880 - accuracy: 0.8750\n",
            "Epoch 94/100\n",
            "32/32 [==============================] - 0s 2ms/step - loss: 0.3838 - accuracy: 0.8680\n",
            "Epoch 95/100\n",
            "32/32 [==============================] - 0s 1ms/step - loss: 0.3779 - accuracy: 0.8720\n",
            "Epoch 96/100\n",
            "32/32 [==============================] - 0s 1ms/step - loss: 0.3744 - accuracy: 0.8720\n",
            "Epoch 97/100\n",
            "32/32 [==============================] - 0s 1ms/step - loss: 0.3694 - accuracy: 0.9040\n",
            "Epoch 98/100\n",
            "32/32 [==============================] - 0s 1ms/step - loss: 0.3655 - accuracy: 0.9040\n",
            "Epoch 99/100\n",
            "32/32 [==============================] - 0s 2ms/step - loss: 0.3610 - accuracy: 0.9050\n",
            "Epoch 100/100\n",
            "32/32 [==============================] - 0s 1ms/step - loss: 0.3571 - accuracy: 0.9120\n"
          ]
        }
      ]
    },
    {
      "cell_type": "code",
      "source": [
        "model_7.evaluate(X, y)"
      ],
      "metadata": {
        "colab": {
          "base_uri": "https://localhost:8080/"
        },
        "id": "N-budX2QpKs7",
        "outputId": "074e9503-209e-439c-8ddb-d7736faa48b8"
      },
      "execution_count": 88,
      "outputs": [
        {
          "output_type": "stream",
          "name": "stdout",
          "text": [
            "32/32 [==============================] - 0s 1ms/step - loss: 0.3536 - accuracy: 0.9050\n"
          ]
        },
        {
          "output_type": "execute_result",
          "data": {
            "text/plain": [
              "[0.353631854057312, 0.9049999713897705]"
            ]
          },
          "metadata": {},
          "execution_count": 88
        }
      ]
    },
    {
      "cell_type": "code",
      "source": [
        "plot_decision_boundary(model_7, X, y)"
      ],
      "metadata": {
        "colab": {
          "base_uri": "https://localhost:8080/",
          "height": 282
        },
        "id": "Xv9Ivq4lpm7u",
        "outputId": "c20e1178-e49e-42df-e1c1-924e8065767f"
      },
      "execution_count": 89,
      "outputs": [
        {
          "output_type": "stream",
          "name": "stdout",
          "text": [
            "doing binary classifcation...\n"
          ]
        },
        {
          "output_type": "display_data",
          "data": {
            "text/plain": [
              "<Figure size 432x288 with 1 Axes>"
            ],
            "image/png": "[encoded data removed]"
          },
          "metadata": {
            "needs_background": "light"
          }
        }
      ]
    },
    {
      "cell_type": "code",
      "source": [
        "#Create a toy tensor\n",
        "A=tf.cast(tf.range(-10, 10), tf.float32)\n",
        "A\n"
      ],
      "metadata": {
        "colab": {
          "base_uri": "https://localhost:8080/"
        },
        "id": "TVgojVznr1fR",
        "outputId": "188edaad-06b1-4e4a-c1ad-c3f759a9d630"
      },
      "execution_count": 90,
      "outputs": [
        {
          "output_type": "execute_result",
          "data": {
            "text/plain": [
              "<tf.Tensor: shape=(20,), dtype=float32, numpy=\n",
              "array([-10.,  -9.,  -8.,  -7.,  -6.,  -5.,  -4.,  -3.,  -2.,  -1.,   0.,\n",
              "         1.,   2.,   3.,   4.,   5.,   6.,   7.,   8.,   9.],\n",
              "      dtype=float32)>"
            ]
          },
          "metadata": {},
          "execution_count": 90
        }
      ]
    },
    {
      "cell_type": "code",
      "source": [
        "#Visualize our toy tensor\n",
        "plt.plot(A);\n"
      ],
      "metadata": {
        "colab": {
          "base_uri": "https://localhost:8080/",
          "height": 264
        },
        "id": "BFZhoBU0sLZb",
        "outputId": "9e7e2fdb-c039-4b30-e113-4890144b2ecd"
      },
      "execution_count": 91,
      "outputs": [
        {
          "output_type": "display_data",
          "data": {
            "text/plain": [
              "<Figure size 432x288 with 1 Axes>"
            ],
            "image/png": "[encoded data removed]"
          },
          "metadata": {
            "needs_background": "light"
          }
        }
      ]
    },
    {
      "cell_type": "code",
      "source": [
        "#Lets start by replicating sigmoid(x)=1/(1+exp(-x))\n",
        "def sigmoid(x):\n",
        "  return 1/(1+tf.exp(-x))\n",
        "\n",
        "#use \n",
        "sigmoid(A)\n"
      ],
      "metadata": {
        "colab": {
          "base_uri": "https://localhost:8080/"
        },
        "id": "S6TVGTc5siL3",
        "outputId": "664620e5-00fd-4ea9-838d-e3e865e4711d"
      },
      "execution_count": 93,
      "outputs": [
        {
          "output_type": "execute_result",
          "data": {
            "text/plain": [
              "<tf.Tensor: shape=(20,), dtype=float32, numpy=\n",
              "array([4.5397872e-05, 1.2339458e-04, 3.3535014e-04, 9.1105117e-04,\n",
              "       2.4726233e-03, 6.6928510e-03, 1.7986210e-02, 4.7425874e-02,\n",
              "       1.1920292e-01, 2.6894143e-01, 5.0000000e-01, 7.3105860e-01,\n",
              "       8.8079703e-01, 9.5257413e-01, 9.8201376e-01, 9.9330717e-01,\n",
              "       9.9752742e-01, 9.9908900e-01, 9.9966466e-01, 9.9987662e-01],\n",
              "      dtype=float32)>"
            ]
          },
          "metadata": {},
          "execution_count": 93
        }
      ]
    },
    {
      "cell_type": "code",
      "source": [
        "#plot our toy tensor\n",
        "plt.plot(sigmoid(A));\n"
      ],
      "metadata": {
        "colab": {
          "base_uri": "https://localhost:8080/",
          "height": 264
        },
        "id": "Ma9y1Fzo08WO",
        "outputId": "c1b3ca26-02d5-4aa4-8dd0-7f0933eed8dc"
      },
      "execution_count": 94,
      "outputs": [
        {
          "output_type": "display_data",
          "data": {
            "text/plain": [
              "<Figure size 432x288 with 1 Axes>"
            ],
            "image/png": "[encoded data removed]"
          },
          "metadata": {
            "needs_background": "light"
          }
        }
      ]
    },
    {
      "cell_type": "code",
      "source": [
        "def relu(x):\n",
        "  return tf.maximum(0, x)\n",
        "\n",
        "\n",
        "#Pass our toy tensor to our custom relu function\n",
        "relu(A)"
      ],
      "metadata": {
        "colab": {
          "base_uri": "https://localhost:8080/"
        },
        "id": "Ebhod5gb2SX_",
        "outputId": "f29919f4-6fec-4f0d-8788-3e24c7611cbf"
      },
      "execution_count": 95,
      "outputs": [
        {
          "output_type": "execute_result",
          "data": {
            "text/plain": [
              "<tf.Tensor: shape=(20,), dtype=float32, numpy=\n",
              "array([0., 0., 0., 0., 0., 0., 0., 0., 0., 0., 0., 1., 2., 3., 4., 5., 6.,\n",
              "       7., 8., 9.], dtype=float32)>"
            ]
          },
          "metadata": {},
          "execution_count": 95
        }
      ]
    },
    {
      "cell_type": "code",
      "source": [
        "plt.plot(A)"
      ],
      "metadata": {
        "colab": {
          "base_uri": "https://localhost:8080/",
          "height": 282
        },
        "id": "9TSFivaF39Gx",
        "outputId": "f5b69c8e-aa40-41d1-a6f7-04c8e226042b"
      },
      "execution_count": 98,
      "outputs": [
        {
          "output_type": "execute_result",
          "data": {
            "text/plain": [
              "[<matplotlib.lines.Line2D at 0x7f77e7036190>]"
            ]
          },
          "metadata": {},
          "execution_count": 98
        },
        {
          "output_type": "display_data",
          "data": {
            "text/plain": [
              "<Figure size 432x288 with 1 Axes>"
            ],
            "image/png": "[encoded data removed]"
          },
          "metadata": {
            "needs_background": "light"
          }
        }
      ]
    },
    {
      "cell_type": "code",
      "source": [
        "#Lets try the linear activation function\n",
        "tf.keras.activations.linear(A)"
      ],
      "metadata": {
        "colab": {
          "base_uri": "https://localhost:8080/"
        },
        "id": "XfZapJ1U4bTJ",
        "outputId": "e0db3ab8-02cc-4f9b-a59c-82087928ed9a"
      },
      "execution_count": 99,
      "outputs": [
        {
          "output_type": "execute_result",
          "data": {
            "text/plain": [
              "<tf.Tensor: shape=(20,), dtype=float32, numpy=\n",
              "array([-10.,  -9.,  -8.,  -7.,  -6.,  -5.,  -4.,  -3.,  -2.,  -1.,   0.,\n",
              "         1.,   2.,   3.,   4.,   5.,   6.,   7.,   8.,   9.],\n",
              "      dtype=float32)>"
            ]
          },
          "metadata": {},
          "execution_count": 99
        }
      ]
    }
  ]
}