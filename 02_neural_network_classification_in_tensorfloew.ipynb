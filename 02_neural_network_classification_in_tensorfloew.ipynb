{
  "nbformat": 4,
  "nbformat_minor": 0,
  "metadata": {
    "colab": {
      "name": "02_neural_network_classification_in_tensorfloew.ipynb",
      "provenance": [],
      "collapsed_sections": [],
      "authorship_tag": "ABX9TyPau2sRKqWvNYkScsSZL84L",
      "include_colab_link": true
    },
    "kernelspec": {
      "name": "python3",
      "display_name": "Python 3"
    },
    "language_info": {
      "name": "python"
    }
  },
  "cells": [
    {
      "cell_type": "markdown",
      "metadata": {
        "id": "view-in-github",
        "colab_type": "text"
      },
      "source": [
        "<a href=\"https://colab.research.google.com/github/ElenaBara21/TensorFlow/blob/main/02_neural_network_classification_in_tensorfloew.ipynb\" target=\"_parent\"><img src=\"https://colab.research.google.com/assets/colab-badge.svg\" alt=\"Open In Colab\"/></a>"
      ]
    },
    {
      "cell_type": "code",
      "execution_count": null,
      "metadata": {
        "id": "ddl_ZMM7vcHw"
      },
      "outputs": [],
      "source": [
        ""
      ]
    },
    {
      "cell_type": "markdown",
      "source": [
        "# Intro to neural network classification\n",
        "\n",
        "**Binary classification** - 2 things - spam not spam\n",
        "\n",
        "**Multiclass classification** - more than 2 things(one photo - sushi, one photo stake etc)\n",
        "\n",
        "**Multilabel classification** - multiple label per sample(one article three labels - machine learning, Artificial intellegence, etc)\n",
        "\n",
        "# Classification inputs and outputs\n",
        "\n",
        "we know input -> Machine learning -> we know output\n",
        "\n",
        "gets represented as a tensor\n",
        "[batch_size, width, height, colour_channels]\n",
        "\n",
        "shape = [None, 224, 224, 3]\n",
        "shape = [32, 224, 224, 3]\n",
        "*32 is a very common batch size\n",
        "\n",
        "this shapes vary on your classification problem you're working on"
      ],
      "metadata": {
        "id": "Fndp02NLwIXe"
      }
    },
    {
      "cell_type": "markdown",
      "source": [
        "# (typical) Archetecture of a classification model(we're going to be building lots of these)\n",
        "Classification is where you try to classify something as one thing or another:\n",
        "a few types:\n",
        "* Binary\n",
        "* Multiclass classification\n",
        "* Multilabel classification\n",
        "\n",
        "\n",
        "table from tensor flow or page295 below explanation\n"
      ],
      "metadata": {
        "id": "okezVbBL7qPK"
      }
    },
    {
      "cell_type": "code",
      "source": [
        "#1. Create a model (specified to your problem) - Input layer shape:\n",
        "# tf.keras.Input(shape=224,224,3)),# same as number of features(age, sex, height, weight, smoking status)\n",
        "# tf.keras.layers.Dense(100, activation=\"relu\"),# where hidden layers problem specific generally 10 to 100 unlimited\n",
        "# #above 100 means neurons per hidden layer\n",
        "# tf.keras.layers.Dense(3, activation=\"softmax\")# 3 is output layer shape 1 one class(3 for food, person or a dog photo), 1 per class in multiclass\n",
        "#activation = relu - hidden activation usually RELurecltified linear unit\n",
        "#loss function cross entropy(tf.keras.losses.BinaryCrossentropy in ->\n",
        "#->tensorflow)\n",
        "#Optimizer = SGD(stochastic gradient descent), Adam\n",
        "#])"
      ],
      "metadata": {
        "id": "A-f037WL7Pw2"
      },
      "execution_count": 1,
      "outputs": []
    },
    {
      "cell_type": "code",
      "source": [
        "## Creating data to view and fit\n",
        "from sklearn.datasets import make_circles\n",
        "\n",
        "n_samples = 1000\n",
        "#make 1000 examples\n",
        "X, y = make_circles(n_samples,\n",
        "                    noise=0.03,\n",
        "                    random_state=42)"
      ],
      "metadata": {
        "id": "edNt0rR4MHyp"
      },
      "execution_count": 2,
      "outputs": []
    },
    {
      "cell_type": "code",
      "source": [
        "# Check out feautures\n",
        "X"
      ],
      "metadata": {
        "colab": {
          "base_uri": "https://localhost:8080/"
        },
        "id": "B3bGkQ6INgKW",
        "outputId": "c5472139-c000-4e04-d8a3-76e298ff97fa"
      },
      "execution_count": 3,
      "outputs": [
        {
          "output_type": "execute_result",
          "data": {
            "text/plain": [
              "array([[ 0.75424625,  0.23148074],\n",
              "       [-0.75615888,  0.15325888],\n",
              "       [-0.81539193,  0.17328203],\n",
              "       ...,\n",
              "       [-0.13690036, -0.81001183],\n",
              "       [ 0.67036156, -0.76750154],\n",
              "       [ 0.28105665,  0.96382443]])"
            ]
          },
          "metadata": {},
          "execution_count": 3
        }
      ]
    },
    {
      "cell_type": "code",
      "source": [
        "#Check the labels\n",
        "y[:10]"
      ],
      "metadata": {
        "colab": {
          "base_uri": "https://localhost:8080/"
        },
        "id": "OlUSRY7NOwrp",
        "outputId": "2bfbadbb-5baf-4573-d2fa-de50bd424eb8"
      },
      "execution_count": 4,
      "outputs": [
        {
          "output_type": "execute_result",
          "data": {
            "text/plain": [
              "array([1, 1, 1, 1, 0, 1, 1, 1, 1, 0])"
            ]
          },
          "metadata": {},
          "execution_count": 4
        }
      ]
    },
    {
      "cell_type": "markdown",
      "source": [
        "# Our data is difficult to understand right now ... lets visualize it!\n"
      ],
      "metadata": {
        "id": "kCDWDnn8PuE3"
      }
    },
    {
      "cell_type": "code",
      "source": [
        "import pandas as pd\n",
        "circles = pd.DataFrame({\"X0\":X[:, 0], \"X1\": X[:, 1], \"label\":y})\n",
        "circles"
      ],
      "metadata": {
        "colab": {
          "base_uri": "https://localhost:8080/",
          "height": 423
        },
        "id": "wTkGVoSMPsh4",
        "outputId": "9b234658-abdb-46a0-9f40-5f54901e58db"
      },
      "execution_count": 5,
      "outputs": [
        {
          "output_type": "execute_result",
          "data": {
            "text/plain": [
              "           X0        X1  label\n",
              "0    0.754246  0.231481      1\n",
              "1   -0.756159  0.153259      1\n",
              "2   -0.815392  0.173282      1\n",
              "3   -0.393731  0.692883      1\n",
              "4    0.442208 -0.896723      0\n",
              "..        ...       ...    ...\n",
              "995  0.244054  0.944125      0\n",
              "996 -0.978655 -0.272373      0\n",
              "997 -0.136900 -0.810012      1\n",
              "998  0.670362 -0.767502      0\n",
              "999  0.281057  0.963824      0\n",
              "\n",
              "[1000 rows x 3 columns]"
            ],
            "text/html": [
              "\n",
              "  <div id=\"df-61404026-511c-4115-9563-60c667367bfc\">\n",
              "    <div class=\"colab-df-container\">\n",
              "      <div>\n",
              "<style scoped>\n",
              "    .dataframe tbody tr th:only-of-type {\n",
              "        vertical-align: middle;\n",
              "    }\n",
              "\n",
              "    .dataframe tbody tr th {\n",
              "        vertical-align: top;\n",
              "    }\n",
              "\n",
              "    .dataframe thead th {\n",
              "        text-align: right;\n",
              "    }\n",
              "</style>\n",
              "<table border=\"1\" class=\"dataframe\">\n",
              "  <thead>\n",
              "    <tr style=\"text-align: right;\">\n",
              "      <th></th>\n",
              "      <th>X0</th>\n",
              "      <th>X1</th>\n",
              "      <th>label</th>\n",
              "    </tr>\n",
              "  </thead>\n",
              "  <tbody>\n",
              "    <tr>\n",
              "      <th>0</th>\n",
              "      <td>0.754246</td>\n",
              "      <td>0.231481</td>\n",
              "      <td>1</td>\n",
              "    </tr>\n",
              "    <tr>\n",
              "      <th>1</th>\n",
              "      <td>-0.756159</td>\n",
              "      <td>0.153259</td>\n",
              "      <td>1</td>\n",
              "    </tr>\n",
              "    <tr>\n",
              "      <th>2</th>\n",
              "      <td>-0.815392</td>\n",
              "      <td>0.173282</td>\n",
              "      <td>1</td>\n",
              "    </tr>\n",
              "    <tr>\n",
              "      <th>3</th>\n",
              "      <td>-0.393731</td>\n",
              "      <td>0.692883</td>\n",
              "      <td>1</td>\n",
              "    </tr>\n",
              "    <tr>\n",
              "      <th>4</th>\n",
              "      <td>0.442208</td>\n",
              "      <td>-0.896723</td>\n",
              "      <td>0</td>\n",
              "    </tr>\n",
              "    <tr>\n",
              "      <th>...</th>\n",
              "      <td>...</td>\n",
              "      <td>...</td>\n",
              "      <td>...</td>\n",
              "    </tr>\n",
              "    <tr>\n",
              "      <th>995</th>\n",
              "      <td>0.244054</td>\n",
              "      <td>0.944125</td>\n",
              "      <td>0</td>\n",
              "    </tr>\n",
              "    <tr>\n",
              "      <th>996</th>\n",
              "      <td>-0.978655</td>\n",
              "      <td>-0.272373</td>\n",
              "      <td>0</td>\n",
              "    </tr>\n",
              "    <tr>\n",
              "      <th>997</th>\n",
              "      <td>-0.136900</td>\n",
              "      <td>-0.810012</td>\n",
              "      <td>1</td>\n",
              "    </tr>\n",
              "    <tr>\n",
              "      <th>998</th>\n",
              "      <td>0.670362</td>\n",
              "      <td>-0.767502</td>\n",
              "      <td>0</td>\n",
              "    </tr>\n",
              "    <tr>\n",
              "      <th>999</th>\n",
              "      <td>0.281057</td>\n",
              "      <td>0.963824</td>\n",
              "      <td>0</td>\n",
              "    </tr>\n",
              "  </tbody>\n",
              "</table>\n",
              "<p>1000 rows × 3 columns</p>\n",
              "</div>\n",
              "      <button class=\"colab-df-convert\" onclick=\"convertToInteractive('df-61404026-511c-4115-9563-60c667367bfc')\"\n",
              "              title=\"Convert this dataframe to an interactive table.\"\n",
              "              style=\"display:none;\">\n",
              "        \n",
              "  <svg xmlns=\"http://www.w3.org/2000/svg\" height=\"24px\"viewBox=\"0 0 24 24\"\n",
              "       width=\"24px\">\n",
              "    <path d=\"M0 0h24v24H0V0z\" fill=\"none\"/>\n",
              "    <path d=\"M18.56 5.44l.94 2.06.94-2.06 2.06-.94-2.06-.94-.94-2.06-.94 2.06-2.06.94zm-11 1L8.5 8.5l.94-2.06 2.06-.94-2.06-.94L8.5 2.5l-.94 2.06-2.06.94zm10 10l.94 2.06.94-2.06 2.06-.94-2.06-.94-.94-2.06-.94 2.06-2.06.94z\"/><path d=\"M17.41 7.96l-1.37-1.37c-.4-.4-.92-.59-1.43-.59-.52 0-1.04.2-1.43.59L10.3 9.45l-7.72 7.72c-.78.78-.78 2.05 0 2.83L4 21.41c.39.39.9.59 1.41.59.51 0 1.02-.2 1.41-.59l7.78-7.78 2.81-2.81c.8-.78.8-2.07 0-2.86zM5.41 20L4 18.59l7.72-7.72 1.47 1.35L5.41 20z\"/>\n",
              "  </svg>\n",
              "      </button>\n",
              "      \n",
              "  <style>\n",
              "    .colab-df-container {\n",
              "      display:flex;\n",
              "      flex-wrap:wrap;\n",
              "      gap: 12px;\n",
              "    }\n",
              "\n",
              "    .colab-df-convert {\n",
              "      background-color: #E8F0FE;\n",
              "      border: none;\n",
              "      border-radius: 50%;\n",
              "      cursor: pointer;\n",
              "      display: none;\n",
              "      fill: #1967D2;\n",
              "      height: 32px;\n",
              "      padding: 0 0 0 0;\n",
              "      width: 32px;\n",
              "    }\n",
              "\n",
              "    .colab-df-convert:hover {\n",
              "      background-color: #E2EBFA;\n",
              "      box-shadow: 0px 1px 2px rgba(60, 64, 67, 0.3), 0px 1px 3px 1px rgba(60, 64, 67, 0.15);\n",
              "      fill: #174EA6;\n",
              "    }\n",
              "\n",
              "    [theme=dark] .colab-df-convert {\n",
              "      background-color: #3B4455;\n",
              "      fill: #D2E3FC;\n",
              "    }\n",
              "\n",
              "    [theme=dark] .colab-df-convert:hover {\n",
              "      background-color: #434B5C;\n",
              "      box-shadow: 0px 1px 3px 1px rgba(0, 0, 0, 0.15);\n",
              "      filter: drop-shadow(0px 1px 2px rgba(0, 0, 0, 0.3));\n",
              "      fill: #FFFFFF;\n",
              "    }\n",
              "  </style>\n",
              "\n",
              "      <script>\n",
              "        const buttonEl =\n",
              "          document.querySelector('#df-61404026-511c-4115-9563-60c667367bfc button.colab-df-convert');\n",
              "        buttonEl.style.display =\n",
              "          google.colab.kernel.accessAllowed ? 'block' : 'none';\n",
              "\n",
              "        async function convertToInteractive(key) {\n",
              "          const element = document.querySelector('#df-61404026-511c-4115-9563-60c667367bfc');\n",
              "          const dataTable =\n",
              "            await google.colab.kernel.invokeFunction('convertToInteractive',\n",
              "                                                     [key], {});\n",
              "          if (!dataTable) return;\n",
              "\n",
              "          const docLinkHtml = 'Like what you see? Visit the ' +\n",
              "            '<a target=\"_blank\" href=https://colab.research.google.com/notebooks/data_table.ipynb>data table notebook</a>'\n",
              "            + ' to learn more about interactive tables.';\n",
              "          element.innerHTML = '';\n",
              "          dataTable['output_type'] = 'display_data';\n",
              "          await google.colab.output.renderOutput(dataTable, element);\n",
              "          const docLink = document.createElement('div');\n",
              "          docLink.innerHTML = docLinkHtml;\n",
              "          element.appendChild(docLink);\n",
              "        }\n",
              "      </script>\n",
              "    </div>\n",
              "  </div>\n",
              "  "
            ]
          },
          "metadata": {},
          "execution_count": 5
        }
      ]
    },
    {
      "cell_type": "code",
      "source": [
        "#Visualize with a plot\n",
        "import matplotlib.pyplot as plt\n",
        "plt.scatter(X[:, 0], X[:, 1], c=y, cmap=plt.cm.RdYlBu);"
      ],
      "metadata": {
        "colab": {
          "base_uri": "https://localhost:8080/",
          "height": 264
        },
        "id": "JzJWaZUYSTps",
        "outputId": "cdfb0939-2fa1-45f7-9e1a-36fee1727541"
      },
      "execution_count": 6,
      "outputs": [
        {
          "output_type": "display_data",
          "data": {
            "text/plain": [
              "<Figure size 432x288 with 1 Axes>"
            ],
            "image/png": "[encoded data removed]"
          },
          "metadata": {
            "needs_background": "light"
          }
        }
      ]
    },
    {
      "cell_type": "code",
      "source": [
        "#Check the shapes of our features and labels\n",
        "X.shape, y.shape"
      ],
      "metadata": {
        "colab": {
          "base_uri": "https://localhost:8080/"
        },
        "id": "jq1BhFyrWIxv",
        "outputId": "eb3c277c-9f04-45b4-9b54-afdf38c0017c"
      },
      "execution_count": 7,
      "outputs": [
        {
          "output_type": "execute_result",
          "data": {
            "text/plain": [
              "((1000, 2), (1000,))"
            ]
          },
          "metadata": {},
          "execution_count": 7
        }
      ]
    },
    {
      "cell_type": "code",
      "source": [
        "#How to check how many samples we're working\n",
        "len(X), len(y)\n"
      ],
      "metadata": {
        "colab": {
          "base_uri": "https://localhost:8080/"
        },
        "id": "Q_LxWFUHWnKg",
        "outputId": "f00e744b-f8f8-4e14-f780-900bb8dbae31"
      },
      "execution_count": 8,
      "outputs": [
        {
          "output_type": "execute_result",
          "data": {
            "text/plain": [
              "(1000, 1000)"
            ]
          },
          "metadata": {},
          "execution_count": 8
        }
      ]
    },
    {
      "cell_type": "code",
      "source": [
        "# View the first example of features and labels\n",
        "X[0], y[0]\n"
      ],
      "metadata": {
        "colab": {
          "base_uri": "https://localhost:8080/"
        },
        "id": "KqF-Tx3-XClp",
        "outputId": "00ec278b-f337-453d-eb5a-17794c36855a"
      },
      "execution_count": 9,
      "outputs": [
        {
          "output_type": "execute_result",
          "data": {
            "text/plain": [
              "(array([0.75424625, 0.23148074]), 1)"
            ]
          },
          "metadata": {},
          "execution_count": 9
        }
      ]
    },
    {
      "cell_type": "markdown",
      "source": [
        "## Steps in modelling with Tensor Flow are typically:\n",
        "1. Create or import a model\n",
        "2. Compile the model\n",
        "3. Fit the model\n",
        "4. Evaluate the model\n",
        "5. Tweak\n",
        "6. Evaluate"
      ],
      "metadata": {
        "id": "XBCDJu1OZDQ6"
      }
    },
    {
      "cell_type": "code",
      "source": [
        "import tensorflow as tf\n",
        "tf.__version__"
      ],
      "metadata": {
        "colab": {
          "base_uri": "https://localhost:8080/",
          "height": 35
        },
        "id": "KSt62Hw8cQBY",
        "outputId": "ae404595-4133-4b5d-ea0b-f8a073780324"
      },
      "execution_count": 10,
      "outputs": [
        {
          "output_type": "execute_result",
          "data": {
            "text/plain": [
              "'2.8.0'"
            ],
            "application/vnd.google.colaboratory.intrinsic+json": {
              "type": "string"
            }
          },
          "metadata": {},
          "execution_count": 10
        }
      ]
    },
    {
      "cell_type": "code",
      "source": [
        "# Set random seed\n",
        "tf.random.set_seed(42)\n",
        "\n",
        "# 1. Create the model using the Sequential API\n",
        "model_1 = tf.keras.Sequential([\n",
        "  tf.keras.layers.Dense(1)\n",
        "])\n",
        "\n",
        "# 2. Compile the model\n",
        "model_1.compile(loss=tf.keras.losses.BinaryCrossentropy(), # binary since we are working with 2 clases (0 & 1)\n",
        "                optimizer=tf.keras.optimizers.SGD(),\n",
        "                metrics=['accuracy'])\n",
        "\n",
        "# 3. Fit the model\n",
        "model_1.fit(X, y, epochs=5)"
      ],
      "metadata": {
        "colab": {
          "base_uri": "https://localhost:8080/"
        },
        "id": "8sTiLSrtZ3Nt",
        "outputId": "7aec3dab-cb3d-4c18-a146-df4de7bab605"
      },
      "execution_count": 11,
      "outputs": [
        {
          "output_type": "stream",
          "name": "stdout",
          "text": [
            "Epoch 1/5\n",
            "32/32 [==============================] - 1s 1ms/step - loss: 2.8544 - accuracy: 0.4600\n",
            "Epoch 2/5\n",
            "32/32 [==============================] - 0s 1ms/step - loss: 0.7131 - accuracy: 0.5430\n",
            "Epoch 3/5\n",
            "32/32 [==============================] - 0s 2ms/step - loss: 0.6973 - accuracy: 0.5090\n",
            "Epoch 4/5\n",
            "32/32 [==============================] - 0s 1ms/step - loss: 0.6950 - accuracy: 0.5010\n",
            "Epoch 5/5\n",
            "32/32 [==============================] - 0s 1ms/step - loss: 0.6942 - accuracy: 0.4830\n"
          ]
        },
        {
          "output_type": "execute_result",
          "data": {
            "text/plain": [
              "<keras.callbacks.History at 0x7f77f386c190>"
            ]
          },
          "metadata": {},
          "execution_count": 11
        }
      ]
    },
    {
      "cell_type": "code",
      "source": [
        "# Lets try and improve for longer\n",
        "\n",
        "model_1.fit(X, y, epochs=200, verbose=0)\n",
        "model_1.evaluate(X, y)"
      ],
      "metadata": {
        "id": "ze3lzAG8Xjjv",
        "colab": {
          "base_uri": "https://localhost:8080/"
        },
        "outputId": "6c7fe005-95fc-43e5-8cee-731fdeb3de65"
      },
      "execution_count": 12,
      "outputs": [
        {
          "output_type": "stream",
          "name": "stdout",
          "text": [
            "32/32 [==============================] - 0s 2ms/step - loss: 0.6935 - accuracy: 0.5000\n"
          ]
        },
        {
          "output_type": "execute_result",
          "data": {
            "text/plain": [
              "[0.6934831142425537, 0.5]"
            ]
          },
          "metadata": {},
          "execution_count": 12
        }
      ]
    },
    {
      "cell_type": "markdown",
      "source": [
        "Since we're working on a binary classification problem our model is getting around - 50% accuracy its performing as if its guessing.\n",
        "\n",
        "So lets step things up a notch and add an extra layer."
      ],
      "metadata": {
        "id": "WXyRDBFIfBKo"
      }
    },
    {
      "cell_type": "code",
      "source": [
        "#Set the random seed \n",
        "tf.random.set_seed=42\n",
        "\n",
        "# 1. Create the model using the Sequential API\n",
        "tf.keras.layers.Dense(1),\n",
        "model_2 = tf.keras.Sequential([\n",
        "  tf.keras.layers.Dense(1),\n",
        "  tf.keras.layers.Dense(1),\n",
        "\n",
        "])\n",
        "\n",
        "#2. Compile the model \n",
        "model_2.compile(loss=tf.keras.losses.BinaryCrossentropy(),\n",
        "                optimizer=tf.keras.optimizers.SGD(),\n",
        "                metrics=[\"accuracy\"])\n",
        "\n",
        "# 3. Fit the model\n",
        "model_2.fit(X, y, epochs=100, verbose=0)"
      ],
      "metadata": {
        "colab": {
          "base_uri": "https://localhost:8080/"
        },
        "id": "7OTWbJexfwag",
        "outputId": "894a9f41-6160-4505-a1c0-85e46c718fad"
      },
      "execution_count": 13,
      "outputs": [
        {
          "output_type": "execute_result",
          "data": {
            "text/plain": [
              "<keras.callbacks.History at 0x7f77f05df450>"
            ]
          },
          "metadata": {},
          "execution_count": 13
        }
      ]
    },
    {
      "cell_type": "code",
      "source": [
        "#4.Evaluate the model\n",
        "model_2.evaluate(X, y)\n"
      ],
      "metadata": {
        "colab": {
          "base_uri": "https://localhost:8080/"
        },
        "id": "Wkoj_MrFheU1",
        "outputId": "ca3ebd1a-1912-4f48-97eb-ec17f62175e4"
      },
      "execution_count": 14,
      "outputs": [
        {
          "output_type": "stream",
          "name": "stdout",
          "text": [
            "32/32 [==============================] - 1s 2ms/step - loss: 0.6935 - accuracy: 0.5000\n"
          ]
        },
        {
          "output_type": "execute_result",
          "data": {
            "text/plain": [
              "[0.6934733390808105, 0.5]"
            ]
          },
          "metadata": {},
          "execution_count": 14
        }
      ]
    },
    {
      "cell_type": "code",
      "source": [
        "circles[\"label\"].value_counts()"
      ],
      "metadata": {
        "colab": {
          "base_uri": "https://localhost:8080/"
        },
        "id": "x1QYIagKhNye",
        "outputId": "b9b17260-e79d-45b4-d9ee-f104d777a39a"
      },
      "execution_count": 15,
      "outputs": [
        {
          "output_type": "execute_result",
          "data": {
            "text/plain": [
              "1    500\n",
              "0    500\n",
              "Name: label, dtype: int64"
            ]
          },
          "metadata": {},
          "execution_count": 15
        }
      ]
    },
    {
      "cell_type": "markdown",
      "source": [
        "### Improving our model\n",
        "\n",
        "Lets look into our bag of tricks to see how we can improve our model\n",
        "\n",
        "1. Create a model we might more layers or increase the number of hidden units within a layer.\n",
        "2. Compile a model - here we might to choose a different optimization function such as Adam or SGD\n",
        "3. Fitting a model - perhaps we might fit our model for more epochs(leave it training for longer"
      ],
      "metadata": {
        "id": "DaqR3IAuhuqx"
      }
    },
    {
      "cell_type": "code",
      "source": [
        "#Set the random seed \n",
        "tf.random.set_seed=42\n",
        "\n",
        "# 1. Create the model using the Sequential API\n",
        "\n",
        "model_3 = tf.keras.Sequential([\n",
        "  tf.keras.layers.Dense(100), #add 100 dense neurons\n",
        "  tf.keras.layers.Dense(10), # add another layer with 10 neurons\n",
        "  tf.keras.layers.Dense(1)\n",
        "])\n",
        "\n",
        "#2. Compile the model \n",
        "model_3.compile(loss=tf.keras.losses.BinaryCrossentropy(),\n",
        "                optimizer=tf.keras.optimizers.Adam(),\n",
        "                metrics=[\"accuracy\"])\n",
        "\n",
        "# 3. Fit the model\n",
        "model_3.fit(X, y, epochs=100, verbose=0)\n",
        "\n"
      ],
      "metadata": {
        "colab": {
          "base_uri": "https://localhost:8080/"
        },
        "id": "85oJYTCkj6h5",
        "outputId": "25c998f6-0b55-4d7e-a839-e56b5d94cc9c"
      },
      "execution_count": 16,
      "outputs": [
        {
          "output_type": "execute_result",
          "data": {
            "text/plain": [
              "<keras.callbacks.History at 0x7f77f05c37d0>"
            ]
          },
          "metadata": {},
          "execution_count": 16
        }
      ]
    },
    {
      "cell_type": "code",
      "source": [
        "# Evaluate the model\n",
        "model_3.evaluate(X, y)"
      ],
      "metadata": {
        "colab": {
          "base_uri": "https://localhost:8080/"
        },
        "id": "qck6b4Hmk94N",
        "outputId": "ada49bc8-cfe1-4455-ac12-f88471c10b7d"
      },
      "execution_count": 17,
      "outputs": [
        {
          "output_type": "stream",
          "name": "stdout",
          "text": [
            "32/32 [==============================] - 1s 3ms/step - loss: 0.7019 - accuracy: 0.5100\n"
          ]
        },
        {
          "output_type": "execute_result",
          "data": {
            "text/plain": [
              "[0.7019345760345459, 0.5099999904632568]"
            ]
          },
          "metadata": {},
          "execution_count": 17
        }
      ]
    },
    {
      "cell_type": "markdown",
      "source": [
        "#To vizualise our model predictions lets create a function \"plot decision boundary()\" this functon will:\n",
        " * take in a trained model features(X) and labels(y)\n",
        " * Create a meshgrid of the different X values\n",
        " * Make predictions around the meshgrid\n",
        " * Plot the predictions as well as a line between zones (where each unique class  falls)"
      ],
      "metadata": {
        "id": "r962AVGPmJXk"
      }
    },
    {
      "cell_type": "code",
      "source": [
        "import numpy as np"
      ],
      "metadata": {
        "id": "QV3IM427n7qc"
      },
      "execution_count": 18,
      "outputs": []
    },
    {
      "cell_type": "code",
      "source": [
        "\n",
        "def plot_decision_boundary(model, X, y):\n",
        "  x_min, x_max = X[:, 0].min() - 0.1, X[:, 0].max() + 0.1\n",
        "  y_min, y_max = X[:, 1].min() - 0.1, X[:, 1].max() + 0.1\n",
        "  xx, yy = np. meshgrid(np.linspace(x_min, x_max, 100),\n",
        "                        np.linspace(y_min, y_max, 100))\n",
        "  # Create X values (we're going to predict on all of these)\n",
        "  x_in = np.c_[xx.ravel(), yy.ravel()] # stack 2D arrays together: https://numpy.org/devdocs/reference/generated/numpy.c_.html\n",
        "\n",
        "  # Make predictions using the trained model\n",
        "  y_pred = model.predict(x_in)\n",
        "\n",
        "  # Check for multi-class\n",
        "  if len(y_pred[0]) > 1:\n",
        "    print(\"doing multiclass classification...\")\n",
        "  # We have to reshape our predictions to get them ready for plotting\n",
        "    y_pred = np.argmax(y_pred, axis=1).reshape(xx.shape)\n",
        "  else:\n",
        "    \n",
        "    print(\"doing binary classifcation...\")\n",
        "    y_pred = np.round(y_pred).reshape(xx.shape)\n",
        "\n",
        "  # Plot decision boundary\n",
        "  plt.contourf(xx, yy, y_pred, cmap=plt.cm.RdYlBu, alpha=0.7)\n",
        "  plt.scatter(X[:, 0], X[:, 1], c=y, s=40, cmap=plt.cm.RdYlBu)\n",
        "  plt.xlim(xx.min(), xx.max())\n",
        "  plt.ylim(yy.min(), yy.max())"
      ],
      "metadata": {
        "id": "C-Gdmv11lqPN"
      },
      "execution_count": 19,
      "outputs": []
    },
    {
      "cell_type": "code",
      "source": [
        ""
      ],
      "metadata": {
        "id": "W91Llr3Son78"
      },
      "execution_count": 19,
      "outputs": []
    },
    {
      "cell_type": "code",
      "source": [
        "plot_decision_boundary(model_3, X, y)"
      ],
      "metadata": {
        "colab": {
          "base_uri": "https://localhost:8080/",
          "height": 282
        },
        "id": "bl7tRFsesGNv",
        "outputId": "7414623c-ed3d-417c-d2c9-9ab9a55be392"
      },
      "execution_count": 20,
      "outputs": [
        {
          "output_type": "stream",
          "name": "stdout",
          "text": [
            "doing binary classifcation...\n"
          ]
        },
        {
          "output_type": "display_data",
          "data": {
            "text/plain": [
              "<Figure size 432x288 with 1 Axes>"
            ],
            "image/png": "[encoded data removed]"
          },
          "metadata": {
            "needs_background": "light"
          }
        }
      ]
    },
    {
      "cell_type": "code",
      "source": [
        "# Lets see if our model can be used for a regression problem...\n",
        "\n",
        "tf.random.set_seed=42\n",
        "\n",
        "#Create some regression\n",
        "X_regression = tf.range(0, 1000, 5)\n",
        "y_regression = tf.range(100, 1100, 5) #y = x + 100\n",
        "\n",
        "# Split our regression data into training and test sets\n",
        "X_reg_train = X_regression[:150]\n",
        "X_reg_test = X_regression[150:]\n",
        "y_reg_train = y_regression[:150]\n",
        "y_reg_test = y_regression[150:]\n",
        "\n",
        "#Fit our model to the regression problem\n"
      ],
      "metadata": {
        "id": "iF_x1OSYSOM0"
      },
      "execution_count": 21,
      "outputs": []
    },
    {
      "cell_type": "code",
      "source": [
        "# Set random seed\n",
        "tf.random.set_seed=42\n",
        " \n",
        "# 1. Create the model (this time 3 layers)\n",
        "model_3 = tf.keras.Sequential([\n",
        "  ## Before TensorFlow 2.7.0\n",
        "  # tf.keras.layers.Dense(100), # add 100 dense neurons\n",
        " \n",
        "  ## After TensorFlow 2.7.0\n",
        "  tf.keras.layers.Dense(100, input_shape=(None, 1)), # <- define input_shape here\n",
        "  tf.keras.layers.Dense(10), # add another layer with 10 neurons\n",
        "  tf.keras.layers.Dense(1)\n",
        "])\n",
        " \n",
        "# 2. Compile the model\n",
        "model_3.compile(loss=tf.keras.losses.BinaryCrossentropy(),\n",
        "                optimizer=tf.keras.optimizers.Adam(), # use Adam instead of SGD\n",
        "                metrics=['accuracy'])"
      ],
      "metadata": {
        "id": "zYHSIAuLXjw1"
      },
      "execution_count": 22,
      "outputs": []
    },
    {
      "cell_type": "code",
      "source": [
        "# Set random seed\n",
        "tf.random.set_seed=42\n",
        " \n",
        "# Create some regression data\n",
        "X_regression = np.arange(0, 1000, 5)\n",
        "y_regression = np.arange(100, 1100, 5)\n",
        " \n",
        "# Split it into training and test sets\n",
        "X_reg_train = X_regression[:150]\n",
        "X_reg_test = X_regression[150:]\n",
        "y_reg_train = y_regression[:150]\n",
        "y_reg_test = y_regression[150:]\n",
        " \n",
        "# Fit our model to the data\n",
        " \n",
        "## Note: Before TensorFlow 2.7.0, this line would work\n",
        "# model_3.fit(X_reg_train, y_reg_train, epochs=100) # <- this will error in TensorFlow 2.7.0+\n",
        " \n",
        "## After TensorFlow 2.7.0\n",
        "model_3.fit(tf.expand_dims(X_reg_train, axis=-1), # <- expand input dimensions\n",
        "            y_reg_train,\n",
        "            epochs=100)"
      ],
      "metadata": {
        "colab": {
          "base_uri": "https://localhost:8080/"
        },
        "id": "6nd_KKlXXtcE",
        "outputId": "0f09c985-3d06-45e1-b2e4-5e52bf95188b"
      },
      "execution_count": 23,
      "outputs": [
        {
          "output_type": "stream",
          "name": "stdout",
          "text": [
            "Epoch 1/100\n",
            "5/5 [==============================] - 2s 4ms/step - loss: 7288.2886 - accuracy: 0.0000e+00\n",
            "Epoch 2/100\n",
            "5/5 [==============================] - 0s 3ms/step - loss: 7288.2886 - accuracy: 0.0000e+00\n",
            "Epoch 3/100\n",
            "5/5 [==============================] - 0s 4ms/step - loss: 7288.2886 - accuracy: 0.0000e+00\n",
            "Epoch 4/100\n",
            "5/5 [==============================] - 0s 3ms/step - loss: 7288.2886 - accuracy: 0.0000e+00\n",
            "Epoch 5/100\n",
            "5/5 [==============================] - 0s 4ms/step - loss: 7288.2886 - accuracy: 0.0000e+00\n",
            "Epoch 6/100\n",
            "5/5 [==============================] - 0s 5ms/step - loss: 7288.2886 - accuracy: 0.0000e+00\n",
            "Epoch 7/100\n",
            "5/5 [==============================] - 0s 4ms/step - loss: 7288.2886 - accuracy: 0.0000e+00\n",
            "Epoch 8/100\n",
            "5/5 [==============================] - 0s 3ms/step - loss: 7288.2886 - accuracy: 0.0000e+00\n",
            "Epoch 9/100\n",
            "5/5 [==============================] - 0s 7ms/step - loss: 7288.2886 - accuracy: 0.0000e+00\n",
            "Epoch 10/100\n",
            "5/5 [==============================] - 0s 6ms/step - loss: 7288.2886 - accuracy: 0.0000e+00\n",
            "Epoch 11/100\n",
            "5/5 [==============================] - 0s 6ms/step - loss: 7288.2886 - accuracy: 0.0000e+00\n",
            "Epoch 12/100\n",
            "5/5 [==============================] - 0s 4ms/step - loss: 7288.2886 - accuracy: 0.0000e+00\n",
            "Epoch 13/100\n",
            "5/5 [==============================] - 0s 4ms/step - loss: 7288.2886 - accuracy: 0.0000e+00\n",
            "Epoch 14/100\n",
            "5/5 [==============================] - 0s 4ms/step - loss: 7288.2886 - accuracy: 0.0000e+00\n",
            "Epoch 15/100\n",
            "5/5 [==============================] - 0s 4ms/step - loss: 7288.2886 - accuracy: 0.0000e+00\n",
            "Epoch 16/100\n",
            "5/5 [==============================] - 0s 4ms/step - loss: 7288.2886 - accuracy: 0.0000e+00\n",
            "Epoch 17/100\n",
            "5/5 [==============================] - 0s 4ms/step - loss: 7288.2886 - accuracy: 0.0000e+00\n",
            "Epoch 18/100\n",
            "5/5 [==============================] - 0s 6ms/step - loss: 7288.2886 - accuracy: 0.0000e+00\n",
            "Epoch 19/100\n",
            "5/5 [==============================] - 0s 4ms/step - loss: 7288.2886 - accuracy: 0.0000e+00\n",
            "Epoch 20/100\n",
            "5/5 [==============================] - 0s 4ms/step - loss: 7288.2886 - accuracy: 0.0000e+00\n",
            "Epoch 21/100\n",
            "5/5 [==============================] - 0s 6ms/step - loss: 7288.2886 - accuracy: 0.0000e+00\n",
            "Epoch 22/100\n",
            "5/5 [==============================] - 0s 4ms/step - loss: 7288.2886 - accuracy: 0.0000e+00\n",
            "Epoch 23/100\n",
            "5/5 [==============================] - 0s 4ms/step - loss: 7288.2886 - accuracy: 0.0000e+00\n",
            "Epoch 24/100\n",
            "5/5 [==============================] - 0s 4ms/step - loss: 7288.2886 - accuracy: 0.0000e+00\n",
            "Epoch 25/100\n",
            "5/5 [==============================] - 0s 5ms/step - loss: 7288.2886 - accuracy: 0.0000e+00\n",
            "Epoch 26/100\n",
            "5/5 [==============================] - 0s 8ms/step - loss: 7288.2886 - accuracy: 0.0000e+00\n",
            "Epoch 27/100\n",
            "5/5 [==============================] - 0s 6ms/step - loss: 7288.2886 - accuracy: 0.0000e+00\n",
            "Epoch 28/100\n",
            "5/5 [==============================] - 0s 6ms/step - loss: 7288.2886 - accuracy: 0.0000e+00\n",
            "Epoch 29/100\n",
            "5/5 [==============================] - 0s 5ms/step - loss: 7288.2886 - accuracy: 0.0000e+00\n",
            "Epoch 30/100\n",
            "5/5 [==============================] - 0s 4ms/step - loss: 7288.2886 - accuracy: 0.0000e+00\n",
            "Epoch 31/100\n",
            "5/5 [==============================] - 0s 4ms/step - loss: 7288.2886 - accuracy: 0.0000e+00\n",
            "Epoch 32/100\n",
            "5/5 [==============================] - 0s 4ms/step - loss: 7288.2886 - accuracy: 0.0000e+00\n",
            "Epoch 33/100\n",
            "5/5 [==============================] - 0s 5ms/step - loss: 7288.2886 - accuracy: 0.0000e+00\n",
            "Epoch 34/100\n",
            "5/5 [==============================] - 0s 7ms/step - loss: 7288.2886 - accuracy: 0.0000e+00\n",
            "Epoch 35/100\n",
            "5/5 [==============================] - 0s 7ms/step - loss: 7288.2886 - accuracy: 0.0000e+00\n",
            "Epoch 36/100\n",
            "5/5 [==============================] - 0s 6ms/step - loss: 7288.2886 - accuracy: 0.0000e+00\n",
            "Epoch 37/100\n",
            "5/5 [==============================] - 0s 6ms/step - loss: 7288.2886 - accuracy: 0.0000e+00\n",
            "Epoch 38/100\n",
            "5/5 [==============================] - 0s 4ms/step - loss: 7288.2886 - accuracy: 0.0000e+00\n",
            "Epoch 39/100\n",
            "5/5 [==============================] - 0s 4ms/step - loss: 7288.2886 - accuracy: 0.0000e+00\n",
            "Epoch 40/100\n",
            "5/5 [==============================] - 0s 5ms/step - loss: 7288.2886 - accuracy: 0.0000e+00\n",
            "Epoch 41/100\n",
            "5/5 [==============================] - 0s 4ms/step - loss: 7288.2886 - accuracy: 0.0000e+00\n",
            "Epoch 42/100\n",
            "5/5 [==============================] - 0s 4ms/step - loss: 7288.2886 - accuracy: 0.0000e+00\n",
            "Epoch 43/100\n",
            "5/5 [==============================] - 0s 5ms/step - loss: 7288.2886 - accuracy: 0.0000e+00\n",
            "Epoch 44/100\n",
            "5/5 [==============================] - 0s 4ms/step - loss: 7288.2886 - accuracy: 0.0000e+00\n",
            "Epoch 45/100\n",
            "5/5 [==============================] - 0s 4ms/step - loss: 7288.2886 - accuracy: 0.0000e+00\n",
            "Epoch 46/100\n",
            "5/5 [==============================] - 0s 4ms/step - loss: 7288.2886 - accuracy: 0.0000e+00\n",
            "Epoch 47/100\n",
            "5/5 [==============================] - 0s 4ms/step - loss: 7288.2886 - accuracy: 0.0000e+00\n",
            "Epoch 48/100\n",
            "5/5 [==============================] - 0s 4ms/step - loss: 7288.2886 - accuracy: 0.0000e+00\n",
            "Epoch 49/100\n",
            "5/5 [==============================] - 0s 4ms/step - loss: 7288.2886 - accuracy: 0.0000e+00\n",
            "Epoch 50/100\n",
            "5/5 [==============================] - 0s 4ms/step - loss: 7288.2886 - accuracy: 0.0000e+00\n",
            "Epoch 51/100\n",
            "5/5 [==============================] - 0s 4ms/step - loss: 7288.2886 - accuracy: 0.0000e+00\n",
            "Epoch 52/100\n",
            "5/5 [==============================] - 0s 4ms/step - loss: 7288.2886 - accuracy: 0.0000e+00\n",
            "Epoch 53/100\n",
            "5/5 [==============================] - 0s 4ms/step - loss: 7288.2886 - accuracy: 0.0000e+00\n",
            "Epoch 54/100\n",
            "5/5 [==============================] - 0s 4ms/step - loss: 7288.2886 - accuracy: 0.0000e+00\n",
            "Epoch 55/100\n",
            "5/5 [==============================] - 0s 4ms/step - loss: 7288.2886 - accuracy: 0.0000e+00\n",
            "Epoch 56/100\n",
            "5/5 [==============================] - 0s 4ms/step - loss: 7288.2886 - accuracy: 0.0000e+00\n",
            "Epoch 57/100\n",
            "5/5 [==============================] - 0s 4ms/step - loss: 7288.2886 - accuracy: 0.0000e+00\n",
            "Epoch 58/100\n",
            "5/5 [==============================] - 0s 4ms/step - loss: 7288.2886 - accuracy: 0.0000e+00\n",
            "Epoch 59/100\n",
            "5/5 [==============================] - 0s 4ms/step - loss: 7288.2886 - accuracy: 0.0000e+00\n",
            "Epoch 60/100\n",
            "5/5 [==============================] - 0s 4ms/step - loss: 7288.2891 - accuracy: 0.0000e+00\n",
            "Epoch 61/100\n",
            "5/5 [==============================] - 0s 4ms/step - loss: 7288.2886 - accuracy: 0.0000e+00\n",
            "Epoch 62/100\n",
            "5/5 [==============================] - 0s 6ms/step - loss: 7288.2886 - accuracy: 0.0000e+00\n",
            "Epoch 63/100\n",
            "5/5 [==============================] - 0s 5ms/step - loss: 7288.2886 - accuracy: 0.0000e+00\n",
            "Epoch 64/100\n",
            "5/5 [==============================] - 0s 5ms/step - loss: 7288.2886 - accuracy: 0.0000e+00\n",
            "Epoch 65/100\n",
            "5/5 [==============================] - 0s 4ms/step - loss: 7288.2886 - accuracy: 0.0000e+00\n",
            "Epoch 66/100\n",
            "5/5 [==============================] - 0s 6ms/step - loss: 7288.2876 - accuracy: 0.0000e+00\n",
            "Epoch 67/100\n",
            "5/5 [==============================] - 0s 5ms/step - loss: 7288.2886 - accuracy: 0.0000e+00\n",
            "Epoch 68/100\n",
            "5/5 [==============================] - 0s 6ms/step - loss: 7288.2886 - accuracy: 0.0000e+00\n",
            "Epoch 69/100\n",
            "5/5 [==============================] - 0s 5ms/step - loss: 7288.2886 - accuracy: 0.0000e+00\n",
            "Epoch 70/100\n",
            "5/5 [==============================] - 0s 6ms/step - loss: 7288.2886 - accuracy: 0.0000e+00\n",
            "Epoch 71/100\n",
            "5/5 [==============================] - 0s 5ms/step - loss: 7288.2886 - accuracy: 0.0000e+00\n",
            "Epoch 72/100\n",
            "5/5 [==============================] - 0s 12ms/step - loss: 7288.2886 - accuracy: 0.0000e+00\n",
            "Epoch 73/100\n",
            "5/5 [==============================] - 0s 5ms/step - loss: 7288.2886 - accuracy: 0.0000e+00\n",
            "Epoch 74/100\n",
            "5/5 [==============================] - 0s 4ms/step - loss: 7288.2886 - accuracy: 0.0000e+00\n",
            "Epoch 75/100\n",
            "5/5 [==============================] - 0s 4ms/step - loss: 7288.2886 - accuracy: 0.0000e+00\n",
            "Epoch 76/100\n",
            "5/5 [==============================] - 0s 6ms/step - loss: 7288.2886 - accuracy: 0.0000e+00\n",
            "Epoch 77/100\n",
            "5/5 [==============================] - 0s 4ms/step - loss: 7288.2886 - accuracy: 0.0000e+00\n",
            "Epoch 78/100\n",
            "5/5 [==============================] - 0s 4ms/step - loss: 7288.2886 - accuracy: 0.0000e+00\n",
            "Epoch 79/100\n",
            "5/5 [==============================] - 0s 4ms/step - loss: 7288.2876 - accuracy: 0.0000e+00\n",
            "Epoch 80/100\n",
            "5/5 [==============================] - 0s 4ms/step - loss: 7288.2886 - accuracy: 0.0000e+00\n",
            "Epoch 81/100\n",
            "5/5 [==============================] - 0s 6ms/step - loss: 7288.2886 - accuracy: 0.0000e+00\n",
            "Epoch 82/100\n",
            "5/5 [==============================] - 0s 5ms/step - loss: 7288.2886 - accuracy: 0.0000e+00\n",
            "Epoch 83/100\n",
            "5/5 [==============================] - 0s 4ms/step - loss: 7288.2886 - accuracy: 0.0000e+00\n",
            "Epoch 84/100\n",
            "5/5 [==============================] - 0s 3ms/step - loss: 7288.2886 - accuracy: 0.0000e+00\n",
            "Epoch 85/100\n",
            "5/5 [==============================] - 0s 4ms/step - loss: 7288.2886 - accuracy: 0.0000e+00\n",
            "Epoch 86/100\n",
            "5/5 [==============================] - 0s 4ms/step - loss: 7288.2886 - accuracy: 0.0000e+00\n",
            "Epoch 87/100\n",
            "5/5 [==============================] - 0s 5ms/step - loss: 7288.2886 - accuracy: 0.0000e+00\n",
            "Epoch 88/100\n",
            "5/5 [==============================] - 0s 4ms/step - loss: 7288.2886 - accuracy: 0.0000e+00\n",
            "Epoch 89/100\n",
            "5/5 [==============================] - 0s 4ms/step - loss: 7288.2886 - accuracy: 0.0000e+00\n",
            "Epoch 90/100\n",
            "5/5 [==============================] - 0s 4ms/step - loss: 7288.2886 - accuracy: 0.0000e+00\n",
            "Epoch 91/100\n",
            "5/5 [==============================] - 0s 5ms/step - loss: 7288.2886 - accuracy: 0.0000e+00\n",
            "Epoch 92/100\n",
            "5/5 [==============================] - 0s 4ms/step - loss: 7288.2876 - accuracy: 0.0000e+00\n",
            "Epoch 93/100\n",
            "5/5 [==============================] - 0s 4ms/step - loss: 7288.2886 - accuracy: 0.0000e+00\n",
            "Epoch 94/100\n",
            "5/5 [==============================] - 0s 4ms/step - loss: 7288.2886 - accuracy: 0.0000e+00\n",
            "Epoch 95/100\n",
            "5/5 [==============================] - 0s 4ms/step - loss: 7288.2886 - accuracy: 0.0000e+00\n",
            "Epoch 96/100\n",
            "5/5 [==============================] - 0s 5ms/step - loss: 7288.2886 - accuracy: 0.0000e+00\n",
            "Epoch 97/100\n",
            "5/5 [==============================] - 0s 5ms/step - loss: 7288.2886 - accuracy: 0.0000e+00\n",
            "Epoch 98/100\n",
            "5/5 [==============================] - 0s 4ms/step - loss: 7288.2886 - accuracy: 0.0000e+00\n",
            "Epoch 99/100\n",
            "5/5 [==============================] - 0s 4ms/step - loss: 7288.2886 - accuracy: 0.0000e+00\n",
            "Epoch 100/100\n",
            "5/5 [==============================] - 0s 4ms/step - loss: 7288.2886 - accuracy: 0.0000e+00\n"
          ]
        },
        {
          "output_type": "execute_result",
          "data": {
            "text/plain": [
              "<keras.callbacks.History at 0x7f77f0b59dd0>"
            ]
          },
          "metadata": {},
          "execution_count": 23
        }
      ]
    },
    {
      "cell_type": "code",
      "source": [
        "#Make predictions our trained model\n",
        "#y_reg_preds = model_3.predict(y_reg_test)\n",
        "\n",
        "#Plot the model's predictions agains our regression data\n",
        "plt.figure(figsize=(10,7))\n",
        "plt.scatter(X_reg_train, y_reg_train, c=\"b\", label=\"Training data\")\n",
        "plt.scatter(X_reg_test, y_reg_test, c=\"g\", label=\"Test data\")\n",
        "plt.scatter(X_reg_test, y_reg_preds, c=\"r\", label=\"Predictions\")\n",
        "plt.legend(); \n"
      ],
      "metadata": {
        "colab": {
          "base_uri": "https://localhost:8080/",
          "height": 627
        },
        "id": "00zYcz0aYqsZ",
        "outputId": "aecc70b2-0b43-4431-fe3f-2d1594d9bfcd"
      },
      "execution_count": 24,
      "outputs": [
        {
          "output_type": "error",
          "ename": "NameError",
          "evalue": "ignored",
          "traceback": [
            "\u001b[0;31m---------------------------------------------------------------------------\u001b[0m",
            "\u001b[0;31mNameError\u001b[0m                                 Traceback (most recent call last)",
            "\u001b[0;32m<ipython-input-24-55d190b29166>\u001b[0m in \u001b[0;36m<module>\u001b[0;34m()\u001b[0m\n\u001b[1;32m      6\u001b[0m \u001b[0mplt\u001b[0m\u001b[0;34m.\u001b[0m\u001b[0mscatter\u001b[0m\u001b[0;34m(\u001b[0m\u001b[0mX_reg_train\u001b[0m\u001b[0;34m,\u001b[0m \u001b[0my_reg_train\u001b[0m\u001b[0;34m,\u001b[0m \u001b[0mc\u001b[0m\u001b[0;34m=\u001b[0m\u001b[0;34m\"b\"\u001b[0m\u001b[0;34m,\u001b[0m \u001b[0mlabel\u001b[0m\u001b[0;34m=\u001b[0m\u001b[0;34m\"Training data\"\u001b[0m\u001b[0;34m)\u001b[0m\u001b[0;34m\u001b[0m\u001b[0;34m\u001b[0m\u001b[0m\n\u001b[1;32m      7\u001b[0m \u001b[0mplt\u001b[0m\u001b[0;34m.\u001b[0m\u001b[0mscatter\u001b[0m\u001b[0;34m(\u001b[0m\u001b[0mX_reg_test\u001b[0m\u001b[0;34m,\u001b[0m \u001b[0my_reg_test\u001b[0m\u001b[0;34m,\u001b[0m \u001b[0mc\u001b[0m\u001b[0;34m=\u001b[0m\u001b[0;34m\"g\"\u001b[0m\u001b[0;34m,\u001b[0m \u001b[0mlabel\u001b[0m\u001b[0;34m=\u001b[0m\u001b[0;34m\"Test data\"\u001b[0m\u001b[0;34m)\u001b[0m\u001b[0;34m\u001b[0m\u001b[0;34m\u001b[0m\u001b[0m\n\u001b[0;32m----> 8\u001b[0;31m \u001b[0mplt\u001b[0m\u001b[0;34m.\u001b[0m\u001b[0mscatter\u001b[0m\u001b[0;34m(\u001b[0m\u001b[0mX_reg_test\u001b[0m\u001b[0;34m,\u001b[0m \u001b[0my_reg_preds\u001b[0m\u001b[0;34m,\u001b[0m \u001b[0mc\u001b[0m\u001b[0;34m=\u001b[0m\u001b[0;34m\"r\"\u001b[0m\u001b[0;34m,\u001b[0m \u001b[0mlabel\u001b[0m\u001b[0;34m=\u001b[0m\u001b[0;34m\"Predictions\"\u001b[0m\u001b[0;34m)\u001b[0m\u001b[0;34m\u001b[0m\u001b[0;34m\u001b[0m\u001b[0m\n\u001b[0m\u001b[1;32m      9\u001b[0m \u001b[0mplt\u001b[0m\u001b[0;34m.\u001b[0m\u001b[0mlegend\u001b[0m\u001b[0;34m(\u001b[0m\u001b[0;34m)\u001b[0m\u001b[0;34m;\u001b[0m\u001b[0;34m\u001b[0m\u001b[0;34m\u001b[0m\u001b[0m\n",
            "\u001b[0;31mNameError\u001b[0m: name 'y_reg_preds' is not defined"
          ]
        },
        {
          "output_type": "display_data",
          "data": {
            "text/plain": [
              "<Figure size 720x504 with 1 Axes>"
            ],
            "image/png": "[encoded data removed]"
          },
          "metadata": {
            "needs_background": "light"
          }
        }
      ]
    },
    {
      "cell_type": "code",
      "source": [
        "# Set the random seed\n",
        "tf.random.set_seed=42\n",
        "\n",
        "# Create the model\n",
        "model_4 = tf.keras.Sequential([\n",
        "  tf.keras.layers.Dense(1, activation=tf.keras.activations.linear), # 1 hidden layer with linear activation\n",
        "  tf.keras.layers.Dense(1) # output layer\n",
        "])\n",
        "\n",
        "# Compile the model\n",
        "model_4.compile(loss=tf.keras.losses.binary_crossentropy,\n",
        "                optimizer=tf.keras.optimizers.Adam(lr=0.001), # \"lr\" is short for \"learning rate\"\n",
        "                metrics=[\"accuracy\"])\n",
        "\n",
        "# Fit the model\n",
        "history = model_4.fit(X, y, epochs=100)"
      ],
      "metadata": {
        "colab": {
          "base_uri": "https://localhost:8080/"
        },
        "id": "W1L6vF_zb6Ky",
        "outputId": "82eec652-9fbc-4f86-b3c1-f89361b036ee"
      },
      "execution_count": 31,
      "outputs": [
        {
          "output_type": "stream",
          "name": "stdout",
          "text": [
            "Epoch 1/100\n"
          ]
        },
        {
          "output_type": "stream",
          "name": "stderr",
          "text": [
            "/usr/local/lib/python3.7/dist-packages/keras/optimizer_v2/adam.py:105: UserWarning: The `lr` argument is deprecated, use `learning_rate` instead.\n",
            "  super(Adam, self).__init__(name, **kwargs)\n"
          ]
        },
        {
          "output_type": "stream",
          "name": "stdout",
          "text": [
            "32/32 [==============================] - 0s 1ms/step - loss: 4.3348 - accuracy: 0.5000\n",
            "Epoch 2/100\n",
            "32/32 [==============================] - 0s 1ms/step - loss: 4.2088 - accuracy: 0.5000\n",
            "Epoch 3/100\n",
            "32/32 [==============================] - 0s 2ms/step - loss: 4.0679 - accuracy: 0.5000\n",
            "Epoch 4/100\n",
            "32/32 [==============================] - 0s 2ms/step - loss: 4.0231 - accuracy: 0.4990\n",
            "Epoch 5/100\n",
            "32/32 [==============================] - 0s 2ms/step - loss: 3.9643 - accuracy: 0.4880\n",
            "Epoch 6/100\n",
            "32/32 [==============================] - 0s 1ms/step - loss: 3.8197 - accuracy: 0.4840\n",
            "Epoch 7/100\n",
            "32/32 [==============================] - 0s 1ms/step - loss: 3.7306 - accuracy: 0.4860\n",
            "Epoch 8/100\n",
            "32/32 [==============================] - 0s 1ms/step - loss: 3.6669 - accuracy: 0.4780\n",
            "Epoch 9/100\n",
            "32/32 [==============================] - 0s 1ms/step - loss: 3.5537 - accuracy: 0.4840\n",
            "Epoch 10/100\n",
            "32/32 [==============================] - 0s 1ms/step - loss: 3.4729 - accuracy: 0.4840\n",
            "Epoch 11/100\n",
            "32/32 [==============================] - 0s 1ms/step - loss: 3.4022 - accuracy: 0.4850\n",
            "Epoch 12/100\n",
            "32/32 [==============================] - 0s 1ms/step - loss: 3.2641 - accuracy: 0.4910\n",
            "Epoch 13/100\n",
            "32/32 [==============================] - 0s 1ms/step - loss: 2.9652 - accuracy: 0.4990\n",
            "Epoch 14/100\n",
            "32/32 [==============================] - 0s 1ms/step - loss: 2.4504 - accuracy: 0.5000\n",
            "Epoch 15/100\n",
            "32/32 [==============================] - 0s 2ms/step - loss: 1.1414 - accuracy: 0.5000\n",
            "Epoch 16/100\n",
            "32/32 [==============================] - 0s 2ms/step - loss: 0.9847 - accuracy: 0.5000\n",
            "Epoch 17/100\n",
            "32/32 [==============================] - 0s 1ms/step - loss: 0.9546 - accuracy: 0.5000\n",
            "Epoch 18/100\n",
            "32/32 [==============================] - 0s 2ms/step - loss: 0.9330 - accuracy: 0.5000\n",
            "Epoch 19/100\n",
            "32/32 [==============================] - 0s 1ms/step - loss: 0.9155 - accuracy: 0.5000\n",
            "Epoch 20/100\n",
            "32/32 [==============================] - 0s 1ms/step - loss: 0.9005 - accuracy: 0.5000\n",
            "Epoch 21/100\n",
            "32/32 [==============================] - 0s 1ms/step - loss: 0.8871 - accuracy: 0.5000\n",
            "Epoch 22/100\n",
            "32/32 [==============================] - 0s 1ms/step - loss: 0.8752 - accuracy: 0.5000\n",
            "Epoch 23/100\n",
            "32/32 [==============================] - 0s 2ms/step - loss: 0.8645 - accuracy: 0.5000\n",
            "Epoch 24/100\n",
            "32/32 [==============================] - 0s 1ms/step - loss: 0.8547 - accuracy: 0.5000\n",
            "Epoch 25/100\n",
            "32/32 [==============================] - 0s 1ms/step - loss: 0.8459 - accuracy: 0.5000\n",
            "Epoch 26/100\n",
            "32/32 [==============================] - 0s 1ms/step - loss: 0.8372 - accuracy: 0.5000\n",
            "Epoch 27/100\n",
            "32/32 [==============================] - 0s 1ms/step - loss: 0.8292 - accuracy: 0.5000\n",
            "Epoch 28/100\n",
            "32/32 [==============================] - 0s 1ms/step - loss: 0.8217 - accuracy: 0.5000\n",
            "Epoch 29/100\n",
            "32/32 [==============================] - 0s 1ms/step - loss: 0.8150 - accuracy: 0.5000\n",
            "Epoch 30/100\n",
            "32/32 [==============================] - 0s 2ms/step - loss: 0.8086 - accuracy: 0.5000\n",
            "Epoch 31/100\n",
            "32/32 [==============================] - 0s 1ms/step - loss: 0.8024 - accuracy: 0.5000\n",
            "Epoch 32/100\n",
            "32/32 [==============================] - 0s 1ms/step - loss: 0.7966 - accuracy: 0.5000\n",
            "Epoch 33/100\n",
            "32/32 [==============================] - 0s 1ms/step - loss: 0.7912 - accuracy: 0.5000\n",
            "Epoch 34/100\n",
            "32/32 [==============================] - 0s 1ms/step - loss: 0.7862 - accuracy: 0.5000\n",
            "Epoch 35/100\n",
            "32/32 [==============================] - 0s 2ms/step - loss: 0.7813 - accuracy: 0.5000\n",
            "Epoch 36/100\n",
            "32/32 [==============================] - 0s 2ms/step - loss: 0.7766 - accuracy: 0.5000\n",
            "Epoch 37/100\n",
            "32/32 [==============================] - 0s 1ms/step - loss: 0.7722 - accuracy: 0.5000\n",
            "Epoch 38/100\n",
            "32/32 [==============================] - 0s 1ms/step - loss: 0.7681 - accuracy: 0.5000\n",
            "Epoch 39/100\n",
            "32/32 [==============================] - 0s 1ms/step - loss: 0.7640 - accuracy: 0.5000\n",
            "Epoch 40/100\n",
            "32/32 [==============================] - 0s 1ms/step - loss: 0.7603 - accuracy: 0.5000\n",
            "Epoch 41/100\n",
            "32/32 [==============================] - 0s 2ms/step - loss: 0.7566 - accuracy: 0.5000\n",
            "Epoch 42/100\n",
            "32/32 [==============================] - 0s 2ms/step - loss: 0.7531 - accuracy: 0.5000\n",
            "Epoch 43/100\n",
            "32/32 [==============================] - 0s 1ms/step - loss: 0.7499 - accuracy: 0.5000\n",
            "Epoch 44/100\n",
            "32/32 [==============================] - 0s 1ms/step - loss: 0.7468 - accuracy: 0.5000\n",
            "Epoch 45/100\n",
            "32/32 [==============================] - 0s 2ms/step - loss: 0.7438 - accuracy: 0.5000\n",
            "Epoch 46/100\n",
            "32/32 [==============================] - 0s 2ms/step - loss: 0.7410 - accuracy: 0.5000\n",
            "Epoch 47/100\n",
            "32/32 [==============================] - 0s 1ms/step - loss: 0.7384 - accuracy: 0.5000\n",
            "Epoch 48/100\n",
            "32/32 [==============================] - 0s 1ms/step - loss: 0.7358 - accuracy: 0.5000\n",
            "Epoch 49/100\n",
            "32/32 [==============================] - 0s 1ms/step - loss: 0.7333 - accuracy: 0.5000\n",
            "Epoch 50/100\n",
            "32/32 [==============================] - 0s 2ms/step - loss: 0.7309 - accuracy: 0.5000\n",
            "Epoch 51/100\n",
            "32/32 [==============================] - 0s 1ms/step - loss: 0.7287 - accuracy: 0.5000\n",
            "Epoch 52/100\n",
            "32/32 [==============================] - 0s 1ms/step - loss: 0.7266 - accuracy: 0.5000\n",
            "Epoch 53/100\n",
            "32/32 [==============================] - 0s 1ms/step - loss: 0.7247 - accuracy: 0.5000\n",
            "Epoch 54/100\n",
            "32/32 [==============================] - 0s 1ms/step - loss: 0.7226 - accuracy: 0.5000\n",
            "Epoch 55/100\n",
            "32/32 [==============================] - 0s 1ms/step - loss: 0.7208 - accuracy: 0.5000\n",
            "Epoch 56/100\n",
            "32/32 [==============================] - 0s 2ms/step - loss: 0.7190 - accuracy: 0.5000\n",
            "Epoch 57/100\n",
            "32/32 [==============================] - 0s 1ms/step - loss: 0.7174 - accuracy: 0.5000\n",
            "Epoch 58/100\n",
            "32/32 [==============================] - 0s 1ms/step - loss: 0.7158 - accuracy: 0.5000\n",
            "Epoch 59/100\n",
            "32/32 [==============================] - 0s 2ms/step - loss: 0.7143 - accuracy: 0.5000\n",
            "Epoch 60/100\n",
            "32/32 [==============================] - 0s 2ms/step - loss: 0.7129 - accuracy: 0.5000\n",
            "Epoch 61/100\n",
            "32/32 [==============================] - 0s 2ms/step - loss: 0.7116 - accuracy: 0.5000\n",
            "Epoch 62/100\n",
            "32/32 [==============================] - 0s 2ms/step - loss: 0.7105 - accuracy: 0.5000\n",
            "Epoch 63/100\n",
            "32/32 [==============================] - 0s 2ms/step - loss: 0.7093 - accuracy: 0.5000\n",
            "Epoch 64/100\n",
            "32/32 [==============================] - 0s 1ms/step - loss: 0.7083 - accuracy: 0.5000\n",
            "Epoch 65/100\n",
            "32/32 [==============================] - 0s 1ms/step - loss: 0.7073 - accuracy: 0.5000\n",
            "Epoch 66/100\n",
            "32/32 [==============================] - 0s 1ms/step - loss: 0.7063 - accuracy: 0.5000\n",
            "Epoch 67/100\n",
            "32/32 [==============================] - 0s 1ms/step - loss: 0.7054 - accuracy: 0.5000\n",
            "Epoch 68/100\n",
            "32/32 [==============================] - 0s 2ms/step - loss: 0.7046 - accuracy: 0.5000\n",
            "Epoch 69/100\n",
            "32/32 [==============================] - 0s 1ms/step - loss: 0.7037 - accuracy: 0.5000\n",
            "Epoch 70/100\n",
            "32/32 [==============================] - 0s 1ms/step - loss: 0.7030 - accuracy: 0.5000\n",
            "Epoch 71/100\n",
            "32/32 [==============================] - 0s 1ms/step - loss: 0.7022 - accuracy: 0.5000\n",
            "Epoch 72/100\n",
            "32/32 [==============================] - 0s 2ms/step - loss: 0.7015 - accuracy: 0.5000\n",
            "Epoch 73/100\n",
            "32/32 [==============================] - 0s 1ms/step - loss: 0.7009 - accuracy: 0.5000\n",
            "Epoch 74/100\n",
            "32/32 [==============================] - 0s 1ms/step - loss: 0.7003 - accuracy: 0.5000\n",
            "Epoch 75/100\n",
            "32/32 [==============================] - 0s 1ms/step - loss: 0.6998 - accuracy: 0.5000\n",
            "Epoch 76/100\n",
            "32/32 [==============================] - 0s 1ms/step - loss: 0.6992 - accuracy: 0.5000\n",
            "Epoch 77/100\n",
            "32/32 [==============================] - 0s 2ms/step - loss: 0.6988 - accuracy: 0.5000\n",
            "Epoch 78/100\n",
            "32/32 [==============================] - 0s 1ms/step - loss: 0.6983 - accuracy: 0.5000\n",
            "Epoch 79/100\n",
            "32/32 [==============================] - 0s 1ms/step - loss: 0.6978 - accuracy: 0.5000\n",
            "Epoch 80/100\n",
            "32/32 [==============================] - 0s 2ms/step - loss: 0.6974 - accuracy: 0.5000\n",
            "Epoch 81/100\n",
            "32/32 [==============================] - 0s 1ms/step - loss: 0.6970 - accuracy: 0.5000\n",
            "Epoch 82/100\n",
            "32/32 [==============================] - 0s 1ms/step - loss: 0.6967 - accuracy: 0.5000\n",
            "Epoch 83/100\n",
            "32/32 [==============================] - 0s 1ms/step - loss: 0.6964 - accuracy: 0.5000\n",
            "Epoch 84/100\n",
            "32/32 [==============================] - 0s 1ms/step - loss: 0.6961 - accuracy: 0.5000\n",
            "Epoch 85/100\n",
            "32/32 [==============================] - 0s 1ms/step - loss: 0.6958 - accuracy: 0.5000\n",
            "Epoch 86/100\n",
            "32/32 [==============================] - 0s 1ms/step - loss: 0.6956 - accuracy: 0.5000\n",
            "Epoch 87/100\n",
            "32/32 [==============================] - 0s 1ms/step - loss: 0.6953 - accuracy: 0.5000\n",
            "Epoch 88/100\n",
            "32/32 [==============================] - 0s 1ms/step - loss: 0.6951 - accuracy: 0.5000\n",
            "Epoch 89/100\n",
            "32/32 [==============================] - 0s 1ms/step - loss: 0.6950 - accuracy: 0.4990\n",
            "Epoch 90/100\n",
            "32/32 [==============================] - 0s 1ms/step - loss: 0.6949 - accuracy: 0.5000\n",
            "Epoch 91/100\n",
            "32/32 [==============================] - 0s 1ms/step - loss: 0.6947 - accuracy: 0.5000\n",
            "Epoch 92/100\n",
            "32/32 [==============================] - 0s 2ms/step - loss: 0.6946 - accuracy: 0.5000\n",
            "Epoch 93/100\n",
            "32/32 [==============================] - 0s 1ms/step - loss: 0.6944 - accuracy: 0.5000\n",
            "Epoch 94/100\n",
            "32/32 [==============================] - 0s 1ms/step - loss: 0.6943 - accuracy: 0.5000\n",
            "Epoch 95/100\n",
            "32/32 [==============================] - 0s 1ms/step - loss: 0.6941 - accuracy: 0.5000\n",
            "Epoch 96/100\n",
            "32/32 [==============================] - 0s 2ms/step - loss: 0.6941 - accuracy: 0.5000\n",
            "Epoch 97/100\n",
            "32/32 [==============================] - 0s 1ms/step - loss: 0.6940 - accuracy: 0.5000\n",
            "Epoch 98/100\n",
            "32/32 [==============================] - 0s 1ms/step - loss: 0.6939 - accuracy: 0.5000\n",
            "Epoch 99/100\n",
            "32/32 [==============================] - 0s 1ms/step - loss: 0.6938 - accuracy: 0.4880\n",
            "Epoch 100/100\n",
            "32/32 [==============================] - 0s 2ms/step - loss: 0.6938 - accuracy: 0.5000\n"
          ]
        }
      ]
    },
    {
      "cell_type": "code",
      "source": [
        "# check out our data\n",
        "plt.scatter(X[:, 0], X[:,1], c=y, cmap=plt.cm.RdYlBu);"
      ],
      "metadata": {
        "colab": {
          "base_uri": "https://localhost:8080/",
          "height": 264
        },
        "id": "aBcOOCEyUtRa",
        "outputId": "c970b155-6066-40c0-d06f-c18326692fe6"
      },
      "execution_count": 28,
      "outputs": [
        {
          "output_type": "display_data",
          "data": {
            "text/plain": [
              "<Figure size 432x288 with 1 Axes>"
            ],
            "image/png": "[encoded data removed]"
          },
          "metadata": {
            "needs_background": "light"
          }
        }
      ]
    },
    {
      "cell_type": "code",
      "source": [
        "#Check th edecision boundary for our latest model\n",
        "plot_decision_boundary(model=model_4, \n",
        "                       X=X, \n",
        "                       y=y)"
      ],
      "metadata": {
        "colab": {
          "base_uri": "https://localhost:8080/",
          "height": 282
        },
        "id": "zkf4wKSjVs0v",
        "outputId": "03867d8c-c75f-4df2-d390-f04cf0506a07"
      },
      "execution_count": 32,
      "outputs": [
        {
          "output_type": "stream",
          "name": "stdout",
          "text": [
            "doing binary classifcation...\n"
          ]
        },
        {
          "output_type": "display_data",
          "data": {
            "text/plain": [
              "<Figure size 432x288 with 1 Axes>"
            ],
            "image/png": "[encoded data removed]"
          },
          "metadata": {
            "needs_background": "light"
          }
        }
      ]
    },
    {
      "cell_type": "markdown",
      "source": [
        "Lets try our first neural network with a non-linear activation function"
      ],
      "metadata": {
        "id": "J5lecFuaYfhJ"
      }
    },
    {
      "cell_type": "code",
      "source": [
        "# Set  random seed\n",
        "tf.random.set_seed=42\n",
        "\n",
        "#1. Create a modela non linear\n",
        "model_5=tf.keras.Sequential([\n",
        "  tf.keras.layers.Dense(1, activation=tf.keras.activations.relu)\n",
        "])\n",
        "#2.Compile the model\n",
        "model_5.compile(loss=tf.keras.losses.BinaryCrossentropy(),\n",
        "                optimizer=tf.keras.optimizers.Adam(lr=0.001),\n",
        "                metrics=[\"accuracy\"])\n",
        "\n",
        "#3.Fit the model\n",
        "history = model_5.fit(X, y, epochs=100)\n"
      ],
      "metadata": {
        "colab": {
          "base_uri": "https://localhost:8080/"
        },
        "id": "epQcL_CQYfE1",
        "outputId": "0915901c-9672-4009-8a53-ec52d5663816"
      },
      "execution_count": 33,
      "outputs": [
        {
          "output_type": "stream",
          "name": "stdout",
          "text": [
            "Epoch 1/100\n"
          ]
        },
        {
          "output_type": "stream",
          "name": "stderr",
          "text": [
            "/usr/local/lib/python3.7/dist-packages/keras/optimizer_v2/adam.py:105: UserWarning: The `lr` argument is deprecated, use `learning_rate` instead.\n",
            "  super(Adam, self).__init__(name, **kwargs)\n"
          ]
        },
        {
          "output_type": "stream",
          "name": "stdout",
          "text": [
            "32/32 [==============================] - 0s 1ms/step - loss: 6.2922 - accuracy: 0.4910\n",
            "Epoch 2/100\n",
            "32/32 [==============================] - 0s 2ms/step - loss: 6.2691 - accuracy: 0.4890\n",
            "Epoch 3/100\n",
            "32/32 [==============================] - 0s 1ms/step - loss: 6.2439 - accuracy: 0.4900\n",
            "Epoch 4/100\n",
            "32/32 [==============================] - 0s 2ms/step - loss: 6.2400 - accuracy: 0.4890\n",
            "Epoch 5/100\n",
            "32/32 [==============================] - 0s 1ms/step - loss: 6.2384 - accuracy: 0.4890\n",
            "Epoch 6/100\n",
            "32/32 [==============================] - 0s 2ms/step - loss: 6.2366 - accuracy: 0.4890\n",
            "Epoch 7/100\n",
            "32/32 [==============================] - 0s 2ms/step - loss: 6.2263 - accuracy: 0.4880\n",
            "Epoch 8/100\n",
            "32/32 [==============================] - 0s 1ms/step - loss: 6.2232 - accuracy: 0.4880\n",
            "Epoch 9/100\n",
            "32/32 [==============================] - 0s 2ms/step - loss: 6.2210 - accuracy: 0.4880\n",
            "Epoch 10/100\n",
            "32/32 [==============================] - 0s 1ms/step - loss: 6.2196 - accuracy: 0.4880\n",
            "Epoch 11/100\n",
            "32/32 [==============================] - 0s 1ms/step - loss: 6.2182 - accuracy: 0.4880\n",
            "Epoch 12/100\n",
            "32/32 [==============================] - 0s 2ms/step - loss: 6.2166 - accuracy: 0.4880\n",
            "Epoch 13/100\n",
            "32/32 [==============================] - 0s 2ms/step - loss: 6.2152 - accuracy: 0.4880\n",
            "Epoch 14/100\n",
            "32/32 [==============================] - 0s 1ms/step - loss: 6.2141 - accuracy: 0.4880\n",
            "Epoch 15/100\n",
            "32/32 [==============================] - 0s 2ms/step - loss: 6.2131 - accuracy: 0.4880\n",
            "Epoch 16/100\n",
            "32/32 [==============================] - 0s 1ms/step - loss: 6.2031 - accuracy: 0.4880\n",
            "Epoch 17/100\n",
            "32/32 [==============================] - 0s 1ms/step - loss: 6.1900 - accuracy: 0.4910\n",
            "Epoch 18/100\n",
            "32/32 [==============================] - 0s 2ms/step - loss: 6.1663 - accuracy: 0.4940\n",
            "Epoch 19/100\n",
            "32/32 [==============================] - 0s 2ms/step - loss: 6.1463 - accuracy: 0.4940\n",
            "Epoch 20/100\n",
            "32/32 [==============================] - 0s 1ms/step - loss: 6.1750 - accuracy: 0.4900\n",
            "Epoch 21/100\n",
            "32/32 [==============================] - 0s 1ms/step - loss: 6.1626 - accuracy: 0.4890\n",
            "Epoch 22/100\n",
            "32/32 [==============================] - 0s 1ms/step - loss: 6.1396 - accuracy: 0.4910\n",
            "Epoch 23/100\n",
            "32/32 [==============================] - 0s 1ms/step - loss: 6.1211 - accuracy: 0.4910\n",
            "Epoch 24/100\n",
            "32/32 [==============================] - 0s 1ms/step - loss: 6.1212 - accuracy: 0.4910\n",
            "Epoch 25/100\n",
            "32/32 [==============================] - 0s 1ms/step - loss: 6.1205 - accuracy: 0.4910\n",
            "Epoch 26/100\n",
            "32/32 [==============================] - 0s 1ms/step - loss: 6.1200 - accuracy: 0.4910\n",
            "Epoch 27/100\n",
            "32/32 [==============================] - 0s 1ms/step - loss: 6.1196 - accuracy: 0.4910\n",
            "Epoch 28/100\n",
            "32/32 [==============================] - 0s 1ms/step - loss: 6.1192 - accuracy: 0.4910\n",
            "Epoch 29/100\n",
            "32/32 [==============================] - 0s 1ms/step - loss: 6.1187 - accuracy: 0.4910\n",
            "Epoch 30/100\n",
            "32/32 [==============================] - 0s 1ms/step - loss: 6.1108 - accuracy: 0.4910\n",
            "Epoch 31/100\n",
            "32/32 [==============================] - 0s 1ms/step - loss: 6.1024 - accuracy: 0.4910\n",
            "Epoch 32/100\n",
            "32/32 [==============================] - 0s 2ms/step - loss: 6.0667 - accuracy: 0.4880\n",
            "Epoch 33/100\n",
            "32/32 [==============================] - 0s 1ms/step - loss: 6.0737 - accuracy: 0.4870\n",
            "Epoch 34/100\n",
            "32/32 [==============================] - 0s 1ms/step - loss: 6.0735 - accuracy: 0.4870\n",
            "Epoch 35/100\n",
            "32/32 [==============================] - 0s 1ms/step - loss: 6.0732 - accuracy: 0.4870\n",
            "Epoch 36/100\n",
            "32/32 [==============================] - 0s 1ms/step - loss: 6.0729 - accuracy: 0.4870\n",
            "Epoch 37/100\n",
            "32/32 [==============================] - 0s 1ms/step - loss: 6.0667 - accuracy: 0.4870\n",
            "Epoch 38/100\n",
            "32/32 [==============================] - 0s 1ms/step - loss: 6.0931 - accuracy: 0.4910\n",
            "Epoch 39/100\n",
            "32/32 [==============================] - 0s 1ms/step - loss: 6.0645 - accuracy: 0.4900\n",
            "Epoch 40/100\n",
            "32/32 [==============================] - 0s 1ms/step - loss: 6.0523 - accuracy: 0.4890\n",
            "Epoch 41/100\n",
            "32/32 [==============================] - 0s 1ms/step - loss: 6.0491 - accuracy: 0.4890\n",
            "Epoch 42/100\n",
            "32/32 [==============================] - 0s 2ms/step - loss: 6.0485 - accuracy: 0.4890\n",
            "Epoch 43/100\n",
            "32/32 [==============================] - 0s 1ms/step - loss: 6.0401 - accuracy: 0.4890\n",
            "Epoch 44/100\n",
            "32/32 [==============================] - 0s 1ms/step - loss: 6.0167 - accuracy: 0.4890\n",
            "Epoch 45/100\n",
            "32/32 [==============================] - 0s 1ms/step - loss: 6.0083 - accuracy: 0.4890\n",
            "Epoch 46/100\n",
            "32/32 [==============================] - 0s 2ms/step - loss: 5.9925 - accuracy: 0.4870\n",
            "Epoch 47/100\n",
            "32/32 [==============================] - 0s 1ms/step - loss: 5.9906 - accuracy: 0.4870\n",
            "Epoch 48/100\n",
            "32/32 [==============================] - 0s 1ms/step - loss: 5.9901 - accuracy: 0.4870\n",
            "Epoch 49/100\n",
            "32/32 [==============================] - 0s 1ms/step - loss: 5.9895 - accuracy: 0.4870\n",
            "Epoch 50/100\n",
            "32/32 [==============================] - 0s 1ms/step - loss: 5.9823 - accuracy: 0.4870\n",
            "Epoch 51/100\n",
            "32/32 [==============================] - 0s 2ms/step - loss: 5.9697 - accuracy: 0.4880\n",
            "Epoch 52/100\n",
            "32/32 [==============================] - 0s 1ms/step - loss: 5.9537 - accuracy: 0.4880\n",
            "Epoch 53/100\n",
            "32/32 [==============================] - 0s 2ms/step - loss: 5.9526 - accuracy: 0.4880\n",
            "Epoch 54/100\n",
            "32/32 [==============================] - 0s 1ms/step - loss: 5.9520 - accuracy: 0.4880\n",
            "Epoch 55/100\n",
            "32/32 [==============================] - 0s 1ms/step - loss: 5.9514 - accuracy: 0.4880\n",
            "Epoch 56/100\n",
            "32/32 [==============================] - 0s 1ms/step - loss: 5.9508 - accuracy: 0.4880\n",
            "Epoch 57/100\n",
            "32/32 [==============================] - 0s 1ms/step - loss: 5.9504 - accuracy: 0.4880\n",
            "Epoch 58/100\n",
            "32/32 [==============================] - 0s 1ms/step - loss: 5.9499 - accuracy: 0.4880\n",
            "Epoch 59/100\n",
            "32/32 [==============================] - 0s 1ms/step - loss: 5.9494 - accuracy: 0.4880\n",
            "Epoch 60/100\n",
            "32/32 [==============================] - 0s 1ms/step - loss: 5.9489 - accuracy: 0.4880\n",
            "Epoch 61/100\n",
            "32/32 [==============================] - 0s 1ms/step - loss: 5.9484 - accuracy: 0.4880\n",
            "Epoch 62/100\n",
            "32/32 [==============================] - 0s 2ms/step - loss: 5.9479 - accuracy: 0.4880\n",
            "Epoch 63/100\n",
            "32/32 [==============================] - 0s 1ms/step - loss: 5.9475 - accuracy: 0.4880\n",
            "Epoch 64/100\n",
            "32/32 [==============================] - 0s 1ms/step - loss: 5.9471 - accuracy: 0.4880\n",
            "Epoch 65/100\n",
            "32/32 [==============================] - 0s 1ms/step - loss: 5.9379 - accuracy: 0.4880\n",
            "Epoch 66/100\n",
            "32/32 [==============================] - 0s 1ms/step - loss: 5.9361 - accuracy: 0.4870\n",
            "Epoch 67/100\n",
            "32/32 [==============================] - 0s 1ms/step - loss: 5.9353 - accuracy: 0.4870\n",
            "Epoch 68/100\n",
            "32/32 [==============================] - 0s 1ms/step - loss: 5.9347 - accuracy: 0.4870\n",
            "Epoch 69/100\n",
            "32/32 [==============================] - 0s 2ms/step - loss: 5.9341 - accuracy: 0.4870\n",
            "Epoch 70/100\n",
            "32/32 [==============================] - 0s 1ms/step - loss: 5.9336 - accuracy: 0.4870\n",
            "Epoch 71/100\n",
            "32/32 [==============================] - 0s 1ms/step - loss: 5.9332 - accuracy: 0.4870\n",
            "Epoch 72/100\n",
            "32/32 [==============================] - 0s 1ms/step - loss: 5.9326 - accuracy: 0.4870\n",
            "Epoch 73/100\n",
            "32/32 [==============================] - 0s 1ms/step - loss: 5.9321 - accuracy: 0.4870\n",
            "Epoch 74/100\n",
            "32/32 [==============================] - 0s 2ms/step - loss: 5.9316 - accuracy: 0.4870\n",
            "Epoch 75/100\n",
            "32/32 [==============================] - 0s 2ms/step - loss: 5.9311 - accuracy: 0.4870\n",
            "Epoch 76/100\n",
            "32/32 [==============================] - 0s 1ms/step - loss: 5.9307 - accuracy: 0.4870\n",
            "Epoch 77/100\n",
            "32/32 [==============================] - 0s 2ms/step - loss: 5.9302 - accuracy: 0.4870\n",
            "Epoch 78/100\n",
            "32/32 [==============================] - 0s 2ms/step - loss: 5.9298 - accuracy: 0.4870\n",
            "Epoch 79/100\n",
            "32/32 [==============================] - 0s 2ms/step - loss: 5.9293 - accuracy: 0.4870\n",
            "Epoch 80/100\n",
            "32/32 [==============================] - 0s 1ms/step - loss: 5.9290 - accuracy: 0.4870\n",
            "Epoch 81/100\n",
            "32/32 [==============================] - 0s 1ms/step - loss: 5.9285 - accuracy: 0.4870\n",
            "Epoch 82/100\n",
            "32/32 [==============================] - 0s 1ms/step - loss: 5.9281 - accuracy: 0.4870\n",
            "Epoch 83/100\n",
            "32/32 [==============================] - 0s 1ms/step - loss: 5.9277 - accuracy: 0.4870\n",
            "Epoch 84/100\n",
            "32/32 [==============================] - 0s 2ms/step - loss: 5.9274 - accuracy: 0.4870\n",
            "Epoch 85/100\n",
            "32/32 [==============================] - 0s 2ms/step - loss: 5.9269 - accuracy: 0.4870\n",
            "Epoch 86/100\n",
            "32/32 [==============================] - 0s 2ms/step - loss: 5.9266 - accuracy: 0.4870\n",
            "Epoch 87/100\n",
            "32/32 [==============================] - 0s 2ms/step - loss: 5.9262 - accuracy: 0.4870\n",
            "Epoch 88/100\n",
            "32/32 [==============================] - 0s 1ms/step - loss: 5.9258 - accuracy: 0.4870\n",
            "Epoch 89/100\n",
            "32/32 [==============================] - 0s 1ms/step - loss: 5.9254 - accuracy: 0.4870\n",
            "Epoch 90/100\n",
            "32/32 [==============================] - 0s 1ms/step - loss: 5.9251 - accuracy: 0.4870\n",
            "Epoch 91/100\n",
            "32/32 [==============================] - 0s 1ms/step - loss: 5.9247 - accuracy: 0.4870\n",
            "Epoch 92/100\n",
            "32/32 [==============================] - 0s 1ms/step - loss: 5.9244 - accuracy: 0.4870\n",
            "Epoch 93/100\n",
            "32/32 [==============================] - 0s 2ms/step - loss: 5.9241 - accuracy: 0.4870\n",
            "Epoch 94/100\n",
            "32/32 [==============================] - 0s 1ms/step - loss: 5.9236 - accuracy: 0.4870\n",
            "Epoch 95/100\n",
            "32/32 [==============================] - 0s 1ms/step - loss: 5.9233 - accuracy: 0.4870\n",
            "Epoch 96/100\n",
            "32/32 [==============================] - 0s 1ms/step - loss: 5.9229 - accuracy: 0.4870\n",
            "Epoch 97/100\n",
            "32/32 [==============================] - 0s 1ms/step - loss: 5.9045 - accuracy: 0.4870\n",
            "Epoch 98/100\n",
            "32/32 [==============================] - 0s 1ms/step - loss: 5.8911 - accuracy: 0.4860\n",
            "Epoch 99/100\n",
            "32/32 [==============================] - 0s 1ms/step - loss: 5.8807 - accuracy: 0.4860\n",
            "Epoch 100/100\n",
            "32/32 [==============================] - 0s 1ms/step - loss: 5.8687 - accuracy: 0.4860\n"
          ]
        }
      ]
    },
    {
      "cell_type": "code",
      "source": [
        "# time to replicate the multi-layer neural network from TensorFlow playgroup\n",
        "tf.random.set_seed=42\n",
        "\n",
        "#Create the model\n",
        "model_6 = tf.keras.Sequential([\n",
        "                               tf.keras.layers.Dense(4,activation=\"relu\"),\n",
        "                               tf.keras.layers.Dense(4,activation=\"relu\"),\n",
        "                               tf.keras.layers.Dense(1)\n",
        "])\n",
        "#Compile the model\n",
        "model_6.compile(loss=\"binary_crossentropy\", \n",
        "                optimizer=tf.keras.optimizers.Adam(lr=0.001),\n",
        "                metrics=[\"accuracy\"])\n",
        "\n",
        "#Fit the model\n",
        "history = model_6.fit(X, y, epochs=250)\n",
        "\n"
      ],
      "metadata": {
        "colab": {
          "base_uri": "https://localhost:8080/"
        },
        "id": "-VfcgZqUbK-q",
        "outputId": "6b78411d-ef39-4b19-a191-bd2e97e7c97d"
      },
      "execution_count": 37,
      "outputs": [
        {
          "output_type": "stream",
          "name": "stdout",
          "text": [
            "Epoch 1/250\n"
          ]
        },
        {
          "output_type": "stream",
          "name": "stderr",
          "text": [
            "/usr/local/lib/python3.7/dist-packages/keras/optimizer_v2/adam.py:105: UserWarning: The `lr` argument is deprecated, use `learning_rate` instead.\n",
            "  super(Adam, self).__init__(name, **kwargs)\n"
          ]
        },
        {
          "output_type": "stream",
          "name": "stdout",
          "text": [
            "32/32 [==============================] - 1s 2ms/step - loss: 3.7649 - accuracy: 0.5000\n",
            "Epoch 2/250\n",
            "32/32 [==============================] - 0s 2ms/step - loss: 3.1436 - accuracy: 0.5000\n",
            "Epoch 3/250\n",
            "32/32 [==============================] - 0s 1ms/step - loss: 2.7761 - accuracy: 0.5000\n",
            "Epoch 4/250\n",
            "32/32 [==============================] - 0s 2ms/step - loss: 2.5282 - accuracy: 0.5000\n",
            "Epoch 5/250\n",
            "32/32 [==============================] - 0s 2ms/step - loss: 2.3941 - accuracy: 0.5000\n",
            "Epoch 6/250\n",
            "32/32 [==============================] - 0s 2ms/step - loss: 2.2704 - accuracy: 0.4990\n",
            "Epoch 7/250\n",
            "32/32 [==============================] - 0s 2ms/step - loss: 2.1095 - accuracy: 0.4650\n",
            "Epoch 8/250\n",
            "32/32 [==============================] - 0s 1ms/step - loss: 1.9583 - accuracy: 0.4250\n",
            "Epoch 9/250\n",
            "32/32 [==============================] - 0s 2ms/step - loss: 1.7121 - accuracy: 0.4110\n",
            "Epoch 10/250\n",
            "32/32 [==============================] - 0s 2ms/step - loss: 1.5264 - accuracy: 0.4340\n",
            "Epoch 11/250\n",
            "32/32 [==============================] - 0s 2ms/step - loss: 1.3205 - accuracy: 0.4500\n",
            "Epoch 12/250\n",
            "32/32 [==============================] - 0s 2ms/step - loss: 0.8795 - accuracy: 0.4600\n",
            "Epoch 13/250\n",
            "32/32 [==============================] - 0s 1ms/step - loss: 0.8079 - accuracy: 0.4660\n",
            "Epoch 14/250\n",
            "32/32 [==============================] - 0s 2ms/step - loss: 0.7877 - accuracy: 0.4670\n",
            "Epoch 15/250\n",
            "32/32 [==============================] - 0s 2ms/step - loss: 0.7746 - accuracy: 0.4610\n",
            "Epoch 16/250\n",
            "32/32 [==============================] - 0s 2ms/step - loss: 0.7654 - accuracy: 0.4630\n",
            "Epoch 17/250\n",
            "32/32 [==============================] - 0s 2ms/step - loss: 0.7578 - accuracy: 0.4610\n",
            "Epoch 18/250\n",
            "32/32 [==============================] - 0s 2ms/step - loss: 0.7515 - accuracy: 0.4580\n",
            "Epoch 19/250\n",
            "32/32 [==============================] - 0s 1ms/step - loss: 0.7464 - accuracy: 0.4580\n",
            "Epoch 20/250\n",
            "32/32 [==============================] - 0s 2ms/step - loss: 0.7419 - accuracy: 0.4360\n",
            "Epoch 21/250\n",
            "32/32 [==============================] - 0s 2ms/step - loss: 0.7382 - accuracy: 0.4130\n",
            "Epoch 22/250\n",
            "32/32 [==============================] - 0s 2ms/step - loss: 0.7348 - accuracy: 0.3830\n",
            "Epoch 23/250\n",
            "32/32 [==============================] - 0s 1ms/step - loss: 0.7321 - accuracy: 0.3750\n",
            "Epoch 24/250\n",
            "32/32 [==============================] - 0s 1ms/step - loss: 0.7297 - accuracy: 0.3350\n",
            "Epoch 25/250\n",
            "32/32 [==============================] - 0s 1ms/step - loss: 0.7272 - accuracy: 0.3360\n",
            "Epoch 26/250\n",
            "32/32 [==============================] - 0s 2ms/step - loss: 0.7248 - accuracy: 0.3370\n",
            "Epoch 27/250\n",
            "32/32 [==============================] - 0s 2ms/step - loss: 0.7232 - accuracy: 0.3550\n",
            "Epoch 28/250\n",
            "32/32 [==============================] - 0s 2ms/step - loss: 0.7211 - accuracy: 0.3750\n",
            "Epoch 29/250\n",
            "32/32 [==============================] - 0s 1ms/step - loss: 0.7197 - accuracy: 0.3900\n",
            "Epoch 30/250\n",
            "32/32 [==============================] - 0s 1ms/step - loss: 0.7183 - accuracy: 0.4060\n",
            "Epoch 31/250\n",
            "32/32 [==============================] - 0s 2ms/step - loss: 0.7169 - accuracy: 0.4560\n",
            "Epoch 32/250\n",
            "32/32 [==============================] - 0s 2ms/step - loss: 0.7155 - accuracy: 0.4600\n",
            "Epoch 33/250\n",
            "32/32 [==============================] - 0s 2ms/step - loss: 0.7142 - accuracy: 0.4610\n",
            "Epoch 34/250\n",
            "32/32 [==============================] - 0s 1ms/step - loss: 0.7131 - accuracy: 0.4610\n",
            "Epoch 35/250\n",
            "32/32 [==============================] - 0s 1ms/step - loss: 0.7119 - accuracy: 0.4640\n",
            "Epoch 36/250\n",
            "32/32 [==============================] - 0s 2ms/step - loss: 0.7105 - accuracy: 0.4640\n",
            "Epoch 37/250\n",
            "32/32 [==============================] - 0s 2ms/step - loss: 0.7094 - accuracy: 0.4630\n",
            "Epoch 38/250\n",
            "32/32 [==============================] - 0s 2ms/step - loss: 0.7082 - accuracy: 0.4630\n",
            "Epoch 39/250\n",
            "32/32 [==============================] - 0s 2ms/step - loss: 0.7069 - accuracy: 0.4620\n",
            "Epoch 40/250\n",
            "32/32 [==============================] - 0s 2ms/step - loss: 0.7059 - accuracy: 0.4650\n",
            "Epoch 41/250\n",
            "32/32 [==============================] - 0s 1ms/step - loss: 0.7047 - accuracy: 0.4690\n",
            "Epoch 42/250\n",
            "32/32 [==============================] - 0s 1ms/step - loss: 0.7037 - accuracy: 0.4720\n",
            "Epoch 43/250\n",
            "32/32 [==============================] - 0s 2ms/step - loss: 0.7025 - accuracy: 0.4740\n",
            "Epoch 44/250\n",
            "32/32 [==============================] - 0s 2ms/step - loss: 0.7015 - accuracy: 0.4750\n",
            "Epoch 45/250\n",
            "32/32 [==============================] - 0s 2ms/step - loss: 0.7002 - accuracy: 0.4760\n",
            "Epoch 46/250\n",
            "32/32 [==============================] - 0s 1ms/step - loss: 0.6991 - accuracy: 0.4870\n",
            "Epoch 47/250\n",
            "32/32 [==============================] - 0s 2ms/step - loss: 0.6983 - accuracy: 0.5010\n",
            "Epoch 48/250\n",
            "32/32 [==============================] - 0s 1ms/step - loss: 0.6971 - accuracy: 0.4990\n",
            "Epoch 49/250\n",
            "32/32 [==============================] - 0s 1ms/step - loss: 0.6961 - accuracy: 0.5040\n",
            "Epoch 50/250\n",
            "32/32 [==============================] - 0s 2ms/step - loss: 0.6951 - accuracy: 0.5110\n",
            "Epoch 51/250\n",
            "32/32 [==============================] - 0s 2ms/step - loss: 0.6940 - accuracy: 0.5180\n",
            "Epoch 52/250\n",
            "32/32 [==============================] - 0s 2ms/step - loss: 0.6933 - accuracy: 0.5200\n",
            "Epoch 53/250\n",
            "32/32 [==============================] - 0s 2ms/step - loss: 0.6924 - accuracy: 0.5270\n",
            "Epoch 54/250\n",
            "32/32 [==============================] - 0s 2ms/step - loss: 0.6911 - accuracy: 0.5200\n",
            "Epoch 55/250\n",
            "32/32 [==============================] - 0s 2ms/step - loss: 0.6905 - accuracy: 0.5310\n",
            "Epoch 56/250\n",
            "32/32 [==============================] - 0s 2ms/step - loss: 0.6893 - accuracy: 0.5210\n",
            "Epoch 57/250\n",
            "32/32 [==============================] - 0s 2ms/step - loss: 0.6880 - accuracy: 0.5290\n",
            "Epoch 58/250\n",
            "32/32 [==============================] - 0s 2ms/step - loss: 0.6872 - accuracy: 0.5320\n",
            "Epoch 59/250\n",
            "32/32 [==============================] - 0s 2ms/step - loss: 0.6868 - accuracy: 0.5340\n",
            "Epoch 60/250\n",
            "32/32 [==============================] - 0s 1ms/step - loss: 0.6849 - accuracy: 0.5320\n",
            "Epoch 61/250\n",
            "32/32 [==============================] - 0s 1ms/step - loss: 0.6841 - accuracy: 0.5250\n",
            "Epoch 62/250\n",
            "32/32 [==============================] - 0s 2ms/step - loss: 0.6830 - accuracy: 0.5270\n",
            "Epoch 63/250\n",
            "32/32 [==============================] - 0s 2ms/step - loss: 0.6818 - accuracy: 0.5280\n",
            "Epoch 64/250\n",
            "32/32 [==============================] - 0s 2ms/step - loss: 0.6809 - accuracy: 0.5240\n",
            "Epoch 65/250\n",
            "32/32 [==============================] - 0s 1ms/step - loss: 0.6799 - accuracy: 0.5250\n",
            "Epoch 66/250\n",
            "32/32 [==============================] - 0s 2ms/step - loss: 0.6790 - accuracy: 0.5310\n",
            "Epoch 67/250\n",
            "32/32 [==============================] - 0s 1ms/step - loss: 0.6779 - accuracy: 0.5330\n",
            "Epoch 68/250\n",
            "32/32 [==============================] - 0s 2ms/step - loss: 0.6768 - accuracy: 0.5340\n",
            "Epoch 69/250\n",
            "32/32 [==============================] - 0s 1ms/step - loss: 0.6760 - accuracy: 0.5370\n",
            "Epoch 70/250\n",
            "32/32 [==============================] - 0s 2ms/step - loss: 0.6750 - accuracy: 0.5370\n",
            "Epoch 71/250\n",
            "32/32 [==============================] - 0s 2ms/step - loss: 0.6739 - accuracy: 0.5420\n",
            "Epoch 72/250\n",
            "32/32 [==============================] - 0s 2ms/step - loss: 0.6731 - accuracy: 0.5400\n",
            "Epoch 73/250\n",
            "32/32 [==============================] - 0s 2ms/step - loss: 0.6723 - accuracy: 0.5420\n",
            "Epoch 74/250\n",
            "32/32 [==============================] - 0s 2ms/step - loss: 0.6711 - accuracy: 0.5470\n",
            "Epoch 75/250\n",
            "32/32 [==============================] - 0s 1ms/step - loss: 0.6702 - accuracy: 0.5520\n",
            "Epoch 76/250\n",
            "32/32 [==============================] - 0s 2ms/step - loss: 0.6696 - accuracy: 0.5430\n",
            "Epoch 77/250\n",
            "32/32 [==============================] - 0s 2ms/step - loss: 0.6687 - accuracy: 0.5500\n",
            "Epoch 78/250\n",
            "32/32 [==============================] - 0s 2ms/step - loss: 0.6681 - accuracy: 0.5420\n",
            "Epoch 79/250\n",
            "32/32 [==============================] - 0s 2ms/step - loss: 0.6671 - accuracy: 0.5450\n",
            "Epoch 80/250\n",
            "32/32 [==============================] - 0s 1ms/step - loss: 0.6659 - accuracy: 0.5490\n",
            "Epoch 81/250\n",
            "32/32 [==============================] - 0s 1ms/step - loss: 0.6651 - accuracy: 0.5500\n",
            "Epoch 82/250\n",
            "32/32 [==============================] - 0s 2ms/step - loss: 0.6643 - accuracy: 0.5530\n",
            "Epoch 83/250\n",
            "32/32 [==============================] - 0s 1ms/step - loss: 0.6636 - accuracy: 0.5500\n",
            "Epoch 84/250\n",
            "32/32 [==============================] - 0s 1ms/step - loss: 0.6623 - accuracy: 0.5470\n",
            "Epoch 85/250\n",
            "32/32 [==============================] - 0s 2ms/step - loss: 0.6619 - accuracy: 0.5470\n",
            "Epoch 86/250\n",
            "32/32 [==============================] - 0s 1ms/step - loss: 0.6611 - accuracy: 0.5400\n",
            "Epoch 87/250\n",
            "32/32 [==============================] - 0s 2ms/step - loss: 0.6600 - accuracy: 0.5470\n",
            "Epoch 88/250\n",
            "32/32 [==============================] - 0s 1ms/step - loss: 0.6596 - accuracy: 0.5510\n",
            "Epoch 89/250\n",
            "32/32 [==============================] - 0s 2ms/step - loss: 0.6588 - accuracy: 0.5450\n",
            "Epoch 90/250\n",
            "32/32 [==============================] - 0s 2ms/step - loss: 0.6583 - accuracy: 0.5500\n",
            "Epoch 91/250\n",
            "32/32 [==============================] - 0s 2ms/step - loss: 0.6570 - accuracy: 0.5510\n",
            "Epoch 92/250\n",
            "32/32 [==============================] - 0s 2ms/step - loss: 0.6566 - accuracy: 0.5520\n",
            "Epoch 93/250\n",
            "32/32 [==============================] - 0s 2ms/step - loss: 0.6564 - accuracy: 0.5520\n",
            "Epoch 94/250\n",
            "32/32 [==============================] - 0s 2ms/step - loss: 0.6552 - accuracy: 0.5550\n",
            "Epoch 95/250\n",
            "32/32 [==============================] - 0s 1ms/step - loss: 0.6543 - accuracy: 0.5570\n",
            "Epoch 96/250\n",
            "32/32 [==============================] - 0s 2ms/step - loss: 0.6538 - accuracy: 0.5580\n",
            "Epoch 97/250\n",
            "32/32 [==============================] - 0s 1ms/step - loss: 0.6530 - accuracy: 0.5600\n",
            "Epoch 98/250\n",
            "32/32 [==============================] - 0s 2ms/step - loss: 0.6523 - accuracy: 0.5620\n",
            "Epoch 99/250\n",
            "32/32 [==============================] - 0s 2ms/step - loss: 0.6518 - accuracy: 0.5600\n",
            "Epoch 100/250\n",
            "32/32 [==============================] - 0s 1ms/step - loss: 0.6506 - accuracy: 0.5600\n",
            "Epoch 101/250\n",
            "32/32 [==============================] - 0s 2ms/step - loss: 0.6503 - accuracy: 0.5670\n",
            "Epoch 102/250\n",
            "32/32 [==============================] - 0s 2ms/step - loss: 0.6488 - accuracy: 0.5750\n",
            "Epoch 103/250\n",
            "32/32 [==============================] - 0s 2ms/step - loss: 0.6480 - accuracy: 0.5760\n",
            "Epoch 104/250\n",
            "32/32 [==============================] - 0s 2ms/step - loss: 0.6473 - accuracy: 0.5860\n",
            "Epoch 105/250\n",
            "32/32 [==============================] - 0s 2ms/step - loss: 0.6471 - accuracy: 0.5760\n",
            "Epoch 106/250\n",
            "32/32 [==============================] - 0s 1ms/step - loss: 0.6456 - accuracy: 0.5840\n",
            "Epoch 107/250\n",
            "32/32 [==============================] - 0s 1ms/step - loss: 0.6450 - accuracy: 0.5840\n",
            "Epoch 108/250\n",
            "32/32 [==============================] - 0s 1ms/step - loss: 0.6437 - accuracy: 0.5790\n",
            "Epoch 109/250\n",
            "32/32 [==============================] - 0s 2ms/step - loss: 0.6428 - accuracy: 0.5830\n",
            "Epoch 110/250\n",
            "32/32 [==============================] - 0s 2ms/step - loss: 0.6419 - accuracy: 0.5860\n",
            "Epoch 111/250\n",
            "32/32 [==============================] - 0s 2ms/step - loss: 0.6408 - accuracy: 0.5880\n",
            "Epoch 112/250\n",
            "32/32 [==============================] - 0s 2ms/step - loss: 0.6407 - accuracy: 0.5850\n",
            "Epoch 113/250\n",
            "32/32 [==============================] - 0s 2ms/step - loss: 0.6386 - accuracy: 0.5910\n",
            "Epoch 114/250\n",
            "32/32 [==============================] - 0s 1ms/step - loss: 0.6377 - accuracy: 0.5920\n",
            "Epoch 115/250\n",
            "32/32 [==============================] - 0s 1ms/step - loss: 0.6368 - accuracy: 0.5910\n",
            "Epoch 116/250\n",
            "32/32 [==============================] - 0s 2ms/step - loss: 0.6353 - accuracy: 0.5970\n",
            "Epoch 117/250\n",
            "32/32 [==============================] - 0s 2ms/step - loss: 0.6346 - accuracy: 0.5990\n",
            "Epoch 118/250\n",
            "32/32 [==============================] - 0s 1ms/step - loss: 0.6337 - accuracy: 0.5980\n",
            "Epoch 119/250\n",
            "32/32 [==============================] - 0s 1ms/step - loss: 0.6316 - accuracy: 0.6020\n",
            "Epoch 120/250\n",
            "32/32 [==============================] - 0s 1ms/step - loss: 0.6306 - accuracy: 0.6060\n",
            "Epoch 121/250\n",
            "32/32 [==============================] - 0s 2ms/step - loss: 0.6299 - accuracy: 0.6080\n",
            "Epoch 122/250\n",
            "32/32 [==============================] - 0s 2ms/step - loss: 0.6267 - accuracy: 0.6140\n",
            "Epoch 123/250\n",
            "32/32 [==============================] - 0s 2ms/step - loss: 0.6239 - accuracy: 0.6140\n",
            "Epoch 124/250\n",
            "32/32 [==============================] - 0s 1ms/step - loss: 0.6218 - accuracy: 0.6150\n",
            "Epoch 125/250\n",
            "32/32 [==============================] - 0s 2ms/step - loss: 0.6213 - accuracy: 0.6190\n",
            "Epoch 126/250\n",
            "32/32 [==============================] - 0s 2ms/step - loss: 0.6190 - accuracy: 0.6220\n",
            "Epoch 127/250\n",
            "32/32 [==============================] - 0s 2ms/step - loss: 0.6175 - accuracy: 0.6190\n",
            "Epoch 128/250\n",
            "32/32 [==============================] - 0s 2ms/step - loss: 0.6176 - accuracy: 0.6250\n",
            "Epoch 129/250\n",
            "32/32 [==============================] - 0s 2ms/step - loss: 0.6141 - accuracy: 0.6300\n",
            "Epoch 130/250\n",
            "32/32 [==============================] - 0s 2ms/step - loss: 0.6131 - accuracy: 0.6310\n",
            "Epoch 131/250\n",
            "32/32 [==============================] - 0s 2ms/step - loss: 0.6122 - accuracy: 0.6350\n",
            "Epoch 132/250\n",
            "32/32 [==============================] - 0s 2ms/step - loss: 0.6095 - accuracy: 0.6410\n",
            "Epoch 133/250\n",
            "32/32 [==============================] - 0s 2ms/step - loss: 0.6075 - accuracy: 0.6440\n",
            "Epoch 134/250\n",
            "32/32 [==============================] - 0s 2ms/step - loss: 0.6065 - accuracy: 0.6420\n",
            "Epoch 135/250\n",
            "32/32 [==============================] - 0s 2ms/step - loss: 0.6048 - accuracy: 0.6450\n",
            "Epoch 136/250\n",
            "32/32 [==============================] - 0s 2ms/step - loss: 0.6031 - accuracy: 0.6410\n",
            "Epoch 137/250\n",
            "32/32 [==============================] - 0s 2ms/step - loss: 0.6014 - accuracy: 0.6460\n",
            "Epoch 138/250\n",
            "32/32 [==============================] - 0s 2ms/step - loss: 0.5994 - accuracy: 0.6490\n",
            "Epoch 139/250\n",
            "32/32 [==============================] - 0s 2ms/step - loss: 0.5973 - accuracy: 0.6500\n",
            "Epoch 140/250\n",
            "32/32 [==============================] - 0s 1ms/step - loss: 0.5957 - accuracy: 0.6550\n",
            "Epoch 141/250\n",
            "32/32 [==============================] - 0s 1ms/step - loss: 0.5932 - accuracy: 0.6520\n",
            "Epoch 142/250\n",
            "32/32 [==============================] - 0s 2ms/step - loss: 0.5907 - accuracy: 0.6530\n",
            "Epoch 143/250\n",
            "32/32 [==============================] - 0s 2ms/step - loss: 0.5891 - accuracy: 0.6560\n",
            "Epoch 144/250\n",
            "32/32 [==============================] - 0s 1ms/step - loss: 0.5868 - accuracy: 0.6530\n",
            "Epoch 145/250\n",
            "32/32 [==============================] - 0s 1ms/step - loss: 0.5846 - accuracy: 0.6760\n",
            "Epoch 146/250\n",
            "32/32 [==============================] - 0s 2ms/step - loss: 0.5819 - accuracy: 0.6600\n",
            "Epoch 147/250\n",
            "32/32 [==============================] - 0s 2ms/step - loss: 0.5806 - accuracy: 0.6760\n",
            "Epoch 148/250\n",
            "32/32 [==============================] - 0s 2ms/step - loss: 0.5785 - accuracy: 0.6670\n",
            "Epoch 149/250\n",
            "32/32 [==============================] - 0s 1ms/step - loss: 0.5755 - accuracy: 0.6780\n",
            "Epoch 150/250\n",
            "32/32 [==============================] - 0s 2ms/step - loss: 0.5732 - accuracy: 0.6820\n",
            "Epoch 151/250\n",
            "32/32 [==============================] - 0s 2ms/step - loss: 0.5693 - accuracy: 0.6860\n",
            "Epoch 152/250\n",
            "32/32 [==============================] - 0s 2ms/step - loss: 0.5678 - accuracy: 0.6890\n",
            "Epoch 153/250\n",
            "32/32 [==============================] - 0s 2ms/step - loss: 0.5660 - accuracy: 0.6870\n",
            "Epoch 154/250\n",
            "32/32 [==============================] - 0s 2ms/step - loss: 0.5624 - accuracy: 0.6890\n",
            "Epoch 155/250\n",
            "32/32 [==============================] - 0s 1ms/step - loss: 0.5597 - accuracy: 0.7020\n",
            "Epoch 156/250\n",
            "32/32 [==============================] - 0s 2ms/step - loss: 0.5565 - accuracy: 0.7020\n",
            "Epoch 157/250\n",
            "32/32 [==============================] - 0s 2ms/step - loss: 0.5542 - accuracy: 0.7130\n",
            "Epoch 158/250\n",
            "32/32 [==============================] - 0s 1ms/step - loss: 0.5505 - accuracy: 0.7010\n",
            "Epoch 159/250\n",
            "32/32 [==============================] - 0s 2ms/step - loss: 0.5474 - accuracy: 0.7110\n",
            "Epoch 160/250\n",
            "32/32 [==============================] - 0s 2ms/step - loss: 0.5454 - accuracy: 0.7290\n",
            "Epoch 161/250\n",
            "32/32 [==============================] - 0s 1ms/step - loss: 0.5411 - accuracy: 0.7240\n",
            "Epoch 162/250\n",
            "32/32 [==============================] - 0s 2ms/step - loss: 0.5380 - accuracy: 0.7220\n",
            "Epoch 163/250\n",
            "32/32 [==============================] - 0s 2ms/step - loss: 0.5335 - accuracy: 0.7330\n",
            "Epoch 164/250\n",
            "32/32 [==============================] - 0s 2ms/step - loss: 0.5298 - accuracy: 0.7220\n",
            "Epoch 165/250\n",
            "32/32 [==============================] - 0s 1ms/step - loss: 0.5262 - accuracy: 0.7360\n",
            "Epoch 166/250\n",
            "32/32 [==============================] - 0s 2ms/step - loss: 0.5218 - accuracy: 0.7480\n",
            "Epoch 167/250\n",
            "32/32 [==============================] - 0s 2ms/step - loss: 0.5179 - accuracy: 0.7540\n",
            "Epoch 168/250\n",
            "32/32 [==============================] - 0s 1ms/step - loss: 0.5137 - accuracy: 0.7460\n",
            "Epoch 169/250\n",
            "32/32 [==============================] - 0s 2ms/step - loss: 0.5078 - accuracy: 0.7490\n",
            "Epoch 170/250\n",
            "32/32 [==============================] - 0s 1ms/step - loss: 0.4995 - accuracy: 0.7520\n",
            "Epoch 171/250\n",
            "32/32 [==============================] - 0s 2ms/step - loss: 0.4916 - accuracy: 0.7630\n",
            "Epoch 172/250\n",
            "32/32 [==============================] - 0s 2ms/step - loss: 0.4865 - accuracy: 0.7440\n",
            "Epoch 173/250\n",
            "32/32 [==============================] - 0s 2ms/step - loss: 0.4816 - accuracy: 0.7640\n",
            "Epoch 174/250\n",
            "32/32 [==============================] - 0s 2ms/step - loss: 0.4759 - accuracy: 0.7670\n",
            "Epoch 175/250\n",
            "32/32 [==============================] - 0s 2ms/step - loss: 0.4701 - accuracy: 0.7730\n",
            "Epoch 176/250\n",
            "32/32 [==============================] - 0s 2ms/step - loss: 0.4661 - accuracy: 0.7690\n",
            "Epoch 177/250\n",
            "32/32 [==============================] - 0s 1ms/step - loss: 0.4595 - accuracy: 0.7680\n",
            "Epoch 178/250\n",
            "32/32 [==============================] - 0s 1ms/step - loss: 0.4553 - accuracy: 0.7670\n",
            "Epoch 179/250\n",
            "32/32 [==============================] - 0s 1ms/step - loss: 0.4516 - accuracy: 0.7780\n",
            "Epoch 180/250\n",
            "32/32 [==============================] - 0s 2ms/step - loss: 0.4479 - accuracy: 0.7720\n",
            "Epoch 181/250\n",
            "32/32 [==============================] - 0s 2ms/step - loss: 0.4431 - accuracy: 0.7750\n",
            "Epoch 182/250\n",
            "32/32 [==============================] - 0s 2ms/step - loss: 0.4389 - accuracy: 0.7950\n",
            "Epoch 183/250\n",
            "32/32 [==============================] - 0s 1ms/step - loss: 0.4349 - accuracy: 0.7790\n",
            "Epoch 184/250\n",
            "32/32 [==============================] - 0s 2ms/step - loss: 0.4318 - accuracy: 0.7920\n",
            "Epoch 185/250\n",
            "32/32 [==============================] - 0s 1ms/step - loss: 0.4278 - accuracy: 0.7880\n",
            "Epoch 186/250\n",
            "32/32 [==============================] - 0s 2ms/step - loss: 0.4248 - accuracy: 0.8060\n",
            "Epoch 187/250\n",
            "32/32 [==============================] - 0s 1ms/step - loss: 0.4202 - accuracy: 0.8060\n",
            "Epoch 188/250\n",
            "32/32 [==============================] - 0s 2ms/step - loss: 0.4152 - accuracy: 0.7970\n",
            "Epoch 189/250\n",
            "32/32 [==============================] - 0s 2ms/step - loss: 0.4114 - accuracy: 0.7960\n",
            "Epoch 190/250\n",
            "32/32 [==============================] - 0s 1ms/step - loss: 0.4096 - accuracy: 0.7760\n",
            "Epoch 191/250\n",
            "32/32 [==============================] - 0s 2ms/step - loss: 0.4046 - accuracy: 0.7940\n",
            "Epoch 192/250\n",
            "32/32 [==============================] - 0s 2ms/step - loss: 0.3997 - accuracy: 0.7950\n",
            "Epoch 193/250\n",
            "32/32 [==============================] - 0s 1ms/step - loss: 0.3954 - accuracy: 0.7940\n",
            "Epoch 194/250\n",
            "32/32 [==============================] - 0s 2ms/step - loss: 0.3916 - accuracy: 0.7900\n",
            "Epoch 195/250\n",
            "32/32 [==============================] - 0s 2ms/step - loss: 0.3882 - accuracy: 0.7970\n",
            "Epoch 196/250\n",
            "32/32 [==============================] - 0s 2ms/step - loss: 0.3823 - accuracy: 0.7990\n",
            "Epoch 197/250\n",
            "32/32 [==============================] - 0s 2ms/step - loss: 0.3782 - accuracy: 0.8050\n",
            "Epoch 198/250\n",
            "32/32 [==============================] - 0s 2ms/step - loss: 0.3757 - accuracy: 0.8060\n",
            "Epoch 199/250\n",
            "32/32 [==============================] - 0s 2ms/step - loss: 0.3705 - accuracy: 0.8060\n",
            "Epoch 200/250\n",
            "32/32 [==============================] - 0s 2ms/step - loss: 0.3659 - accuracy: 0.8200\n",
            "Epoch 201/250\n",
            "32/32 [==============================] - 0s 2ms/step - loss: 0.3615 - accuracy: 0.8120\n",
            "Epoch 202/250\n",
            "32/32 [==============================] - 0s 2ms/step - loss: 0.3563 - accuracy: 0.8240\n",
            "Epoch 203/250\n",
            "32/32 [==============================] - 0s 2ms/step - loss: 0.3524 - accuracy: 0.8280\n",
            "Epoch 204/250\n",
            "32/32 [==============================] - 0s 2ms/step - loss: 0.3488 - accuracy: 0.8320\n",
            "Epoch 205/250\n",
            "32/32 [==============================] - 0s 2ms/step - loss: 0.3420 - accuracy: 0.8460\n",
            "Epoch 206/250\n",
            "32/32 [==============================] - 0s 2ms/step - loss: 0.3376 - accuracy: 0.8700\n",
            "Epoch 207/250\n",
            "32/32 [==============================] - 0s 1ms/step - loss: 0.3328 - accuracy: 0.8670\n",
            "Epoch 208/250\n",
            "32/32 [==============================] - 0s 2ms/step - loss: 0.3254 - accuracy: 0.8660\n",
            "Epoch 209/250\n",
            "32/32 [==============================] - 0s 2ms/step - loss: 0.3181 - accuracy: 0.8680\n",
            "Epoch 210/250\n",
            "32/32 [==============================] - 0s 1ms/step - loss: 0.3072 - accuracy: 0.8790\n",
            "Epoch 211/250\n",
            "32/32 [==============================] - 0s 2ms/step - loss: 0.2983 - accuracy: 0.8910\n",
            "Epoch 212/250\n",
            "32/32 [==============================] - 0s 2ms/step - loss: 0.2902 - accuracy: 0.8910\n",
            "Epoch 213/250\n",
            "32/32 [==============================] - 0s 2ms/step - loss: 0.2812 - accuracy: 0.9010\n",
            "Epoch 214/250\n",
            "32/32 [==============================] - 0s 2ms/step - loss: 0.2768 - accuracy: 0.9070\n",
            "Epoch 215/250\n",
            "32/32 [==============================] - 0s 2ms/step - loss: 0.2679 - accuracy: 0.9130\n",
            "Epoch 216/250\n",
            "32/32 [==============================] - 0s 2ms/step - loss: 0.2635 - accuracy: 0.9130\n",
            "Epoch 217/250\n",
            "32/32 [==============================] - 0s 2ms/step - loss: 0.2602 - accuracy: 0.9200\n",
            "Epoch 218/250\n",
            "32/32 [==============================] - 0s 2ms/step - loss: 0.2539 - accuracy: 0.9150\n",
            "Epoch 219/250\n",
            "32/32 [==============================] - 0s 2ms/step - loss: 0.2495 - accuracy: 0.9400\n",
            "Epoch 220/250\n",
            "32/32 [==============================] - 0s 2ms/step - loss: 0.2432 - accuracy: 0.9290\n",
            "Epoch 221/250\n",
            "32/32 [==============================] - 0s 2ms/step - loss: 0.2391 - accuracy: 0.9460\n",
            "Epoch 222/250\n",
            "32/32 [==============================] - 0s 2ms/step - loss: 0.2351 - accuracy: 0.9390\n",
            "Epoch 223/250\n",
            "32/32 [==============================] - 0s 2ms/step - loss: 0.2308 - accuracy: 0.9470\n",
            "Epoch 224/250\n",
            "32/32 [==============================] - 0s 2ms/step - loss: 0.2252 - accuracy: 0.9570\n",
            "Epoch 225/250\n",
            "32/32 [==============================] - 0s 2ms/step - loss: 0.2215 - accuracy: 0.9490\n",
            "Epoch 226/250\n",
            "32/32 [==============================] - 0s 1ms/step - loss: 0.2172 - accuracy: 0.9600\n",
            "Epoch 227/250\n",
            "32/32 [==============================] - 0s 2ms/step - loss: 0.2146 - accuracy: 0.9600\n",
            "Epoch 228/250\n",
            "32/32 [==============================] - 0s 2ms/step - loss: 0.2095 - accuracy: 0.9580\n",
            "Epoch 229/250\n",
            "32/32 [==============================] - 0s 2ms/step - loss: 0.2061 - accuracy: 0.9640\n",
            "Epoch 230/250\n",
            "32/32 [==============================] - 0s 2ms/step - loss: 0.2006 - accuracy: 0.9670\n",
            "Epoch 231/250\n",
            "32/32 [==============================] - 0s 2ms/step - loss: 0.1981 - accuracy: 0.9590\n",
            "Epoch 232/250\n",
            "32/32 [==============================] - 0s 2ms/step - loss: 0.1940 - accuracy: 0.9690\n",
            "Epoch 233/250\n",
            "32/32 [==============================] - 0s 2ms/step - loss: 0.1896 - accuracy: 0.9720\n",
            "Epoch 234/250\n",
            "32/32 [==============================] - 0s 2ms/step - loss: 0.1850 - accuracy: 0.9710\n",
            "Epoch 235/250\n",
            "32/32 [==============================] - 0s 2ms/step - loss: 0.1819 - accuracy: 0.9690\n",
            "Epoch 236/250\n",
            "32/32 [==============================] - 0s 2ms/step - loss: 0.1793 - accuracy: 0.9710\n",
            "Epoch 237/250\n",
            "32/32 [==============================] - 0s 2ms/step - loss: 0.1750 - accuracy: 0.9700\n",
            "Epoch 238/250\n",
            "32/32 [==============================] - 0s 2ms/step - loss: 0.1727 - accuracy: 0.9720\n",
            "Epoch 239/250\n",
            "32/32 [==============================] - 0s 2ms/step - loss: 0.1691 - accuracy: 0.9710\n",
            "Epoch 240/250\n",
            "32/32 [==============================] - 0s 2ms/step - loss: 0.1667 - accuracy: 0.9750\n",
            "Epoch 241/250\n",
            "32/32 [==============================] - 0s 2ms/step - loss: 0.1633 - accuracy: 0.9800\n",
            "Epoch 242/250\n",
            "32/32 [==============================] - 0s 2ms/step - loss: 0.1591 - accuracy: 0.9720\n",
            "Epoch 243/250\n",
            "32/32 [==============================] - 0s 2ms/step - loss: 0.1563 - accuracy: 0.9820\n",
            "Epoch 244/250\n",
            "32/32 [==============================] - 0s 2ms/step - loss: 0.1537 - accuracy: 0.9790\n",
            "Epoch 245/250\n",
            "32/32 [==============================] - 0s 2ms/step - loss: 0.1502 - accuracy: 0.9780\n",
            "Epoch 246/250\n",
            "32/32 [==============================] - 0s 2ms/step - loss: 0.1476 - accuracy: 0.9800\n",
            "Epoch 247/250\n",
            "32/32 [==============================] - 0s 2ms/step - loss: 0.1446 - accuracy: 0.9840\n",
            "Epoch 248/250\n",
            "32/32 [==============================] - 0s 2ms/step - loss: 0.1422 - accuracy: 0.9820\n",
            "Epoch 249/250\n",
            "32/32 [==============================] - 0s 2ms/step - loss: 0.1408 - accuracy: 0.9810\n",
            "Epoch 250/250\n",
            "32/32 [==============================] - 0s 2ms/step - loss: 0.1368 - accuracy: 0.9870\n"
          ]
        }
      ]
    },
    {
      "cell_type": "code",
      "source": [
        "plot_decision_boundary(model_6, X, y)"
      ],
      "metadata": {
        "colab": {
          "base_uri": "https://localhost:8080/",
          "height": 282
        },
        "id": "x1zCfu3-iwVT",
        "outputId": "2825a3e1-ad15-4f65-ad5e-60b106a91282"
      },
      "execution_count": 38,
      "outputs": [
        {
          "output_type": "stream",
          "name": "stdout",
          "text": [
            "doing binary classifcation...\n"
          ]
        },
        {
          "output_type": "display_data",
          "data": {
            "text/plain": [
              "<Figure size 432x288 with 1 Axes>"
            ],
            "image/png": "[encoded data removed]"
          },
          "metadata": {
            "needs_background": "light"
          }
        }
      ]
    },
    {
      "cell_type": "code",
      "source": [
        "# time to replicate the multi-layer neural network from TensorFlow playgroup\n",
        "tf.random.set_seed=42\n",
        "\n",
        "#Create the model\n",
        "model_6 = tf.keras.Sequential([\n",
        "                               tf.keras.layers.Dense(4,activation=\"relu\"),\n",
        "                               tf.keras.layers.Dense(4,activation=\"relu\"),\n",
        "                               tf.keras.layers.Dense(1)\n",
        "])\n",
        "#Compile the model\n",
        "model_6.compile(loss=\"binary_crossentropy\", \n",
        "                optimizer=tf.keras.optimizers.Adam(lr=0.001),\n",
        "                metrics=[\"accuracy\"])\n",
        "\n",
        "#Fit the model\n",
        "history = model_6.fit(X, y, epochs=250)"
      ],
      "metadata": {
        "id": "OiKZ1t6gkWXT"
      },
      "execution_count": null,
      "outputs": []
    }
  ]
}